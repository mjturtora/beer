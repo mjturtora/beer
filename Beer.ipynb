{
 "cells": [
  {
   "cell_type": "markdown",
   "id": "95111061-d9a8-48d6-bce5-a84a1a69b9b4",
   "metadata": {},
   "source": [
    "## Beer Alcohol per Calorie (APC)\n",
    "\n",
    "I found a nice table of beer alcohol by volume and calories so I thought I'd try something obvious. Maybe alcohol isn't what drinking beer is all about, but it's definitely also about calories. They don't call it a beer belly for nothing. So maybe **APC** should be a thing? If you've ever wondered about how alcohol and calories play together in your favorite brew, you may find the interactive plotly charts at the bottom of this notebook interesting."
   ]
  },
  {
   "cell_type": "code",
   "execution_count": 34,
   "id": "6e64d63c-4158-4a4f-b9b0-c5e53096f2ee",
   "metadata": {},
   "outputs": [
    {
     "name": "stdout",
     "output_type": "stream",
     "text": [
      "Requirement already satisfied: plotly in c:\\program files\\python\\python 3.7.8\\lib\\site-packages (5.8.2)\n",
      "Requirement already satisfied: tenacity>=6.2.0 in c:\\program files\\python\\python 3.7.8\\lib\\site-packages (from plotly) (8.0.1)\n",
      "Note: you may need to restart the kernel to use updated packages.\n"
     ]
    }
   ],
   "source": [
    "pip install plotly"
   ]
  },
  {
   "cell_type": "code",
   "execution_count": 35,
   "id": "31aa9b67-1f17-424e-88d5-81c51e8015ef",
   "metadata": {},
   "outputs": [],
   "source": [
    "import pandas as pd\n",
    "import lxml\n",
    "from matplotlib import pyplot\n",
    "import plotly.express as px"
   ]
  },
  {
   "cell_type": "markdown",
   "id": "21fc0699-7730-44fe-be55-c6569369af27",
   "metadata": {},
   "source": [
    "**Thank you homebrewacademy.com for the simple to import table!**"
   ]
  },
  {
   "cell_type": "code",
   "execution_count": 36,
   "id": "1563c4f7-c79c-49ba-9aaa-db1d8db71eff",
   "metadata": {},
   "outputs": [],
   "source": [
    "beer = pd.read_html('https://homebrewacademy.com/beer-alcohol-content-list/')"
   ]
  },
  {
   "cell_type": "code",
   "execution_count": 37,
   "id": "4b24abf9-58b0-4207-af12-64ffbb1e7fb8",
   "metadata": {},
   "outputs": [
    {
     "name": "stdout",
     "output_type": "stream",
     "text": [
      "Total tables: 2\n"
     ]
    }
   ],
   "source": [
    "print(f'Total tables: {len(beer)}')"
   ]
  },
  {
   "cell_type": "code",
   "execution_count": 38,
   "id": "de2f6cd5-e221-4aee-b868-77344c8d5cdd",
   "metadata": {},
   "outputs": [
    {
     "data": {
      "text/html": [
       "<div>\n",
       "<style scoped>\n",
       "    .dataframe tbody tr th:only-of-type {\n",
       "        vertical-align: middle;\n",
       "    }\n",
       "\n",
       "    .dataframe tbody tr th {\n",
       "        vertical-align: top;\n",
       "    }\n",
       "\n",
       "    .dataframe thead th {\n",
       "        text-align: right;\n",
       "    }\n",
       "</style>\n",
       "<table border=\"1\" class=\"dataframe\">\n",
       "  <thead>\n",
       "    <tr style=\"text-align: right;\">\n",
       "      <th></th>\n",
       "      <th>Brand</th>\n",
       "      <th>Calories</th>\n",
       "      <th>ABV</th>\n",
       "    </tr>\n",
       "  </thead>\n",
       "  <tbody>\n",
       "    <tr>\n",
       "      <th>0</th>\n",
       "      <td>Abita Amber</td>\n",
       "      <td>128</td>\n",
       "      <td>4.5</td>\n",
       "    </tr>\n",
       "    <tr>\n",
       "      <th>1</th>\n",
       "      <td>Abita Golden</td>\n",
       "      <td>125</td>\n",
       "      <td>4.2</td>\n",
       "    </tr>\n",
       "    <tr>\n",
       "      <th>2</th>\n",
       "      <td>Abita Jockamo IPA</td>\n",
       "      <td>190</td>\n",
       "      <td>6.5</td>\n",
       "    </tr>\n",
       "    <tr>\n",
       "      <th>3</th>\n",
       "      <td>Abita Light</td>\n",
       "      <td>118</td>\n",
       "      <td>4.0</td>\n",
       "    </tr>\n",
       "    <tr>\n",
       "      <th>4</th>\n",
       "      <td>Abita Purple Haze</td>\n",
       "      <td>128</td>\n",
       "      <td>4.2</td>\n",
       "    </tr>\n",
       "  </tbody>\n",
       "</table>\n",
       "</div>"
      ],
      "text/plain": [
       "               Brand  Calories  ABV\n",
       "0        Abita Amber       128  4.5\n",
       "1       Abita Golden       125  4.2\n",
       "2  Abita Jockamo IPA       190  6.5\n",
       "3        Abita Light       118  4.0\n",
       "4  Abita Purple Haze       128  4.2"
      ]
     },
     "execution_count": 38,
     "metadata": {},
     "output_type": "execute_result"
    }
   ],
   "source": [
    "# Need the first table, and need to strip off the '%' symbol and make it a float\n",
    "df = beer[0]\n",
    "df['ABV'] = df['ABV'].str[:-1]\n",
    "df['ABV'] = df['ABV'].astype('float')\n",
    "df.head()"
   ]
  },
  {
   "cell_type": "code",
   "execution_count": 39,
   "id": "0547ef55-308b-4d11-9a8d-c5f893378c0d",
   "metadata": {},
   "outputs": [
    {
     "data": {
      "application/vnd.plotly.v1+json": {
       "config": {
        "plotlyServerURL": "https://plot.ly"
       },
       "data": [
        {
         "customdata": [
          [
           "Abita Amber"
          ],
          [
           "Abita Golden"
          ],
          [
           "Abita Jockamo IPA"
          ],
          [
           "Abita Light"
          ],
          [
           "Abita Purple Haze"
          ],
          [
           "Abita Restoration"
          ],
          [
           "Abita Turbodog"
          ],
          [
           "Amstel Light"
          ],
          [
           "Anchor Porter"
          ],
          [
           "Anchor Steam"
          ],
          [
           "Augustiner Amber Lager"
          ],
          [
           "Bass Ale"
          ],
          [
           "Beach Bum Blonde Ale"
          ],
          [
           "Beck's"
          ],
          [
           "Beck's Light"
          ],
          [
           "Blatz Beer"
          ],
          [
           "Blue Moon Belgian White"
          ],
          [
           "Blue Moon Full Moon Winter Ale"
          ],
          [
           "Blue Moon Harvest Moon Pumpkin Ale"
          ],
          [
           "Blue Moon Honey Moon Summer Ale"
          ],
          [
           "Blue Moon Rising Moon Spring Ale"
          ],
          [
           "Blue Point Toasted Lager"
          ],
          [
           "Boddington's Ale"
          ],
          [
           "Brooklyn Black Chocolate Stout"
          ],
          [
           "Brooklyn Brown Ale"
          ],
          [
           "Brooklyn East India Pale Ale"
          ],
          [
           "Brooklyn Lager"
          ],
          [
           "Brooklyn Monster"
          ],
          [
           "Brooklyn Pennant Pale Ale"
          ],
          [
           "Brooklyn Pilsner"
          ],
          [
           "Brooklyn Summer Ale"
          ],
          [
           "Brooklyn Winter Ale"
          ],
          [
           "Bud American Ale"
          ],
          [
           "Bud Ice"
          ],
          [
           "Bud Light"
          ],
          [
           "Bud Light Chelada Clamato"
          ],
          [
           "Bud Light Lime"
          ],
          [
           "Bud Light Platinum"
          ],
          [
           "Budweiser"
          ],
          [
           "Budweiser Chelada"
          ],
          [
           "Budweiser Select"
          ],
          [
           "Budweiser Select 55"
          ],
          [
           "Busch"
          ],
          [
           "Busch Ice"
          ],
          [
           "Busch Light"
          ],
          [
           "Carling Black Label"
          ],
          [
           "Coors Banquet"
          ],
          [
           "Coors Extra Gold"
          ],
          [
           "Coors Light"
          ],
          [
           "Corona Extra"
          ],
          [
           "Corona Familiar"
          ],
          [
           "Corona Light"
          ],
          [
           "Corona Premier"
          ],
          [
           "Cristal (Peru)"
          ],
          [
           "Cusquena"
          ],
          [
           "Deschutes Black Butte Porter"
          ],
          [
           "Deschutes Fresh Squeezed IPA"
          ],
          [
           "Deschutes Inversion IPA"
          ],
          [
           "Deschutes Mirror Pond Ale"
          ],
          [
           "Dogfish Head 120 Minute IPA"
          ],
          [
           "Dogfish Head 60 Minute IPA"
          ],
          [
           "Dogfish Head 90 Minute IPA"
          ],
          [
           "Dogfish Head Midas Touch"
          ],
          [
           "Dogfish Head Red & White"
          ],
          [
           "Dogfish Head Shelter Pale Ale"
          ],
          [
           "Efes Pils"
          ],
          [
           "Firestone DBA"
          ],
          [
           "Flying Dog Doggie Style Pale Ale"
          ],
          [
           "Flying Dog Double Dog"
          ],
          [
           "Flying Dog Gonzo"
          ],
          [
           "Flying Dog Horn Dog"
          ],
          [
           "Flying Dog In Heat Wheat"
          ],
          [
           "Flying Dog Kerberos Tripel"
          ],
          [
           "Flying Dog Old Scratch Amber Lager"
          ],
          [
           "Flying Dog Raging Bitch"
          ],
          [
           "Flying Dog Road Dog"
          ],
          [
           "Flying Dog Snake Dog IPA"
          ],
          [
           "Flying Dog Tire Bite Golden Ale"
          ],
          [
           "Foster's"
          ],
          [
           "Foster's Premium Ale"
          ],
          [
           "Genesee Beer"
          ],
          [
           "Genesee Cream Ale"
          ],
          [
           "Genesee Ice"
          ],
          [
           "Genesee Red"
          ],
          [
           "George Killian's Irish Red"
          ],
          [
           "Grolsch Amber Ale"
          ],
          [
           "Grolsch Blonde Lager"
          ],
          [
           "Grolsch Light Lager"
          ],
          [
           "Grolsch Premium Lager"
          ],
          [
           "Guinness Draught"
          ],
          [
           "Guinness Extra Stout"
          ],
          [
           "Hamm's Beer"
          ],
          [
           "Hamm's Special Light"
          ],
          [
           "Harbin"
          ],
          [
           "Harp Lager"
          ],
          [
           "Heineken"
          ],
          [
           "Heineken Light"
          ],
          [
           "Hiland Light"
          ],
          [
           "Hoegaarden Belgian White"
          ],
          [
           "Irish Red Ale"
          ],
          [
           "Iron City"
          ],
          [
           "Iron City Light"
          ],
          [
           "Keystone Ice"
          ],
          [
           "Keystone Light"
          ],
          [
           "Keystone Premium"
          ],
          [
           "Kirin"
          ],
          [
           "Kirin Light"
          ],
          [
           "Lagunitas Brown Shugga'"
          ],
          [
           "Lagunitas Hop Stoopid"
          ],
          [
           "Lagunitas IPA"
          ],
          [
           "Lagunitas Little Sumpin' Sumpin' Ale"
          ],
          [
           "Lech"
          ],
          [
           "Leinenkugel Amber Light"
          ],
          [
           "Leinenkugel Creamy Dark"
          ],
          [
           "Leinenkugel Honey Weiss"
          ],
          [
           "Leinenkugel Light"
          ],
          [
           "Leinenkugel Northwoods Lager"
          ],
          [
           "Leinenkugel Original"
          ],
          [
           "Leinenkugel Red"
          ],
          [
           "Leinenkugel Sunset Wheat"
          ],
          [
           "Lowenbrau Dark"
          ],
          [
           "Lowenbrau Special Beer"
          ],
          [
           "Magic Hat #9"
          ],
          [
           "Michael Shea's"
          ],
          [
           "Michelob AmberBock"
          ],
          [
           "Michelob Beer"
          ],
          [
           "Michelob Dunkelweisse"
          ],
          [
           "Michelob Golden Draft"
          ],
          [
           "Michelob Golden Draft Light"
          ],
          [
           "Michelob Honey Lager"
          ],
          [
           "Michelob Light"
          ],
          [
           "Michelob Pale Ale"
          ],
          [
           "Michelob Porter"
          ],
          [
           "Michelob Ultra"
          ],
          [
           "Michelob Ultra Amber"
          ],
          [
           "Michelob Ultra Lime Cactus"
          ],
          [
           "Michelob Ultra Pure Gold"
          ],
          [
           "Mickey's Ice"
          ],
          [
           "Miller Fortune"
          ],
          [
           "Miller Genuine Draft (MGD)"
          ],
          [
           "Miller High Life"
          ],
          [
           "Miller High Life Light"
          ],
          [
           "Miller Lite"
          ],
          [
           "Miller64"
          ],
          [
           "Milwaukee's Best (Premium)"
          ],
          [
           "Milwaukee's Best Ice (Beast Ice)"
          ],
          [
           "Milwaukee's Best Light"
          ],
          [
           "Modelo Especial"
          ],
          [
           "Molson Canadian"
          ],
          [
           "Molson Canadian 67"
          ],
          [
           "Molson Canadian Light"
          ],
          [
           "Molson Ice"
          ],
          [
           "Natty Daddy"
          ],
          [
           "Natural Ice"
          ],
          [
           "Natural Light"
          ],
          [
           "Negra Modelo"
          ],
          [
           "New Belgium 1554"
          ],
          [
           "New Belgium 2 Below"
          ],
          [
           "New Belgium Abbey"
          ],
          [
           "New Belgium Blue Paddle"
          ],
          [
           "New Belgium Fat Tire"
          ],
          [
           "New Belgium Mothership Wit"
          ],
          [
           "New Belgium Skinny Dip"
          ],
          [
           "New Belgium Sunshine Wheat"
          ],
          [
           "New Belgium Trippel"
          ],
          [
           "New Planet Tread Lightly Ale"
          ],
          [
           "Newcastle Brown Ale"
          ],
          [
           "Old Milwaukee Beer"
          ],
          [
           "Old Milwaukee Light"
          ],
          [
           "Olympia Premium Lager"
          ],
          [
           "Ommegang Three Philosophers"
          ],
          [
           "Omission IPA"
          ],
          [
           "Omission Lager"
          ],
          [
           "Omission Pale Ale"
          ],
          [
           "Omission Ultimate Light"
          ],
          [
           "Pabst Blue Ribbon"
          ],
          [
           "Pabst Extra Light Low Alcohol"
          ],
          [
           "Pacifico"
          ],
          [
           "Peroni Nastro Azzurro"
          ],
          [
           "Pete's Wicked Ale"
          ],
          [
           "Pilsner Urquell"
          ],
          [
           "Puppers Premium Lager"
          ],
          [
           "Presidente"
          ],
          [
           "Red Bridge"
          ],
          [
           "Red Dog"
          ],
          [
           "Red Stripe"
          ],
          [
           "Redd's Apple Ale"
          ],
          [
           "Redhook ESB"
          ],
          [
           "Redhook IPA"
          ],
          [
           "Redhook Slim Chance"
          ],
          [
           "Rock Bottom Illuminator Doppelback"
          ],
          [
           "Rogue Dead Guy Ale"
          ],
          [
           "Rolling Rock Extra Pale"
          ],
          [
           "Rolling Rock Green Light"
          ],
          [
           "Rolling Rock Premium Beer"
          ],
          [
           "Russian River Pliny the Elder"
          ],
          [
           "Sam Adams Black Lager"
          ],
          [
           "Sam Adams Blackberry Witbier"
          ],
          [
           "Sam Adams Boston Ale"
          ],
          [
           "Sam Adams Boston Lager"
          ],
          [
           "Sam Adams Brown Ale"
          ],
          [
           "Sam Adams Cherry Wheat"
          ],
          [
           "Sam Adams Coastal Wheat"
          ],
          [
           "Sam Adams Cream Stout"
          ],
          [
           "Sam Adams Hefeweizen"
          ],
          [
           "Sam Adams Honey Porter"
          ],
          [
           "Sam Adams Imperial Double Bock"
          ],
          [
           "Sam Adams Imperial Stout"
          ],
          [
           "Sam Adams Imperial White"
          ],
          [
           "Sam Adams IPA"
          ],
          [
           "Sam Adams Irish Red"
          ],
          [
           "Sam Adams Light"
          ],
          [
           "Sam Adams Octoberfest"
          ],
          [
           "Sam Adams Pale Ale"
          ],
          [
           "Sam Adams Scotch Ale"
          ],
          [
           "Sam Adams Summer Ale"
          ],
          [
           "Sam Adams White Ale"
          ],
          [
           "Sam Adams Winter Lager"
          ],
          [
           "Schaefer Beer"
          ],
          [
           "Schlitz Beer"
          ],
          [
           "Schlitz Light"
          ],
          [
           "Sculpin IPA"
          ],
          [
           "Shipyard Light"
          ],
          [
           "Shock Top"
          ],
          [
           "Sierra Nevada Anniversary Ale"
          ],
          [
           "Sierra Nevada Bigfoot"
          ],
          [
           "Sierra Nevada Celebration Ale"
          ],
          [
           "Sierra Nevada Draft Ale"
          ],
          [
           "Sierra Nevada Early Spring Beer"
          ],
          [
           "Sierra Nevada Harvest Ale"
          ],
          [
           "Sierra Nevada India Pale Ale"
          ],
          [
           "Sierra Nevada Pale Ale"
          ],
          [
           "Sierra Nevada Pale Bock"
          ],
          [
           "Sierra Nevada Porter"
          ],
          [
           "Sierra Nevada Stout"
          ],
          [
           "Sierra Nevada Summerfest"
          ],
          [
           "Sierra Nevada Wheat Beer"
          ],
          [
           "Signature Stroh Beer"
          ],
          [
           "Smithwick's"
          ],
          [
           "Smuttynose Fineskind IPA"
          ],
          [
           "Sol Cerveza"
          ],
          [
           "Southpaw Light"
          ],
          [
           "St. Pauli Girl"
          ],
          [
           "St. Pauli Girl Special Dark"
          ],
          [
           "Stella Artois"
          ],
          [
           "Stone Pale Ale"
          ],
          [
           "Strauss Endless Summer Light"
          ],
          [
           "Stroh's Beer"
          ],
          [
           "Stroh's Light"
          ],
          [
           "Tsingtao"
          ],
          [
           "Tuborg Deluxe Dark Export"
          ],
          [
           "Tuborg Export Quality"
          ],
          [
           "Tyskie"
          ],
          [
           "Victoria"
          ],
          [
           "Weinhard's Amber Light"
          ],
          [
           "Weinhard's Blonde Lager"
          ],
          [
           "Weinhard's Hefeweizen"
          ],
          [
           "Weinhard's Pale Ale"
          ],
          [
           "Weinhard's Private Reserve"
          ],
          [
           "Widmer Hefeweizen"
          ],
          [
           "Winter's Bourbon Cask Ale"
          ],
          [
           "Wyder's Apple Cider"
          ],
          [
           "Wyder's Pear Cider"
          ],
          [
           "Yuengling Lager"
          ],
          [
           "Yuengling Light Lager"
          ],
          [
           "Yuengling Lord Chesterfield Ale"
          ],
          [
           "Yuengling Oktoberfest"
          ],
          [
           "Yuengling Porter"
          ],
          [
           "Yuengling Porter"
          ],
          [
           "Yuengling Premium Beer"
          ]
         ],
         "hovertemplate": "Calories=%{x}<br>ABV=%{y}<br>Brand=%{customdata[0]}<extra></extra>",
         "legendgroup": "",
         "marker": {
          "color": "#636efa",
          "symbol": "circle"
         },
         "mode": "markers",
         "name": "",
         "orientation": "v",
         "showlegend": false,
         "type": "scatter",
         "x": [
          128,
          125,
          190,
          118,
          128,
          167,
          168,
          99,
          209,
          153,
          135,
          156,
          163,
          143,
          64,
          153,
          164,
          180,
          180,
          157,
          161,
          175,
          148,
          320,
          190,
          200,
          170,
          305,
          160,
          155,
          150,
          205,
          182,
          123,
          110,
          151,
          116,
          137,
          145,
          186,
          99,
          55,
          114,
          136,
          95,
          138,
          147,
          152,
          102,
          149,
          154,
          99,
          90,
          132,
          141,
          192,
          225,
          228,
          170,
          450,
          209,
          294,
          307,
          310,
          168,
          170,
          166,
          150,
          313,
          271,
          314,
          138,
          238,
          154,
          221,
          163,
          188,
          129,
          146,
          161,
          148,
          162,
          156,
          148,
          168,
          160,
          120,
          97,
          142,
          125,
          153,
          142,
          110,
          144,
          155,
          150,
          99,
          97,
          153,
          196,
          140,
          95,
          142,
          104,
          111,
          147,
          95,
          335,
          285,
          194,
          230,
          143,
          110,
          170,
          149,
          105,
          163,
          152,
          166,
          165,
          160,
          160,
          153,
          145,
          155,
          164,
          167,
          152,
          110,
          174,
          123,
          187,
          187,
          95,
          95,
          95,
          85,
          157,
          186,
          140,
          141,
          107,
          96,
          64,
          142,
          173,
          96,
          145,
          136,
          67,
          113,
          160,
          183,
          130,
          95,
          170,
          205,
          200,
          200,
          140,
          160,
          155,
          110,
          145,
          215,
          125,
          150,
          145,
          110,
          146,
          290,
          195,
          140,
          175,
          99,
          144,
          67,
          145,
          149,
          174,
          156,
          120,
          147,
          160,
          147,
          153,
          165,
          179,
          188,
          125,
          288,
          216,
          142,
          83,
          132,
          236,
          191,
          176,
          188,
          175,
          159,
          180,
          167,
          190,
          182,
          192,
          320,
          316,
          328,
          175,
          180,
          119,
          180,
          160,
          200,
          160,
          175,
          200,
          142,
          146,
          110,
          228,
          97,
          168,
          190,
          330,
          214,
          157,
          190,
          215,
          231,
          175,
          218,
          194,
          225,
          158,
          153,
          153,
          150,
          200,
          128,
          123,
          148,
          150,
          154,
          188,
          110,
          149,
          113,
          157,
          163,
          156,
          149,
          135,
          135,
          161,
          151,
          147,
          150,
          159,
          165,
          150,
          136,
          140,
          99,
          158,
          168,
          160,
          160,
          141
         ],
         "xaxis": "x",
         "y": [
          4.5,
          4.2,
          6.5,
          4,
          4.2,
          5,
          5.6,
          4.1,
          5.6,
          4.9,
          4.3,
          5,
          5.4,
          5,
          2.3,
          4.8,
          5.36,
          5.52,
          5.76,
          5.12,
          5.4,
          5.3,
          4.7,
          10,
          5.6,
          6.9,
          5.2,
          10.1,
          5,
          5.1,
          5,
          6.1,
          5.3,
          5.5,
          4.2,
          4.2,
          4.2,
          6,
          5,
          5,
          4.3,
          2.4,
          4.3,
          5.9,
          4.1,
          4.3,
          5,
          4.97,
          4.2,
          4.6,
          4.8,
          4.1,
          4,
          4.6,
          4.8,
          5.2,
          6.4,
          6.8,
          5,
          18,
          6,
          9,
          9,
          10,
          5,
          5,
          5,
          5.5,
          11.5,
          9.2,
          10.2,
          4.7,
          8.5,
          5.5,
          8.3,
          6,
          7.1,
          5.1,
          5,
          5.5,
          4.5,
          5.1,
          5.9,
          4.9,
          5.4,
          5.4,
          2.8,
          3.6,
          5,
          4.27,
          5,
          4.7,
          3.8,
          4.6,
          5.2,
          5,
          4.2,
          4,
          4.9,
          5.7,
          4.5,
          4.15,
          5.9,
          4.13,
          4.43,
          5,
          3.2,
          9.7,
          8,
          6.2,
          7.5,
          4.9,
          4.14,
          4.94,
          4.92,
          4.19,
          4.94,
          4.67,
          4.94,
          4.9,
          5,
          5.2,
          5.1,
          4.62,
          5.2,
          5,
          5.5,
          4.7,
          4.1,
          4.9,
          4.3,
          5.6,
          5.9,
          4.2,
          4,
          4,
          4.3,
          5.8,
          6.9,
          4.6,
          4.6,
          4.1,
          4.2,
          2.8,
          4.8,
          5.9,
          4.1,
          4.4,
          5,
          3,
          3.9,
          5.6,
          8,
          5.9,
          4.2,
          5.4,
          5.6,
          6.6,
          7,
          4.8,
          5.2,
          4.8,
          4.2,
          4.8,
          7.8,
          5,
          4.7,
          4.6,
          3.82,
          4.7,
          9.7,
          6.7,
          4.6,
          5.8,
          4.2,
          4.74,
          2.5,
          4.4,
          5.1,
          5.3,
          4.4,
          4,
          5,
          4.8,
          5,
          4.9,
          5,
          5.77,
          6.5,
          3.9,
          6.67,
          6.8,
          4.6,
          3.7,
          4.5,
          8,
          4.9,
          5.5,
          5.4,
          5,
          5.35,
          5.4,
          5.3,
          4.9,
          5.4,
          5.45,
          9.5,
          9.2,
          10.3,
          5.93,
          5.5,
          4.3,
          5.4,
          5.4,
          5.4,
          5.3,
          5.4,
          5.8,
          4.6,
          4.7,
          4.2,
          7,
          3.9,
          5.2,
          5.9,
          9.6,
          6.8,
          5,
          5.9,
          6.7,
          6.9,
          5.6,
          7,
          5.6,
          5.8,
          5,
          4.4,
          4.8,
          4.5,
          6.9,
          4.2,
          5,
          4.9,
          4.8,
          5.2,
          5.64,
          3.3,
          4.6,
          4.4,
          4.8,
          5.1,
          5,
          5.3,
          4.04,
          4.2,
          5.1,
          4.9,
          4.6,
          4.8,
          4.9,
          6,
          5,
          5,
          4.5,
          3.8,
          5.4,
          5.4,
          4.7,
          4.7,
          4.5
         ],
         "yaxis": "y"
        }
       ],
       "layout": {
        "height": 400,
        "legend": {
         "tracegroupgap": 0
        },
        "margin": {
         "t": 60
        },
        "template": {
         "data": {
          "bar": [
           {
            "error_x": {
             "color": "#2a3f5f"
            },
            "error_y": {
             "color": "#2a3f5f"
            },
            "marker": {
             "line": {
              "color": "#E5ECF6",
              "width": 0.5
             },
             "pattern": {
              "fillmode": "overlay",
              "size": 10,
              "solidity": 0.2
             }
            },
            "type": "bar"
           }
          ],
          "barpolar": [
           {
            "marker": {
             "line": {
              "color": "#E5ECF6",
              "width": 0.5
             },
             "pattern": {
              "fillmode": "overlay",
              "size": 10,
              "solidity": 0.2
             }
            },
            "type": "barpolar"
           }
          ],
          "carpet": [
           {
            "aaxis": {
             "endlinecolor": "#2a3f5f",
             "gridcolor": "white",
             "linecolor": "white",
             "minorgridcolor": "white",
             "startlinecolor": "#2a3f5f"
            },
            "baxis": {
             "endlinecolor": "#2a3f5f",
             "gridcolor": "white",
             "linecolor": "white",
             "minorgridcolor": "white",
             "startlinecolor": "#2a3f5f"
            },
            "type": "carpet"
           }
          ],
          "choropleth": [
           {
            "colorbar": {
             "outlinewidth": 0,
             "ticks": ""
            },
            "type": "choropleth"
           }
          ],
          "contour": [
           {
            "colorbar": {
             "outlinewidth": 0,
             "ticks": ""
            },
            "colorscale": [
             [
              0,
              "#0d0887"
             ],
             [
              0.1111111111111111,
              "#46039f"
             ],
             [
              0.2222222222222222,
              "#7201a8"
             ],
             [
              0.3333333333333333,
              "#9c179e"
             ],
             [
              0.4444444444444444,
              "#bd3786"
             ],
             [
              0.5555555555555556,
              "#d8576b"
             ],
             [
              0.6666666666666666,
              "#ed7953"
             ],
             [
              0.7777777777777778,
              "#fb9f3a"
             ],
             [
              0.8888888888888888,
              "#fdca26"
             ],
             [
              1,
              "#f0f921"
             ]
            ],
            "type": "contour"
           }
          ],
          "contourcarpet": [
           {
            "colorbar": {
             "outlinewidth": 0,
             "ticks": ""
            },
            "type": "contourcarpet"
           }
          ],
          "heatmap": [
           {
            "colorbar": {
             "outlinewidth": 0,
             "ticks": ""
            },
            "colorscale": [
             [
              0,
              "#0d0887"
             ],
             [
              0.1111111111111111,
              "#46039f"
             ],
             [
              0.2222222222222222,
              "#7201a8"
             ],
             [
              0.3333333333333333,
              "#9c179e"
             ],
             [
              0.4444444444444444,
              "#bd3786"
             ],
             [
              0.5555555555555556,
              "#d8576b"
             ],
             [
              0.6666666666666666,
              "#ed7953"
             ],
             [
              0.7777777777777778,
              "#fb9f3a"
             ],
             [
              0.8888888888888888,
              "#fdca26"
             ],
             [
              1,
              "#f0f921"
             ]
            ],
            "type": "heatmap"
           }
          ],
          "heatmapgl": [
           {
            "colorbar": {
             "outlinewidth": 0,
             "ticks": ""
            },
            "colorscale": [
             [
              0,
              "#0d0887"
             ],
             [
              0.1111111111111111,
              "#46039f"
             ],
             [
              0.2222222222222222,
              "#7201a8"
             ],
             [
              0.3333333333333333,
              "#9c179e"
             ],
             [
              0.4444444444444444,
              "#bd3786"
             ],
             [
              0.5555555555555556,
              "#d8576b"
             ],
             [
              0.6666666666666666,
              "#ed7953"
             ],
             [
              0.7777777777777778,
              "#fb9f3a"
             ],
             [
              0.8888888888888888,
              "#fdca26"
             ],
             [
              1,
              "#f0f921"
             ]
            ],
            "type": "heatmapgl"
           }
          ],
          "histogram": [
           {
            "marker": {
             "pattern": {
              "fillmode": "overlay",
              "size": 10,
              "solidity": 0.2
             }
            },
            "type": "histogram"
           }
          ],
          "histogram2d": [
           {
            "colorbar": {
             "outlinewidth": 0,
             "ticks": ""
            },
            "colorscale": [
             [
              0,
              "#0d0887"
             ],
             [
              0.1111111111111111,
              "#46039f"
             ],
             [
              0.2222222222222222,
              "#7201a8"
             ],
             [
              0.3333333333333333,
              "#9c179e"
             ],
             [
              0.4444444444444444,
              "#bd3786"
             ],
             [
              0.5555555555555556,
              "#d8576b"
             ],
             [
              0.6666666666666666,
              "#ed7953"
             ],
             [
              0.7777777777777778,
              "#fb9f3a"
             ],
             [
              0.8888888888888888,
              "#fdca26"
             ],
             [
              1,
              "#f0f921"
             ]
            ],
            "type": "histogram2d"
           }
          ],
          "histogram2dcontour": [
           {
            "colorbar": {
             "outlinewidth": 0,
             "ticks": ""
            },
            "colorscale": [
             [
              0,
              "#0d0887"
             ],
             [
              0.1111111111111111,
              "#46039f"
             ],
             [
              0.2222222222222222,
              "#7201a8"
             ],
             [
              0.3333333333333333,
              "#9c179e"
             ],
             [
              0.4444444444444444,
              "#bd3786"
             ],
             [
              0.5555555555555556,
              "#d8576b"
             ],
             [
              0.6666666666666666,
              "#ed7953"
             ],
             [
              0.7777777777777778,
              "#fb9f3a"
             ],
             [
              0.8888888888888888,
              "#fdca26"
             ],
             [
              1,
              "#f0f921"
             ]
            ],
            "type": "histogram2dcontour"
           }
          ],
          "mesh3d": [
           {
            "colorbar": {
             "outlinewidth": 0,
             "ticks": ""
            },
            "type": "mesh3d"
           }
          ],
          "parcoords": [
           {
            "line": {
             "colorbar": {
              "outlinewidth": 0,
              "ticks": ""
             }
            },
            "type": "parcoords"
           }
          ],
          "pie": [
           {
            "automargin": true,
            "type": "pie"
           }
          ],
          "scatter": [
           {
            "fillpattern": {
             "fillmode": "overlay",
             "size": 10,
             "solidity": 0.2
            },
            "type": "scatter"
           }
          ],
          "scatter3d": [
           {
            "line": {
             "colorbar": {
              "outlinewidth": 0,
              "ticks": ""
             }
            },
            "marker": {
             "colorbar": {
              "outlinewidth": 0,
              "ticks": ""
             }
            },
            "type": "scatter3d"
           }
          ],
          "scattercarpet": [
           {
            "marker": {
             "colorbar": {
              "outlinewidth": 0,
              "ticks": ""
             }
            },
            "type": "scattercarpet"
           }
          ],
          "scattergeo": [
           {
            "marker": {
             "colorbar": {
              "outlinewidth": 0,
              "ticks": ""
             }
            },
            "type": "scattergeo"
           }
          ],
          "scattergl": [
           {
            "marker": {
             "colorbar": {
              "outlinewidth": 0,
              "ticks": ""
             }
            },
            "type": "scattergl"
           }
          ],
          "scattermapbox": [
           {
            "marker": {
             "colorbar": {
              "outlinewidth": 0,
              "ticks": ""
             }
            },
            "type": "scattermapbox"
           }
          ],
          "scatterpolar": [
           {
            "marker": {
             "colorbar": {
              "outlinewidth": 0,
              "ticks": ""
             }
            },
            "type": "scatterpolar"
           }
          ],
          "scatterpolargl": [
           {
            "marker": {
             "colorbar": {
              "outlinewidth": 0,
              "ticks": ""
             }
            },
            "type": "scatterpolargl"
           }
          ],
          "scatterternary": [
           {
            "marker": {
             "colorbar": {
              "outlinewidth": 0,
              "ticks": ""
             }
            },
            "type": "scatterternary"
           }
          ],
          "surface": [
           {
            "colorbar": {
             "outlinewidth": 0,
             "ticks": ""
            },
            "colorscale": [
             [
              0,
              "#0d0887"
             ],
             [
              0.1111111111111111,
              "#46039f"
             ],
             [
              0.2222222222222222,
              "#7201a8"
             ],
             [
              0.3333333333333333,
              "#9c179e"
             ],
             [
              0.4444444444444444,
              "#bd3786"
             ],
             [
              0.5555555555555556,
              "#d8576b"
             ],
             [
              0.6666666666666666,
              "#ed7953"
             ],
             [
              0.7777777777777778,
              "#fb9f3a"
             ],
             [
              0.8888888888888888,
              "#fdca26"
             ],
             [
              1,
              "#f0f921"
             ]
            ],
            "type": "surface"
           }
          ],
          "table": [
           {
            "cells": {
             "fill": {
              "color": "#EBF0F8"
             },
             "line": {
              "color": "white"
             }
            },
            "header": {
             "fill": {
              "color": "#C8D4E3"
             },
             "line": {
              "color": "white"
             }
            },
            "type": "table"
           }
          ]
         },
         "layout": {
          "annotationdefaults": {
           "arrowcolor": "#2a3f5f",
           "arrowhead": 0,
           "arrowwidth": 1
          },
          "autotypenumbers": "strict",
          "coloraxis": {
           "colorbar": {
            "outlinewidth": 0,
            "ticks": ""
           }
          },
          "colorscale": {
           "diverging": [
            [
             0,
             "#8e0152"
            ],
            [
             0.1,
             "#c51b7d"
            ],
            [
             0.2,
             "#de77ae"
            ],
            [
             0.3,
             "#f1b6da"
            ],
            [
             0.4,
             "#fde0ef"
            ],
            [
             0.5,
             "#f7f7f7"
            ],
            [
             0.6,
             "#e6f5d0"
            ],
            [
             0.7,
             "#b8e186"
            ],
            [
             0.8,
             "#7fbc41"
            ],
            [
             0.9,
             "#4d9221"
            ],
            [
             1,
             "#276419"
            ]
           ],
           "sequential": [
            [
             0,
             "#0d0887"
            ],
            [
             0.1111111111111111,
             "#46039f"
            ],
            [
             0.2222222222222222,
             "#7201a8"
            ],
            [
             0.3333333333333333,
             "#9c179e"
            ],
            [
             0.4444444444444444,
             "#bd3786"
            ],
            [
             0.5555555555555556,
             "#d8576b"
            ],
            [
             0.6666666666666666,
             "#ed7953"
            ],
            [
             0.7777777777777778,
             "#fb9f3a"
            ],
            [
             0.8888888888888888,
             "#fdca26"
            ],
            [
             1,
             "#f0f921"
            ]
           ],
           "sequentialminus": [
            [
             0,
             "#0d0887"
            ],
            [
             0.1111111111111111,
             "#46039f"
            ],
            [
             0.2222222222222222,
             "#7201a8"
            ],
            [
             0.3333333333333333,
             "#9c179e"
            ],
            [
             0.4444444444444444,
             "#bd3786"
            ],
            [
             0.5555555555555556,
             "#d8576b"
            ],
            [
             0.6666666666666666,
             "#ed7953"
            ],
            [
             0.7777777777777778,
             "#fb9f3a"
            ],
            [
             0.8888888888888888,
             "#fdca26"
            ],
            [
             1,
             "#f0f921"
            ]
           ]
          },
          "colorway": [
           "#636efa",
           "#EF553B",
           "#00cc96",
           "#ab63fa",
           "#FFA15A",
           "#19d3f3",
           "#FF6692",
           "#B6E880",
           "#FF97FF",
           "#FECB52"
          ],
          "font": {
           "color": "#2a3f5f"
          },
          "geo": {
           "bgcolor": "white",
           "lakecolor": "white",
           "landcolor": "#E5ECF6",
           "showlakes": true,
           "showland": true,
           "subunitcolor": "white"
          },
          "hoverlabel": {
           "align": "left"
          },
          "hovermode": "closest",
          "mapbox": {
           "style": "light"
          },
          "paper_bgcolor": "white",
          "plot_bgcolor": "#E5ECF6",
          "polar": {
           "angularaxis": {
            "gridcolor": "white",
            "linecolor": "white",
            "ticks": ""
           },
           "bgcolor": "#E5ECF6",
           "radialaxis": {
            "gridcolor": "white",
            "linecolor": "white",
            "ticks": ""
           }
          },
          "scene": {
           "xaxis": {
            "backgroundcolor": "#E5ECF6",
            "gridcolor": "white",
            "gridwidth": 2,
            "linecolor": "white",
            "showbackground": true,
            "ticks": "",
            "zerolinecolor": "white"
           },
           "yaxis": {
            "backgroundcolor": "#E5ECF6",
            "gridcolor": "white",
            "gridwidth": 2,
            "linecolor": "white",
            "showbackground": true,
            "ticks": "",
            "zerolinecolor": "white"
           },
           "zaxis": {
            "backgroundcolor": "#E5ECF6",
            "gridcolor": "white",
            "gridwidth": 2,
            "linecolor": "white",
            "showbackground": true,
            "ticks": "",
            "zerolinecolor": "white"
           }
          },
          "shapedefaults": {
           "line": {
            "color": "#2a3f5f"
           }
          },
          "ternary": {
           "aaxis": {
            "gridcolor": "white",
            "linecolor": "white",
            "ticks": ""
           },
           "baxis": {
            "gridcolor": "white",
            "linecolor": "white",
            "ticks": ""
           },
           "bgcolor": "#E5ECF6",
           "caxis": {
            "gridcolor": "white",
            "linecolor": "white",
            "ticks": ""
           }
          },
          "title": {
           "x": 0.05
          },
          "xaxis": {
           "automargin": true,
           "gridcolor": "white",
           "linecolor": "white",
           "ticks": "",
           "title": {
            "standoff": 15
           },
           "zerolinecolor": "white",
           "zerolinewidth": 2
          },
          "yaxis": {
           "automargin": true,
           "gridcolor": "white",
           "linecolor": "white",
           "ticks": "",
           "title": {
            "standoff": 15
           },
           "zerolinecolor": "white",
           "zerolinewidth": 2
          }
         }
        },
        "width": 400,
        "xaxis": {
         "anchor": "y",
         "autorange": true,
         "domain": [
          0,
          1
         ],
         "range": [
          25.16187050359712,
          479.83812949640287
         ],
         "title": {
          "text": "Calories"
         },
         "type": "linear"
        },
        "yaxis": {
         "anchor": "x",
         "autorange": true,
         "domain": [
          0,
          1
         ],
         "range": [
          1.138962472406181,
          19.16103752759382
         ],
         "title": {
          "text": "ABV"
         },
         "type": "linear"
        }
       }
      },
      "image/png": "[encoded data removed]",
      "text/html": [
       "<div>                            <div id=\"ed7e2bd7-cf66-4570-9513-97ebd57a39f2\" class=\"plotly-graph-div\" style=\"height:400px; width:400px;\"></div>            <script type=\"text/javascript\">                require([\"plotly\"], function(Plotly) {                    window.PLOTLYENV=window.PLOTLYENV || {};                                    if (document.getElementById(\"ed7e2bd7-cf66-4570-9513-97ebd57a39f2\")) {                    Plotly.newPlot(                        \"ed7e2bd7-cf66-4570-9513-97ebd57a39f2\",                        [{\"customdata\":[[\"Abita Amber\"],[\"Abita Golden\"],[\"Abita Jockamo IPA\"],[\"Abita Light\"],[\"Abita Purple Haze\"],[\"Abita Restoration\"],[\"Abita Turbodog\"],[\"Amstel Light\"],[\"Anchor Porter\"],[\"Anchor Steam\"],[\"Augustiner Amber Lager\"],[\"Bass Ale\"],[\"Beach Bum Blonde Ale\"],[\"Beck's\"],[\"Beck's Light\"],[\"Blatz Beer\"],[\"Blue Moon Belgian White\"],[\"Blue Moon Full Moon Winter Ale\"],[\"Blue Moon Harvest Moon Pumpkin Ale\"],[\"Blue Moon Honey Moon Summer Ale\"],[\"Blue Moon Rising Moon Spring Ale\"],[\"Blue Point Toasted Lager\"],[\"Boddington's Ale\"],[\"Brooklyn Black Chocolate Stout\"],[\"Brooklyn Brown Ale\"],[\"Brooklyn East India Pale Ale\"],[\"Brooklyn Lager\"],[\"Brooklyn Monster\"],[\"Brooklyn Pennant Pale Ale\"],[\"Brooklyn Pilsner\"],[\"Brooklyn Summer Ale\"],[\"Brooklyn Winter Ale\"],[\"Bud American Ale\"],[\"Bud Ice\"],[\"Bud Light\"],[\"Bud Light Chelada Clamato\"],[\"Bud Light Lime\"],[\"Bud Light Platinum\"],[\"Budweiser\"],[\"Budweiser Chelada\"],[\"Budweiser Select\"],[\"Budweiser Select 55\"],[\"Busch\"],[\"Busch Ice\"],[\"Busch Light\"],[\"Carling Black Label\"],[\"Coors Banquet\"],[\"Coors Extra Gold\"],[\"Coors Light\"],[\"Corona Extra\"],[\"Corona Familiar\"],[\"Corona Light\"],[\"Corona Premier\"],[\"Cristal (Peru)\"],[\"Cusquena\"],[\"Deschutes Black Butte Porter\"],[\"Deschutes Fresh Squeezed IPA\"],[\"Deschutes Inversion IPA\"],[\"Deschutes Mirror Pond Ale\"],[\"Dogfish Head 120 Minute IPA\"],[\"Dogfish Head 60 Minute IPA\"],[\"Dogfish Head 90 Minute IPA\"],[\"Dogfish Head Midas Touch\"],[\"Dogfish Head Red & White\"],[\"Dogfish Head Shelter Pale Ale\"],[\"Efes Pils\"],[\"Firestone DBA\"],[\"Flying Dog Doggie Style Pale Ale\"],[\"Flying Dog Double Dog\"],[\"Flying Dog Gonzo\"],[\"Flying Dog Horn Dog\"],[\"Flying Dog In Heat Wheat\"],[\"Flying Dog Kerberos Tripel\"],[\"Flying Dog Old Scratch Amber Lager\"],[\"Flying Dog Raging Bitch\"],[\"Flying Dog Road Dog\"],[\"Flying Dog Snake Dog IPA\"],[\"Flying Dog Tire Bite Golden Ale\"],[\"Foster's\"],[\"Foster's Premium Ale\"],[\"Genesee Beer\"],[\"Genesee Cream Ale\"],[\"Genesee Ice\"],[\"Genesee Red\"],[\"George Killian's Irish Red\"],[\"Grolsch Amber Ale\"],[\"Grolsch Blonde Lager\"],[\"Grolsch Light Lager\"],[\"Grolsch Premium Lager\"],[\"Guinness Draught\"],[\"Guinness Extra Stout\"],[\"Hamm's Beer\"],[\"Hamm's Special Light\"],[\"Harbin\"],[\"Harp Lager\"],[\"Heineken\"],[\"Heineken Light\"],[\"Hiland Light\"],[\"Hoegaarden Belgian White\"],[\"Irish Red Ale\"],[\"Iron City\"],[\"Iron City Light\"],[\"Keystone Ice\"],[\"Keystone Light\"],[\"Keystone Premium\"],[\"Kirin\"],[\"Kirin Light\"],[\"Lagunitas Brown Shugga'\"],[\"Lagunitas Hop Stoopid\"],[\"Lagunitas IPA\"],[\"Lagunitas Little Sumpin' Sumpin' Ale\"],[\"Lech\"],[\"Leinenkugel Amber Light\"],[\"Leinenkugel Creamy Dark\"],[\"Leinenkugel Honey Weiss\"],[\"Leinenkugel Light\"],[\"Leinenkugel Northwoods Lager\"],[\"Leinenkugel Original\"],[\"Leinenkugel Red\"],[\"Leinenkugel Sunset Wheat\"],[\"Lowenbrau Dark\"],[\"Lowenbrau Special Beer\"],[\"Magic Hat #9\"],[\"Michael Shea's\"],[\"Michelob AmberBock\"],[\"Michelob Beer\"],[\"Michelob Dunkelweisse\"],[\"Michelob Golden Draft\"],[\"Michelob Golden Draft Light\"],[\"Michelob Honey Lager\"],[\"Michelob Light\"],[\"Michelob Pale Ale\"],[\"Michelob Porter\"],[\"Michelob Ultra\"],[\"Michelob Ultra Amber\"],[\"Michelob Ultra Lime Cactus\"],[\"Michelob Ultra Pure Gold\"],[\"Mickey's Ice\"],[\"Miller Fortune\"],[\"Miller Genuine Draft (MGD)\"],[\"Miller High Life\"],[\"Miller High Life Light\"],[\"Miller Lite\"],[\"Miller64\"],[\"Milwaukee's Best (Premium)\"],[\"Milwaukee's Best Ice (Beast Ice)\"],[\"Milwaukee's Best Light\"],[\"Modelo Especial\"],[\"Molson Canadian\"],[\"Molson Canadian 67\"],[\"Molson Canadian Light\"],[\"Molson Ice\"],[\"Natty Daddy\"],[\"Natural Ice\"],[\"Natural Light\"],[\"Negra Modelo\"],[\"New Belgium 1554\"],[\"New Belgium 2 Below\"],[\"New Belgium Abbey\"],[\"New Belgium Blue Paddle\"],[\"New Belgium Fat Tire\"],[\"New Belgium Mothership Wit\"],[\"New Belgium Skinny Dip\"],[\"New Belgium Sunshine Wheat\"],[\"New Belgium Trippel\"],[\"New Planet Tread Lightly Ale\"],[\"Newcastle Brown Ale\"],[\"Old Milwaukee Beer\"],[\"Old Milwaukee Light\"],[\"Olympia Premium Lager\"],[\"Ommegang Three Philosophers\"],[\"Omission IPA\"],[\"Omission Lager\"],[\"Omission Pale Ale\"],[\"Omission Ultimate Light\"],[\"Pabst Blue Ribbon\"],[\"Pabst Extra Light Low Alcohol\"],[\"Pacifico\"],[\"Peroni Nastro Azzurro\"],[\"Pete's Wicked Ale\"],[\"Pilsner Urquell\"],[\"Puppers Premium Lager\"],[\"Presidente\"],[\"Red Bridge\"],[\"Red Dog\"],[\"Red Stripe\"],[\"Redd's Apple Ale\"],[\"Redhook ESB\"],[\"Redhook IPA\"],[\"Redhook Slim Chance\"],[\"Rock Bottom Illuminator Doppelback\"],[\"Rogue Dead Guy Ale\"],[\"Rolling Rock Extra Pale\"],[\"Rolling Rock Green Light\"],[\"Rolling Rock Premium Beer\"],[\"Russian River Pliny the Elder\"],[\"Sam Adams Black Lager\"],[\"Sam Adams Blackberry Witbier\"],[\"Sam Adams Boston Ale\"],[\"Sam Adams Boston Lager\"],[\"Sam Adams Brown Ale\"],[\"Sam Adams Cherry Wheat\"],[\"Sam Adams Coastal Wheat\"],[\"Sam Adams Cream Stout\"],[\"Sam Adams Hefeweizen\"],[\"Sam Adams Honey Porter\"],[\"Sam Adams Imperial Double Bock\"],[\"Sam Adams Imperial Stout\"],[\"Sam Adams Imperial White\"],[\"Sam Adams IPA\"],[\"Sam Adams Irish Red\"],[\"Sam Adams Light\"],[\"Sam Adams Octoberfest\"],[\"Sam Adams Pale Ale\"],[\"Sam Adams Scotch Ale\"],[\"Sam Adams Summer Ale\"],[\"Sam Adams White Ale\"],[\"Sam Adams Winter Lager\"],[\"Schaefer Beer\"],[\"Schlitz Beer\"],[\"Schlitz Light\"],[\"Sculpin IPA\"],[\"Shipyard Light\"],[\"Shock Top\"],[\"Sierra Nevada Anniversary Ale\"],[\"Sierra Nevada Bigfoot\"],[\"Sierra Nevada Celebration Ale\"],[\"Sierra Nevada Draft Ale\"],[\"Sierra Nevada Early Spring Beer\"],[\"Sierra Nevada Harvest Ale\"],[\"Sierra Nevada India Pale Ale\"],[\"Sierra Nevada Pale Ale\"],[\"Sierra Nevada Pale Bock\"],[\"Sierra Nevada Porter\"],[\"Sierra Nevada Stout\"],[\"Sierra Nevada Summerfest\"],[\"Sierra Nevada Wheat Beer\"],[\"Signature Stroh Beer\"],[\"Smithwick's\"],[\"Smuttynose Fineskind IPA\"],[\"Sol Cerveza\"],[\"Southpaw Light\"],[\"St. Pauli Girl\"],[\"St. Pauli Girl Special Dark\"],[\"Stella Artois\"],[\"Stone Pale Ale\"],[\"Strauss Endless Summer Light\"],[\"Stroh's Beer\"],[\"Stroh's Light\"],[\"Tsingtao\"],[\"Tuborg Deluxe Dark Export\"],[\"Tuborg Export Quality\"],[\"Tyskie\"],[\"Victoria\"],[\"Weinhard's Amber Light\"],[\"Weinhard's Blonde Lager\"],[\"Weinhard's Hefeweizen\"],[\"Weinhard's Pale Ale\"],[\"Weinhard's Private Reserve\"],[\"Widmer Hefeweizen\"],[\"Winter's Bourbon Cask Ale\"],[\"Wyder's Apple Cider\"],[\"Wyder's Pear Cider\"],[\"Yuengling Lager\"],[\"Yuengling Light Lager\"],[\"Yuengling Lord Chesterfield Ale\"],[\"Yuengling Oktoberfest\"],[\"Yuengling Porter\"],[\"Yuengling Porter\"],[\"Yuengling Premium Beer\"]],\"hovertemplate\":\"Calories=%{x}<br>ABV=%{y}<br>Brand=%{customdata[0]}<extra></extra>\",\"legendgroup\":\"\",\"marker\":{\"color\":\"#636efa\",\"symbol\":\"circle\"},\"mode\":\"markers\",\"name\":\"\",\"orientation\":\"v\",\"showlegend\":false,\"x\":[128,125,190,118,128,167,168,99,209,153,135,156,163,143,64,153,164,180,180,157,161,175,148,320,190,200,170,305,160,155,150,205,182,123,110,151,116,137,145,186,99,55,114,136,95,138,147,152,102,149,154,99,90,132,141,192,225,228,170,450,209,294,307,310,168,170,166,150,313,271,314,138,238,154,221,163,188,129,146,161,148,162,156,148,168,160,120,97,142,125,153,142,110,144,155,150,99,97,153,196,140,95,142,104,111,147,95,335,285,194,230,143,110,170,149,105,163,152,166,165,160,160,153,145,155,164,167,152,110,174,123,187,187,95,95,95,85,157,186,140,141,107,96,64,142,173,96,145,136,67,113,160,183,130,95,170,205,200,200,140,160,155,110,145,215,125,150,145,110,146,290,195,140,175,99,144,67,145,149,174,156,120,147,160,147,153,165,179,188,125,288,216,142,83,132,236,191,176,188,175,159,180,167,190,182,192,320,316,328,175,180,119,180,160,200,160,175,200,142,146,110,228,97,168,190,330,214,157,190,215,231,175,218,194,225,158,153,153,150,200,128,123,148,150,154,188,110,149,113,157,163,156,149,135,135,161,151,147,150,159,165,150,136,140,99,158,168,160,160,141],\"xaxis\":\"x\",\"y\":[4.5,4.2,6.5,4.0,4.2,5.0,5.6,4.1,5.6,4.9,4.3,5.0,5.4,5.0,2.3,4.8,5.36,5.52,5.76,5.12,5.4,5.3,4.7,10.0,5.6,6.9,5.2,10.1,5.0,5.1,5.0,6.1,5.3,5.5,4.2,4.2,4.2,6.0,5.0,5.0,4.3,2.4,4.3,5.9,4.1,4.3,5.0,4.97,4.2,4.6,4.8,4.1,4.0,4.6,4.8,5.2,6.4,6.8,5.0,18.0,6.0,9.0,9.0,10.0,5.0,5.0,5.0,5.5,11.5,9.2,10.2,4.7,8.5,5.5,8.3,6.0,7.1,5.1,5.0,5.5,4.5,5.1,5.9,4.9,5.4,5.4,2.8,3.6,5.0,4.27,5.0,4.7,3.8,4.6,5.2,5.0,4.2,4.0,4.9,5.7,4.5,4.15,5.9,4.13,4.43,5.0,3.2,9.7,8.0,6.2,7.5,4.9,4.14,4.94,4.92,4.19,4.94,4.67,4.94,4.9,5.0,5.2,5.1,4.62,5.2,5.0,5.5,4.7,4.1,4.9,4.3,5.6,5.9,4.2,4.0,4.0,4.3,5.8,6.9,4.6,4.6,4.1,4.2,2.8,4.8,5.9,4.1,4.4,5.0,3.0,3.9,5.6,8.0,5.9,4.2,5.4,5.6,6.6,7.0,4.8,5.2,4.8,4.2,4.8,7.8,5.0,4.7,4.6,3.82,4.7,9.7,6.7,4.6,5.8,4.2,4.74,2.5,4.4,5.1,5.3,4.4,4.0,5.0,4.8,5.0,4.9,5.0,5.77,6.5,3.9,6.67,6.8,4.6,3.7,4.5,8.0,4.9,5.5,5.4,5.0,5.35,5.4,5.3,4.9,5.4,5.45,9.5,9.2,10.3,5.93,5.5,4.3,5.4,5.4,5.4,5.3,5.4,5.8,4.6,4.7,4.2,7.0,3.9,5.2,5.9,9.6,6.8,5.0,5.9,6.7,6.9,5.6,7.0,5.6,5.8,5.0,4.4,4.8,4.5,6.9,4.2,5.0,4.9,4.8,5.2,5.64,3.3,4.6,4.4,4.8,5.1,5.0,5.3,4.04,4.2,5.1,4.9,4.6,4.8,4.9,6.0,5.0,5.0,4.5,3.8,5.4,5.4,4.7,4.7,4.5],\"yaxis\":\"y\",\"type\":\"scatter\"}],                        {\"template\":{\"data\":{\"histogram2dcontour\":[{\"type\":\"histogram2dcontour\",\"colorbar\":{\"outlinewidth\":0,\"ticks\":\"\"},\"colorscale\":[[0.0,\"#0d0887\"],[0.1111111111111111,\"#46039f\"],[0.2222222222222222,\"#7201a8\"],[0.3333333333333333,\"#9c179e\"],[0.4444444444444444,\"#bd3786\"],[0.5555555555555556,\"#d8576b\"],[0.6666666666666666,\"#ed7953\"],[0.7777777777777778,\"#fb9f3a\"],[0.8888888888888888,\"#fdca26\"],[1.0,\"#f0f921\"]]}],\"choropleth\":[{\"type\":\"choropleth\",\"colorbar\":{\"outlinewidth\":0,\"ticks\":\"\"}}],\"histogram2d\":[{\"type\":\"histogram2d\",\"colorbar\":{\"outlinewidth\":0,\"ticks\":\"\"},\"colorscale\":[[0.0,\"#0d0887\"],[0.1111111111111111,\"#46039f\"],[0.2222222222222222,\"#7201a8\"],[0.3333333333333333,\"#9c179e\"],[0.4444444444444444,\"#bd3786\"],[0.5555555555555556,\"#d8576b\"],[0.6666666666666666,\"#ed7953\"],[0.7777777777777778,\"#fb9f3a\"],[0.8888888888888888,\"#fdca26\"],[1.0,\"#f0f921\"]]}],\"heatmap\":[{\"type\":\"heatmap\",\"colorbar\":{\"outlinewidth\":0,\"ticks\":\"\"},\"colorscale\":[[0.0,\"#0d0887\"],[0.1111111111111111,\"#46039f\"],[0.2222222222222222,\"#7201a8\"],[0.3333333333333333,\"#9c179e\"],[0.4444444444444444,\"#bd3786\"],[0.5555555555555556,\"#d8576b\"],[0.6666666666666666,\"#ed7953\"],[0.7777777777777778,\"#fb9f3a\"],[0.8888888888888888,\"#fdca26\"],[1.0,\"#f0f921\"]]}],\"heatmapgl\":[{\"type\":\"heatmapgl\",\"colorbar\":{\"outlinewidth\":0,\"ticks\":\"\"},\"colorscale\":[[0.0,\"#0d0887\"],[0.1111111111111111,\"#46039f\"],[0.2222222222222222,\"#7201a8\"],[0.3333333333333333,\"#9c179e\"],[0.4444444444444444,\"#bd3786\"],[0.5555555555555556,\"#d8576b\"],[0.6666666666666666,\"#ed7953\"],[0.7777777777777778,\"#fb9f3a\"],[0.8888888888888888,\"#fdca26\"],[1.0,\"#f0f921\"]]}],\"contourcarpet\":[{\"type\":\"contourcarpet\",\"colorbar\":{\"outlinewidth\":0,\"ticks\":\"\"}}],\"contour\":[{\"type\":\"contour\",\"colorbar\":{\"outlinewidth\":0,\"ticks\":\"\"},\"colorscale\":[[0.0,\"#0d0887\"],[0.1111111111111111,\"#46039f\"],[0.2222222222222222,\"#7201a8\"],[0.3333333333333333,\"#9c179e\"],[0.4444444444444444,\"#bd3786\"],[0.5555555555555556,\"#d8576b\"],[0.6666666666666666,\"#ed7953\"],[0.7777777777777778,\"#fb9f3a\"],[0.8888888888888888,\"#fdca26\"],[1.0,\"#f0f921\"]]}],\"surface\":[{\"type\":\"surface\",\"colorbar\":{\"outlinewidth\":0,\"ticks\":\"\"},\"colorscale\":[[0.0,\"#0d0887\"],[0.1111111111111111,\"#46039f\"],[0.2222222222222222,\"#7201a8\"],[0.3333333333333333,\"#9c179e\"],[0.4444444444444444,\"#bd3786\"],[0.5555555555555556,\"#d8576b\"],[0.6666666666666666,\"#ed7953\"],[0.7777777777777778,\"#fb9f3a\"],[0.8888888888888888,\"#fdca26\"],[1.0,\"#f0f921\"]]}],\"mesh3d\":[{\"type\":\"mesh3d\",\"colorbar\":{\"outlinewidth\":0,\"ticks\":\"\"}}],\"scatter\":[{\"fillpattern\":{\"fillmode\":\"overlay\",\"size\":10,\"solidity\":0.2},\"type\":\"scatter\"}],\"parcoords\":[{\"type\":\"parcoords\",\"line\":{\"colorbar\":{\"outlinewidth\":0,\"ticks\":\"\"}}}],\"scatterpolargl\":[{\"type\":\"scatterpolargl\",\"marker\":{\"colorbar\":{\"outlinewidth\":0,\"ticks\":\"\"}}}],\"bar\":[{\"error_x\":{\"color\":\"#2a3f5f\"},\"error_y\":{\"color\":\"#2a3f5f\"},\"marker\":{\"line\":{\"color\":\"#E5ECF6\",\"width\":0.5},\"pattern\":{\"fillmode\":\"overlay\",\"size\":10,\"solidity\":0.2}},\"type\":\"bar\"}],\"scattergeo\":[{\"type\":\"scattergeo\",\"marker\":{\"colorbar\":{\"outlinewidth\":0,\"ticks\":\"\"}}}],\"scatterpolar\":[{\"type\":\"scatterpolar\",\"marker\":{\"colorbar\":{\"outlinewidth\":0,\"ticks\":\"\"}}}],\"histogram\":[{\"marker\":{\"pattern\":{\"fillmode\":\"overlay\",\"size\":10,\"solidity\":0.2}},\"type\":\"histogram\"}],\"scattergl\":[{\"type\":\"scattergl\",\"marker\":{\"colorbar\":{\"outlinewidth\":0,\"ticks\":\"\"}}}],\"scatter3d\":[{\"type\":\"scatter3d\",\"line\":{\"colorbar\":{\"outlinewidth\":0,\"ticks\":\"\"}},\"marker\":{\"colorbar\":{\"outlinewidth\":0,\"ticks\":\"\"}}}],\"scattermapbox\":[{\"type\":\"scattermapbox\",\"marker\":{\"colorbar\":{\"outlinewidth\":0,\"ticks\":\"\"}}}],\"scatterternary\":[{\"type\":\"scatterternary\",\"marker\":{\"colorbar\":{\"outlinewidth\":0,\"ticks\":\"\"}}}],\"scattercarpet\":[{\"type\":\"scattercarpet\",\"marker\":{\"colorbar\":{\"outlinewidth\":0,\"ticks\":\"\"}}}],\"carpet\":[{\"aaxis\":{\"endlinecolor\":\"#2a3f5f\",\"gridcolor\":\"white\",\"linecolor\":\"white\",\"minorgridcolor\":\"white\",\"startlinecolor\":\"#2a3f5f\"},\"baxis\":{\"endlinecolor\":\"#2a3f5f\",\"gridcolor\":\"white\",\"linecolor\":\"white\",\"minorgridcolor\":\"white\",\"startlinecolor\":\"#2a3f5f\"},\"type\":\"carpet\"}],\"table\":[{\"cells\":{\"fill\":{\"color\":\"#EBF0F8\"},\"line\":{\"color\":\"white\"}},\"header\":{\"fill\":{\"color\":\"#C8D4E3\"},\"line\":{\"color\":\"white\"}},\"type\":\"table\"}],\"barpolar\":[{\"marker\":{\"line\":{\"color\":\"#E5ECF6\",\"width\":0.5},\"pattern\":{\"fillmode\":\"overlay\",\"size\":10,\"solidity\":0.2}},\"type\":\"barpolar\"}],\"pie\":[{\"automargin\":true,\"type\":\"pie\"}]},\"layout\":{\"autotypenumbers\":\"strict\",\"colorway\":[\"#636efa\",\"#EF553B\",\"#00cc96\",\"#ab63fa\",\"#FFA15A\",\"#19d3f3\",\"#FF6692\",\"#B6E880\",\"#FF97FF\",\"#FECB52\"],\"font\":{\"color\":\"#2a3f5f\"},\"hovermode\":\"closest\",\"hoverlabel\":{\"align\":\"left\"},\"paper_bgcolor\":\"white\",\"plot_bgcolor\":\"#E5ECF6\",\"polar\":{\"bgcolor\":\"#E5ECF6\",\"angularaxis\":{\"gridcolor\":\"white\",\"linecolor\":\"white\",\"ticks\":\"\"},\"radialaxis\":{\"gridcolor\":\"white\",\"linecolor\":\"white\",\"ticks\":\"\"}},\"ternary\":{\"bgcolor\":\"#E5ECF6\",\"aaxis\":{\"gridcolor\":\"white\",\"linecolor\":\"white\",\"ticks\":\"\"},\"baxis\":{\"gridcolor\":\"white\",\"linecolor\":\"white\",\"ticks\":\"\"},\"caxis\":{\"gridcolor\":\"white\",\"linecolor\":\"white\",\"ticks\":\"\"}},\"coloraxis\":{\"colorbar\":{\"outlinewidth\":0,\"ticks\":\"\"}},\"colorscale\":{\"sequential\":[[0.0,\"#0d0887\"],[0.1111111111111111,\"#46039f\"],[0.2222222222222222,\"#7201a8\"],[0.3333333333333333,\"#9c179e\"],[0.4444444444444444,\"#bd3786\"],[0.5555555555555556,\"#d8576b\"],[0.6666666666666666,\"#ed7953\"],[0.7777777777777778,\"#fb9f3a\"],[0.8888888888888888,\"#fdca26\"],[1.0,\"#f0f921\"]],\"sequentialminus\":[[0.0,\"#0d0887\"],[0.1111111111111111,\"#46039f\"],[0.2222222222222222,\"#7201a8\"],[0.3333333333333333,\"#9c179e\"],[0.4444444444444444,\"#bd3786\"],[0.5555555555555556,\"#d8576b\"],[0.6666666666666666,\"#ed7953\"],[0.7777777777777778,\"#fb9f3a\"],[0.8888888888888888,\"#fdca26\"],[1.0,\"#f0f921\"]],\"diverging\":[[0,\"#8e0152\"],[0.1,\"#c51b7d\"],[0.2,\"#de77ae\"],[0.3,\"#f1b6da\"],[0.4,\"#fde0ef\"],[0.5,\"#f7f7f7\"],[0.6,\"#e6f5d0\"],[0.7,\"#b8e186\"],[0.8,\"#7fbc41\"],[0.9,\"#4d9221\"],[1,\"#276419\"]]},\"xaxis\":{\"gridcolor\":\"white\",\"linecolor\":\"white\",\"ticks\":\"\",\"title\":{\"standoff\":15},\"zerolinecolor\":\"white\",\"automargin\":true,\"zerolinewidth\":2},\"yaxis\":{\"gridcolor\":\"white\",\"linecolor\":\"white\",\"ticks\":\"\",\"title\":{\"standoff\":15},\"zerolinecolor\":\"white\",\"automargin\":true,\"zerolinewidth\":2},\"scene\":{\"xaxis\":{\"backgroundcolor\":\"#E5ECF6\",\"gridcolor\":\"white\",\"linecolor\":\"white\",\"showbackground\":true,\"ticks\":\"\",\"zerolinecolor\":\"white\",\"gridwidth\":2},\"yaxis\":{\"backgroundcolor\":\"#E5ECF6\",\"gridcolor\":\"white\",\"linecolor\":\"white\",\"showbackground\":true,\"ticks\":\"\",\"zerolinecolor\":\"white\",\"gridwidth\":2},\"zaxis\":{\"backgroundcolor\":\"#E5ECF6\",\"gridcolor\":\"white\",\"linecolor\":\"white\",\"showbackground\":true,\"ticks\":\"\",\"zerolinecolor\":\"white\",\"gridwidth\":2}},\"shapedefaults\":{\"line\":{\"color\":\"#2a3f5f\"}},\"annotationdefaults\":{\"arrowcolor\":\"#2a3f5f\",\"arrowhead\":0,\"arrowwidth\":1},\"geo\":{\"bgcolor\":\"white\",\"landcolor\":\"#E5ECF6\",\"subunitcolor\":\"white\",\"showland\":true,\"showlakes\":true,\"lakecolor\":\"white\"},\"title\":{\"x\":0.05},\"mapbox\":{\"style\":\"light\"}}},\"xaxis\":{\"anchor\":\"y\",\"domain\":[0.0,1.0],\"title\":{\"text\":\"Calories\"}},\"yaxis\":{\"anchor\":\"x\",\"domain\":[0.0,1.0],\"title\":{\"text\":\"ABV\"}},\"legend\":{\"tracegroupgap\":0},\"margin\":{\"t\":60},\"height\":400,\"width\":400},                        {\"responsive\": true}                    ).then(function(){\n",
       "                            \n",
       "var gd = document.getElementById('ed7e2bd7-cf66-4570-9513-97ebd57a39f2');\n",
       "var x = new MutationObserver(function (mutations, observer) {{\n",
       "        var display = window.getComputedStyle(gd).display;\n",
       "        if (!display || display === 'none') {{\n",
       "            console.log([gd, 'removed!']);\n",
       "            Plotly.purge(gd);\n",
       "            observer.disconnect();\n",
       "        }}\n",
       "}});\n",
       "\n",
       "// Listen for the removal of the full notebook cells\n",
       "var notebookContainer = gd.closest('#notebook-container');\n",
       "if (notebookContainer) {{\n",
       "    x.observe(notebookContainer, {childList: true});\n",
       "}}\n",
       "\n",
       "// Listen for the clearing of the current output cell\n",
       "var outputEl = gd.closest('.output');\n",
       "if (outputEl) {{\n",
       "    x.observe(outputEl, {childList: true});\n",
       "}}\n",
       "\n",
       "                        })                };                });            </script>        </div>"
      ]
     },
     "metadata": {},
     "output_type": "display_data"
    }
   ],
   "source": [
    "# Start with a simple plotly express plot\n",
    "fig = px.scatter(df, x=\"Calories\", y=\"ABV\",  hover_data=['Brand'],\n",
    "                width=400, height=400)\n",
    "fig.show()"
   ]
  },
  {
   "cell_type": "code",
   "execution_count": 40,
   "id": "9ff45310-7ac0-4ab1-ac64-de832b2591d0",
   "metadata": {},
   "outputs": [],
   "source": [
    "# But the residual isn't really what's important. How about a ratio?\n",
    "df['apc'] = df['ABV']/df['Calories']\n",
    "df = df.sort_values(['apc'],ascending=False)"
   ]
  },
  {
   "cell_type": "code",
   "execution_count": 41,
   "id": "5062912c-833e-452c-aa18-700f5a646452",
   "metadata": {},
   "outputs": [
    {
     "data": {
      "text/html": [
       "<div>\n",
       "<style scoped>\n",
       "    .dataframe tbody tr th:only-of-type {\n",
       "        vertical-align: middle;\n",
       "    }\n",
       "\n",
       "    .dataframe tbody tr th {\n",
       "        vertical-align: top;\n",
       "    }\n",
       "\n",
       "    .dataframe thead th {\n",
       "        text-align: right;\n",
       "    }\n",
       "</style>\n",
       "<table border=\"1\" class=\"dataframe\">\n",
       "  <thead>\n",
       "    <tr style=\"text-align: right;\">\n",
       "      <th></th>\n",
       "      <th>Brand</th>\n",
       "      <th>Calories</th>\n",
       "      <th>ABV</th>\n",
       "      <th>apc</th>\n",
       "    </tr>\n",
       "  </thead>\n",
       "  <tbody>\n",
       "    <tr>\n",
       "      <th>136</th>\n",
       "      <td>Michelob Ultra Pure Gold</td>\n",
       "      <td>85</td>\n",
       "      <td>4.3</td>\n",
       "      <td>0.050588</td>\n",
       "    </tr>\n",
       "    <tr>\n",
       "      <th>153</th>\n",
       "      <td>Natural Ice</td>\n",
       "      <td>130</td>\n",
       "      <td>5.9</td>\n",
       "      <td>0.045385</td>\n",
       "    </tr>\n",
       "    <tr>\n",
       "      <th>149</th>\n",
       "      <td>Molson Canadian 67</td>\n",
       "      <td>67</td>\n",
       "      <td>3.0</td>\n",
       "      <td>0.044776</td>\n",
       "    </tr>\n",
       "    <tr>\n",
       "      <th>33</th>\n",
       "      <td>Bud Ice</td>\n",
       "      <td>123</td>\n",
       "      <td>5.5</td>\n",
       "      <td>0.044715</td>\n",
       "    </tr>\n",
       "    <tr>\n",
       "      <th>193</th>\n",
       "      <td>Rolling Rock Green Light</td>\n",
       "      <td>83</td>\n",
       "      <td>3.7</td>\n",
       "      <td>0.044578</td>\n",
       "    </tr>\n",
       "    <tr>\n",
       "      <th>52</th>\n",
       "      <td>Corona Premier</td>\n",
       "      <td>90</td>\n",
       "      <td>4.0</td>\n",
       "      <td>0.044444</td>\n",
       "    </tr>\n",
       "    <tr>\n",
       "      <th>154</th>\n",
       "      <td>Natural Light</td>\n",
       "      <td>95</td>\n",
       "      <td>4.2</td>\n",
       "      <td>0.044211</td>\n",
       "    </tr>\n",
       "    <tr>\n",
       "      <th>133</th>\n",
       "      <td>Michelob Ultra</td>\n",
       "      <td>95</td>\n",
       "      <td>4.2</td>\n",
       "      <td>0.044211</td>\n",
       "    </tr>\n",
       "    <tr>\n",
       "      <th>37</th>\n",
       "      <td>Bud Light Platinum</td>\n",
       "      <td>137</td>\n",
       "      <td>6.0</td>\n",
       "      <td>0.043796</td>\n",
       "    </tr>\n",
       "    <tr>\n",
       "      <th>142</th>\n",
       "      <td>Miller Lite</td>\n",
       "      <td>96</td>\n",
       "      <td>4.2</td>\n",
       "      <td>0.043750</td>\n",
       "    </tr>\n",
       "  </tbody>\n",
       "</table>\n",
       "</div>"
      ],
      "text/plain": [
       "                        Brand  Calories  ABV       apc\n",
       "136  Michelob Ultra Pure Gold        85  4.3  0.050588\n",
       "153               Natural Ice       130  5.9  0.045385\n",
       "149        Molson Canadian 67        67  3.0  0.044776\n",
       "33                    Bud Ice       123  5.5  0.044715\n",
       "193  Rolling Rock Green Light        83  3.7  0.044578\n",
       "52             Corona Premier        90  4.0  0.044444\n",
       "154             Natural Light        95  4.2  0.044211\n",
       "133            Michelob Ultra        95  4.2  0.044211\n",
       "37         Bud Light Platinum       137  6.0  0.043796\n",
       "142               Miller Lite        96  4.2  0.043750"
      ]
     },
     "execution_count": 41,
     "metadata": {},
     "output_type": "execute_result"
    }
   ],
   "source": [
    "# So which beers give you the most alcohol per calorie?\n",
    "df.head(10)"
   ]
  },
  {
   "cell_type": "markdown",
   "id": "0d9cb724-cb5e-4cb6-8b77-96e4dfd710f9",
   "metadata": {},
   "source": [
    "So it's mostly \"light\" and \"ice\" beers winning the \"bang for the buck\" test but the highest ABV beer is also in the top 30 (truncated for ease of display). Way to go Dogfish Head."
   ]
  },
  {
   "cell_type": "markdown",
   "id": "580e546c-1f99-429a-bbb5-487724a2dba6",
   "metadata": {},
   "source": [
    "Maybe try something a little fancier...\n",
    "\n",
    "I like quintiles for graphics because the middle value contains the median and then you get high, low, and extremes.. Quartiles are for boxplots."
   ]
  },
  {
   "cell_type": "code",
   "execution_count": 42,
   "id": "a026fc99-7a8a-47b4-8643-334d805b6a88",
   "metadata": {},
   "outputs": [
    {
     "data": {
      "text/html": [
       "<div>\n",
       "<style scoped>\n",
       "    .dataframe tbody tr th:only-of-type {\n",
       "        vertical-align: middle;\n",
       "    }\n",
       "\n",
       "    .dataframe tbody tr th {\n",
       "        vertical-align: top;\n",
       "    }\n",
       "\n",
       "    .dataframe thead th {\n",
       "        text-align: right;\n",
       "    }\n",
       "</style>\n",
       "<table border=\"1\" class=\"dataframe\">\n",
       "  <thead>\n",
       "    <tr style=\"text-align: right;\">\n",
       "      <th></th>\n",
       "      <th>Brand</th>\n",
       "      <th>Calories</th>\n",
       "      <th>ABV</th>\n",
       "      <th>apc</th>\n",
       "      <th>Quintile</th>\n",
       "    </tr>\n",
       "  </thead>\n",
       "  <tbody>\n",
       "    <tr>\n",
       "      <th>136</th>\n",
       "      <td>Michelob Ultra Pure Gold</td>\n",
       "      <td>85</td>\n",
       "      <td>4.3</td>\n",
       "      <td>0.050588</td>\n",
       "      <td>5</td>\n",
       "    </tr>\n",
       "    <tr>\n",
       "      <th>153</th>\n",
       "      <td>Natural Ice</td>\n",
       "      <td>130</td>\n",
       "      <td>5.9</td>\n",
       "      <td>0.045385</td>\n",
       "      <td>5</td>\n",
       "    </tr>\n",
       "    <tr>\n",
       "      <th>149</th>\n",
       "      <td>Molson Canadian 67</td>\n",
       "      <td>67</td>\n",
       "      <td>3.0</td>\n",
       "      <td>0.044776</td>\n",
       "      <td>5</td>\n",
       "    </tr>\n",
       "    <tr>\n",
       "      <th>33</th>\n",
       "      <td>Bud Ice</td>\n",
       "      <td>123</td>\n",
       "      <td>5.5</td>\n",
       "      <td>0.044715</td>\n",
       "      <td>5</td>\n",
       "    </tr>\n",
       "    <tr>\n",
       "      <th>193</th>\n",
       "      <td>Rolling Rock Green Light</td>\n",
       "      <td>83</td>\n",
       "      <td>3.7</td>\n",
       "      <td>0.044578</td>\n",
       "      <td>5</td>\n",
       "    </tr>\n",
       "    <tr>\n",
       "      <th>52</th>\n",
       "      <td>Corona Premier</td>\n",
       "      <td>90</td>\n",
       "      <td>4.0</td>\n",
       "      <td>0.044444</td>\n",
       "      <td>5</td>\n",
       "    </tr>\n",
       "    <tr>\n",
       "      <th>154</th>\n",
       "      <td>Natural Light</td>\n",
       "      <td>95</td>\n",
       "      <td>4.2</td>\n",
       "      <td>0.044211</td>\n",
       "      <td>5</td>\n",
       "    </tr>\n",
       "    <tr>\n",
       "      <th>133</th>\n",
       "      <td>Michelob Ultra</td>\n",
       "      <td>95</td>\n",
       "      <td>4.2</td>\n",
       "      <td>0.044211</td>\n",
       "      <td>5</td>\n",
       "    </tr>\n",
       "    <tr>\n",
       "      <th>37</th>\n",
       "      <td>Bud Light Platinum</td>\n",
       "      <td>137</td>\n",
       "      <td>6.0</td>\n",
       "      <td>0.043796</td>\n",
       "      <td>5</td>\n",
       "    </tr>\n",
       "    <tr>\n",
       "      <th>142</th>\n",
       "      <td>Miller Lite</td>\n",
       "      <td>96</td>\n",
       "      <td>4.2</td>\n",
       "      <td>0.043750</td>\n",
       "      <td>5</td>\n",
       "    </tr>\n",
       "  </tbody>\n",
       "</table>\n",
       "</div>"
      ],
      "text/plain": [
       "                        Brand  Calories  ABV       apc  Quintile\n",
       "136  Michelob Ultra Pure Gold        85  4.3  0.050588         5\n",
       "153               Natural Ice       130  5.9  0.045385         5\n",
       "149        Molson Canadian 67        67  3.0  0.044776         5\n",
       "33                    Bud Ice       123  5.5  0.044715         5\n",
       "193  Rolling Rock Green Light        83  3.7  0.044578         5\n",
       "52             Corona Premier        90  4.0  0.044444         5\n",
       "154             Natural Light        95  4.2  0.044211         5\n",
       "133            Michelob Ultra        95  4.2  0.044211         5\n",
       "37         Bud Light Platinum       137  6.0  0.043796         5\n",
       "142               Miller Lite        96  4.2  0.043750         5"
      ]
     },
     "execution_count": 42,
     "metadata": {},
     "output_type": "execute_result"
    }
   ],
   "source": [
    "pd.qcut(df[\"apc\"], q=5, labels=False)\n",
    "df['Quintile'] = pd.qcut(df[\"apc\"], q=5, labels=False)\n",
    "df['Quintile'] = df['Quintile'] + 1  # add one because zero index not helpful here\n",
    "df.head(10)"
   ]
  },
  {
   "cell_type": "markdown",
   "id": "169ab5a6-02ee-4a70-9505-357851c017ca",
   "metadata": {},
   "source": [
    "Interesting little github bug here that carries over to NBViewer. On the web (and only on the web) the ūndecile column is displaying above even though it isn't added to the dataframe until after this next plot. A little foreshadowing or premonition of things to come!"
   ]
  },
  {
   "cell_type": "code",
   "execution_count": 43,
   "id": "a342258b-9a0a-4de3-b1e7-1ac1169d5c12",
   "metadata": {},
   "outputs": [
    {
     "data": {
      "application/vnd.plotly.v1+json": {
       "config": {
        "plotlyServerURL": "https://plot.ly"
       },
       "data": [
        {
         "customdata": [
          [
           "Michelob Ultra Pure Gold"
          ],
          [
           "Natural Ice"
          ],
          [
           "Molson Canadian 67"
          ],
          [
           "Bud Ice"
          ],
          [
           "Rolling Rock Green Light"
          ],
          [
           "Corona Premier"
          ],
          [
           "Natural Light"
          ],
          [
           "Michelob Ultra"
          ],
          [
           "Bud Light Platinum"
          ],
          [
           "Miller Lite"
          ],
          [
           "Miller64"
          ],
          [
           "Natty Daddy"
          ],
          [
           "Iron City Light"
          ],
          [
           "Budweiser Select 55"
          ],
          [
           "Budweiser Select"
          ],
          [
           "Busch Ice"
          ],
          [
           "Busch Light"
          ],
          [
           "Milwaukee's Best Light"
          ],
          [
           "Omission Ultimate Light"
          ],
          [
           "Heineken Light"
          ],
          [
           "Michelob Ultra Amber"
          ],
          [
           "Michelob Ultra Lime Cactus"
          ],
          [
           "Keystone Ice"
          ],
          [
           "Corona Light"
          ],
          [
           "Amstel Light"
          ],
          [
           "Hiland Light"
          ],
          [
           "Coors Light"
          ],
          [
           "Southpaw Light"
          ],
          [
           "Shipyard Light"
          ],
          [
           "Dogfish Head 120 Minute IPA"
          ],
          [
           "New Planet Tread Lightly Ale"
          ],
          [
           "Keystone Premium"
          ],
          [
           "Leinenkugel Light"
          ],
          [
           "Keystone Light"
          ],
          [
           "Flying Dog Tire Bite Golden Ale"
          ],
          [
           "Stroh's Light"
          ],
          [
           "Yuengling Light Lager"
          ],
          [
           "Miller High Life Light"
          ],
          [
           "New Belgium Skinny Dip"
          ],
          [
           "Bud Light"
          ],
          [
           "Schlitz Light"
          ],
          [
           "Genesee Ice"
          ],
          [
           "Flying Dog Snake Dog IPA"
          ],
          [
           "Busch"
          ],
          [
           "Leinenkugel Amber Light"
          ],
          [
           "Flying Dog Raging Bitch"
          ],
          [
           "Pabst Extra Light Low Alcohol"
          ],
          [
           "Michelob Golden Draft Light"
          ],
          [
           "Grolsch Light Lager"
          ],
          [
           "Miller Fortune"
          ],
          [
           "Mickey's Ice"
          ],
          [
           "Flying Dog Road Dog"
          ],
          [
           "Wyder's Pear Cider"
          ],
          [
           "Molson Canadian"
          ],
          [
           "Flying Dog Double Dog"
          ],
          [
           "Flying Dog Doggie Style Pale Ale"
          ],
          [
           "Winter's Bourbon Cask Ale"
          ],
          [
           "New Belgium Trippel"
          ],
          [
           "Bud Light Lime"
          ],
          [
           "Sam Adams Light"
          ],
          [
           "Beck's Light"
          ],
          [
           "Flying Dog Old Scratch Amber Lager"
          ],
          [
           "Flying Dog Kerberos Tripel"
          ],
          [
           "Tyskie"
          ],
          [
           "Grolsch Premium Lager"
          ],
          [
           "Abita Amber"
          ],
          [
           "New Belgium Abbey"
          ],
          [
           "Molson Ice"
          ],
          [
           "Beck's"
          ],
          [
           "Michelob Light"
          ],
          [
           "Cristal (Peru)"
          ],
          [
           "Old Milwaukee Light"
          ],
          [
           "Redhook IPA"
          ],
          [
           "Hamm's Special Light"
          ],
          [
           "Molson Canadian Light"
          ],
          [
           "Brooklyn East India Pale Ale"
          ],
          [
           "Smuttynose Fineskind IPA"
          ],
          [
           "Budweiser"
          ],
          [
           "Omission IPA"
          ],
          [
           "New Belgium Blue Paddle"
          ],
          [
           "Lech"
          ],
          [
           "Foster's"
          ],
          [
           "Peroni Nastro Azzurro"
          ],
          [
           "Abita Jockamo IPA"
          ],
          [
           "Yuengling Lord Chesterfield Ale"
          ],
          [
           "Foster's Premium Ale"
          ],
          [
           "Guinness Draught"
          ],
          [
           "Milwaukee's Best Ice (Beast Ice)"
          ],
          [
           "Rolling Rock Premium Beer"
          ],
          [
           "Flying Dog In Heat Wheat"
          ],
          [
           "Cusquena"
          ],
          [
           "Presidente"
          ],
          [
           "Red Dog"
          ],
          [
           "Kirin"
          ],
          [
           "Coors Banquet"
          ],
          [
           "Flying Dog Gonzo"
          ],
          [
           "Abita Light"
          ],
          [
           "Russian River Pliny the Elder"
          ],
          [
           "Sam Adams IPA"
          ],
          [
           "Milwaukee's Best (Premium)"
          ],
          [
           "Stella Artois"
          ],
          [
           "Sam Adams Pale Ale"
          ],
          [
           "Grolsch Amber Ale"
          ],
          [
           "Kirin Light"
          ],
          [
           "Sam Adams Brown Ale"
          ],
          [
           "Abita Golden"
          ],
          [
           "Harp Lager"
          ],
          [
           "Michelob AmberBock"
          ],
          [
           "Blue Moon Rising Moon Spring Ale"
          ],
          [
           "Ommegang Three Philosophers"
          ],
          [
           "Wyder's Apple Cider"
          ],
          [
           "Magic Hat #9"
          ],
          [
           "Brooklyn Summer Ale"
          ],
          [
           "Abita Turbodog"
          ],
          [
           "Heineken"
          ],
          [
           "Puppers Premium Lager"
          ],
          [
           "Omission Pale Ale"
          ],
          [
           "Beach Bum Blonde Ale"
          ],
          [
           "Sam Adams Summer Ale"
          ],
          [
           "Brooklyn Monster"
          ],
          [
           "St. Pauli Girl"
          ],
          [
           "Genesee Red"
          ],
          [
           "New Belgium Sunshine Wheat"
          ],
          [
           "Hamm's Beer"
          ],
          [
           "Leinenkugel Honey Weiss"
          ],
          [
           "New Belgium 2 Below"
          ],
          [
           "Michelob Dunkelweisse"
          ],
          [
           "Pabst Blue Ribbon"
          ],
          [
           "Brooklyn Pilsner"
          ],
          [
           "Miller Genuine Draft (MGD)"
          ],
          [
           "Omission Lager"
          ],
          [
           "Abita Purple Haze"
          ],
          [
           "Sol Cerveza"
          ],
          [
           "Coors Extra Gold"
          ],
          [
           "Blue Moon Belgian White"
          ],
          [
           "Guinness Extra Stout"
          ],
          [
           "Miller High Life"
          ],
          [
           "Blue Moon Honey Moon Summer Ale"
          ],
          [
           "Lagunitas Little Sumpin' Sumpin' Ale"
          ],
          [
           "New Belgium Fat Tire"
          ],
          [
           "Lowenbrau Special Beer"
          ],
          [
           "Flying Dog Horn Dog"
          ],
          [
           "Weinhard's Hefeweizen"
          ],
          [
           "Rolling Rock Extra Pale"
          ],
          [
           "Schaefer Beer"
          ],
          [
           "Dogfish Head Red & White"
          ],
          [
           "Redhook ESB"
          ],
          [
           "Olympia Premium Lager"
          ],
          [
           "Schlitz Beer"
          ],
          [
           "George Killian's Irish Red"
          ],
          [
           "Yuengling Oktoberfest"
          ],
          [
           "Iron City"
          ],
          [
           "Yuengling Lager"
          ],
          [
           "Sierra Nevada Pale Bock"
          ],
          [
           "Tuborg Export Quality"
          ],
          [
           "Bass Ale"
          ],
          [
           "Hoegaarden Belgian White"
          ],
          [
           "Anchor Steam"
          ],
          [
           "Red Stripe"
          ],
          [
           "St. Pauli Girl Special Dark"
          ],
          [
           "Sierra Nevada Pale Ale"
          ],
          [
           "Blue Moon Harvest Moon Pumpkin Ale"
          ],
          [
           "Weinhard's Private Reserve"
          ],
          [
           "Lagunitas IPA"
          ],
          [
           "Harbin"
          ],
          [
           "Yuengling Premium Beer"
          ],
          [
           "Michael Shea's"
          ],
          [
           "Augustiner Amber Lager"
          ],
          [
           "Sierra Nevada Draft Ale"
          ],
          [
           "Sierra Nevada Celebration Ale"
          ],
          [
           "Negra Modelo"
          ],
          [
           "Boddington's Ale"
          ],
          [
           "Sam Adams Coastal Wheat"
          ],
          [
           "Old Milwaukee Beer"
          ],
          [
           "Weinhard's Blonde Lager"
          ],
          [
           "Sierra Nevada Summerfest"
          ],
          [
           "Michelob Porter"
          ],
          [
           "Genesee Cream Ale"
          ],
          [
           "Rogue Dead Guy Ale"
          ],
          [
           "Sam Adams Imperial White"
          ],
          [
           "Signature Stroh Beer"
          ],
          [
           "Blatz Beer"
          ],
          [
           "Newcastle Brown Ale"
          ],
          [
           "Weinhard's Pale Ale"
          ],
          [
           "Tuborg Deluxe Dark Export"
          ],
          [
           "Brooklyn Pennant Pale Ale"
          ],
          [
           "Brooklyn Black Chocolate Stout"
          ],
          [
           "Lowenbrau Dark"
          ],
          [
           "Sam Adams Blackberry Witbier"
          ],
          [
           "Redhook Slim Chance"
          ],
          [
           "Corona Familiar"
          ],
          [
           "Sierra Nevada Harvest Ale"
          ],
          [
           "Carling Black Label"
          ],
          [
           "Weinhard's Amber Light"
          ],
          [
           "Sierra Nevada Early Spring Beer"
          ],
          [
           "Sierra Nevada Anniversary Ale"
          ],
          [
           "New Belgium Mothership Wit"
          ],
          [
           "Shock Top"
          ],
          [
           "Michelob Golden Draft"
          ],
          [
           "Corona Extra"
          ],
          [
           "Stroh's Beer"
          ],
          [
           "Sam Adams White Ale"
          ],
          [
           "Widmer Hefeweizen"
          ],
          [
           "Leinenkugel Original"
          ],
          [
           "Sculpin IPA"
          ],
          [
           "Blue Moon Full Moon Winter Ale"
          ],
          [
           "Dogfish Head 90 Minute IPA"
          ],
          [
           "Brooklyn Lager"
          ],
          [
           "Tsingtao"
          ],
          [
           "Sam Adams Irish Red"
          ],
          [
           "Michelob Beer"
          ],
          [
           "Pete's Wicked Ale"
          ],
          [
           "Genesee Beer"
          ],
          [
           "Pacifico"
          ],
          [
           "Modelo Especial"
          ],
          [
           "Leinenkugel Northwoods Lager"
          ],
          [
           "Redd's Apple Ale"
          ],
          [
           "Blue Point Toasted Lager"
          ],
          [
           "Firestone DBA"
          ],
          [
           "Sam Adams Octoberfest"
          ],
          [
           "Sam Adams Cherry Wheat"
          ],
          [
           "Strauss Endless Summer Light"
          ],
          [
           "Stone Pale Ale"
          ],
          [
           "Smithwick's"
          ],
          [
           "Red Bridge"
          ],
          [
           "Michelob Pale Ale"
          ],
          [
           "Abita Restoration"
          ],
          [
           "Victoria"
          ],
          [
           "Sierra Nevada India Pale Ale"
          ],
          [
           "Deschutes Inversion IPA"
          ],
          [
           "Dogfish Head Shelter Pale Ale"
          ],
          [
           "Leinenkugel Red"
          ],
          [
           "Brooklyn Winter Ale"
          ],
          [
           "Leinenkugel Sunset Wheat"
          ],
          [
           "Sam Adams Imperial Double Bock"
          ],
          [
           "Sam Adams Hefeweizen"
          ],
          [
           "Brooklyn Brown Ale"
          ],
          [
           "Efes Pils"
          ],
          [
           "Deschutes Mirror Pond Ale"
          ],
          [
           "Yuengling Porter"
          ],
          [
           "Yuengling Porter"
          ],
          [
           "Dogfish Head Midas Touch"
          ],
          [
           "Bud American Ale"
          ],
          [
           "Sam Adams Imperial Stout"
          ],
          [
           "Sierra Nevada Bigfoot"
          ],
          [
           "Irish Red Ale"
          ],
          [
           "Leinenkugel Creamy Dark"
          ],
          [
           "Sam Adams Winter Lager"
          ],
          [
           "Lagunitas Brown Shugga'"
          ],
          [
           "Sierra Nevada Porter"
          ],
          [
           "Sierra Nevada Wheat Beer"
          ],
          [
           "Sam Adams Boston Ale"
          ],
          [
           "Dogfish Head 60 Minute IPA"
          ],
          [
           "Sam Adams Boston Lager"
          ],
          [
           "Deschutes Fresh Squeezed IPA"
          ],
          [
           "Sam Adams Honey Porter"
          ],
          [
           "Pilsner Urquell"
          ],
          [
           "Michelob Honey Lager"
          ],
          [
           "Lagunitas Hop Stoopid"
          ],
          [
           "Bud Light Chelada Clamato"
          ],
          [
           "New Belgium 1554"
          ],
          [
           "Deschutes Black Butte Porter"
          ],
          [
           "Sam Adams Scotch Ale"
          ],
          [
           "Budweiser Chelada"
          ],
          [
           "Anchor Porter"
          ],
          [
           "Sam Adams Cream Stout"
          ],
          [
           "Sierra Nevada Stout"
          ],
          [
           "Sam Adams Black Lager"
          ],
          [
           "Grolsch Blonde Lager"
          ],
          [
           "Rock Bottom Illuminator Doppelback"
          ]
         ],
         "hovertemplate": "Calories=%{x}<br>ABV=%{y}<br>Brand=%{customdata[0]}<br>Quintile=%{marker.color}<extra></extra>",
         "legendgroup": "",
         "marker": {
          "color": [
           5,
           5,
           5,
           5,
           5,
           5,
           5,
           5,
           5,
           5,
           5,
           5,
           5,
           5,
           5,
           5,
           5,
           5,
           5,
           5,
           5,
           5,
           5,
           5,
           5,
           5,
           5,
           5,
           5,
           5,
           5,
           5,
           5,
           5,
           5,
           5,
           5,
           5,
           5,
           5,
           5,
           5,
           5,
           5,
           5,
           5,
           5,
           5,
           5,
           5,
           5,
           5,
           5,
           5,
           4,
           4,
           4,
           4,
           4,
           4,
           4,
           4,
           4,
           4,
           4,
           4,
           4,
           4,
           4,
           4,
           4,
           4,
           4,
           4,
           4,
           4,
           4,
           4,
           4,
           4,
           4,
           4,
           4,
           4,
           4,
           4,
           4,
           4,
           4,
           4,
           4,
           4,
           4,
           4,
           4,
           4,
           4,
           4,
           4,
           4,
           4,
           4,
           4,
           4,
           4,
           4,
           4,
           4,
           3,
           3,
           3,
           3,
           3,
           3,
           3,
           3,
           3,
           3,
           3,
           3,
           3,
           3,
           3,
           3,
           3,
           3,
           3,
           3,
           3,
           3,
           3,
           3,
           3,
           3,
           3,
           3,
           3,
           3,
           3,
           3,
           3,
           3,
           3,
           3,
           3,
           3,
           3,
           3,
           3,
           3,
           3,
           3,
           3,
           3,
           3,
           3,
           3,
           3,
           3,
           2,
           2,
           2,
           2,
           2,
           2,
           2,
           2,
           2,
           2,
           2,
           2,
           2,
           2,
           2,
           2,
           2,
           2,
           2,
           2,
           2,
           2,
           2,
           2,
           2,
           2,
           2,
           2,
           2,
           2,
           2,
           2,
           2,
           2,
           2,
           2,
           2,
           2,
           2,
           2,
           2,
           2,
           2,
           2,
           2,
           2,
           2,
           2,
           2,
           2,
           2,
           2,
           2,
           2,
           2,
           2,
           2,
           1,
           1,
           1,
           1,
           1,
           1,
           1,
           1,
           1,
           1,
           1,
           1,
           1,
           1,
           1,
           1,
           1,
           1,
           1,
           1,
           1,
           1,
           1,
           1,
           1,
           1,
           1,
           1,
           1,
           1,
           1,
           1,
           1,
           1,
           1,
           1,
           1,
           1,
           1,
           1,
           1,
           1,
           1,
           1,
           1,
           1,
           1,
           1,
           1,
           1,
           1,
           1,
           1,
           1
          ],
          "coloraxis": "coloraxis",
          "symbol": "circle"
         },
         "mode": "markers",
         "name": "",
         "orientation": "v",
         "showlegend": false,
         "type": "scatter",
         "x": [
          85,
          130,
          67,
          123,
          83,
          90,
          95,
          95,
          137,
          96,
          64,
          183,
          95,
          55,
          99,
          136,
          95,
          96,
          99,
          99,
          95,
          95,
          142,
          99,
          99,
          97,
          102,
          123,
          97,
          450,
          125,
          111,
          105,
          104,
          129,
          113,
          99,
          107,
          110,
          110,
          110,
          156,
          188,
          114,
          110,
          221,
          67,
          110,
          97,
          186,
          157,
          163,
          136,
          136,
          313,
          150,
          165,
          215,
          116,
          119,
          64,
          154,
          238,
          149,
          142,
          128,
          200,
          160,
          143,
          123,
          132,
          110,
          188,
          110,
          113,
          200,
          200,
          145,
          195,
          140,
          143,
          146,
          149,
          190,
          158,
          161,
          125,
          173,
          132,
          138,
          141,
          147,
          147,
          147,
          147,
          271,
          118,
          236,
          175,
          142,
          154,
          160,
          160,
          95,
          159,
          125,
          155,
          155,
          161,
          290,
          150,
          153,
          150,
          168,
          150,
          120,
          175,
          163,
          160,
          305,
          148,
          148,
          145,
          142,
          149,
          200,
          167,
          144,
          155,
          140,
          140,
          128,
          128,
          152,
          164,
          153,
          141,
          157,
          230,
          160,
          160,
          314,
          151,
          142,
          142,
          310,
          179,
          146,
          146,
          168,
          168,
          140,
          140,
          218,
          156,
          156,
          153,
          153,
          153,
          150,
          175,
          180,
          150,
          194,
          144,
          141,
          145,
          135,
          157,
          214,
          170,
          148,
          167,
          145,
          161,
          158,
          187,
          162,
          216,
          328,
          153,
          153,
          150,
          147,
          163,
          160,
          320,
          160,
          176,
          125,
          154,
          215,
          138,
          135,
          190,
          190,
          155,
          168,
          152,
          149,
          149,
          175,
          159,
          152,
          228,
          180,
          294,
          170,
          157,
          180,
          164,
          174,
          148,
          145,
          145,
          163,
          165,
          175,
          166,
          180,
          180,
          110,
          188,
          150,
          160,
          187,
          167,
          135,
          231,
          228,
          168,
          166,
          205,
          165,
          320,
          182,
          190,
          170,
          170,
          160,
          160,
          307,
          182,
          316,
          330,
          196,
          170,
          200,
          335,
          194,
          153,
          188,
          209,
          175,
          225,
          192,
          156,
          174,
          285,
          151,
          205,
          192,
          200,
          186,
          209,
          190,
          225,
          191,
          120,
          288
         ],
         "xaxis": "x",
         "y": [
          4.3,
          5.9,
          3,
          5.5,
          3.7,
          4,
          4.2,
          4.2,
          6,
          4.2,
          2.8,
          8,
          4.15,
          2.4,
          4.3,
          5.9,
          4.1,
          4.1,
          4.2,
          4.2,
          4,
          4,
          5.9,
          4.1,
          4.1,
          4,
          4.2,
          5,
          3.9,
          18,
          5,
          4.43,
          4.19,
          4.13,
          5.1,
          4.4,
          3.8,
          4.1,
          4.2,
          4.2,
          4.2,
          5.9,
          7.1,
          4.3,
          4.14,
          8.3,
          2.5,
          4.1,
          3.6,
          6.9,
          5.8,
          6,
          5,
          5,
          11.5,
          5.5,
          6,
          7.8,
          4.2,
          4.3,
          2.3,
          5.5,
          8.5,
          5.3,
          5,
          4.5,
          7,
          5.6,
          5,
          4.3,
          4.6,
          3.82,
          6.5,
          3.8,
          3.9,
          6.9,
          6.9,
          5,
          6.7,
          4.8,
          4.9,
          5,
          5.1,
          6.5,
          5.4,
          5.5,
          4.27,
          5.9,
          4.5,
          4.7,
          4.8,
          5,
          5,
          5,
          5,
          9.2,
          4,
          8,
          5.93,
          4.8,
          5.2,
          5.4,
          5.4,
          3.2,
          5.35,
          4.2,
          5.2,
          5.2,
          5.4,
          9.7,
          5,
          5.1,
          5,
          5.6,
          5,
          4,
          5.8,
          5.4,
          5.3,
          10.1,
          4.9,
          4.9,
          4.8,
          4.7,
          4.92,
          6.6,
          5.5,
          4.74,
          5.1,
          4.6,
          4.6,
          4.2,
          4.2,
          4.97,
          5.36,
          5,
          4.6,
          5.12,
          7.5,
          5.2,
          5.2,
          10.2,
          4.9,
          4.6,
          4.6,
          10,
          5.77,
          4.7,
          4.7,
          5.4,
          5.4,
          4.5,
          4.5,
          7,
          5,
          5,
          4.9,
          4.9,
          4.9,
          4.8,
          5.6,
          5.76,
          4.8,
          6.2,
          4.6,
          4.5,
          4.62,
          4.3,
          5,
          6.8,
          5.4,
          4.7,
          5.3,
          4.6,
          5.1,
          5,
          5.9,
          5.1,
          6.8,
          10.3,
          4.8,
          4.8,
          4.7,
          4.6,
          5.1,
          5,
          10,
          5,
          5.5,
          3.9,
          4.8,
          6.7,
          4.3,
          4.2,
          5.9,
          5.9,
          4.8,
          5.2,
          4.7,
          4.6,
          4.6,
          5.4,
          4.9,
          4.67,
          7,
          5.52,
          9,
          5.2,
          4.8,
          5.5,
          5,
          5.3,
          4.5,
          4.4,
          4.4,
          4.94,
          5,
          5.3,
          5,
          5.4,
          5.4,
          3.3,
          5.64,
          4.5,
          4.8,
          5.6,
          5,
          4.04,
          6.9,
          6.8,
          5,
          4.94,
          6.1,
          4.9,
          9.5,
          5.4,
          5.6,
          5,
          5,
          4.7,
          4.7,
          9,
          5.3,
          9.2,
          9.6,
          5.7,
          4.94,
          5.8,
          9.7,
          5.6,
          4.4,
          5.4,
          6,
          5,
          6.4,
          5.45,
          4.4,
          4.9,
          8,
          4.2,
          5.6,
          5.2,
          5.4,
          5,
          5.6,
          4.9,
          5.8,
          4.9,
          2.8,
          6.67
         ],
         "yaxis": "y"
        }
       ],
       "layout": {
        "coloraxis": {
         "colorbar": {
          "title": {
           "text": "Quintile"
          }
         },
         "colorscale": [
          [
           0,
           "#0d0887"
          ],
          [
           0.1111111111111111,
           "#46039f"
          ],
          [
           0.2222222222222222,
           "#7201a8"
          ],
          [
           0.3333333333333333,
           "#9c179e"
          ],
          [
           0.4444444444444444,
           "#bd3786"
          ],
          [
           0.5555555555555556,
           "#d8576b"
          ],
          [
           0.6666666666666666,
           "#ed7953"
          ],
          [
           0.7777777777777778,
           "#fb9f3a"
          ],
          [
           0.8888888888888888,
           "#fdca26"
          ],
          [
           1,
           "#f0f921"
          ]
         ]
        },
        "height": 700,
        "legend": {
         "tracegroupgap": 0
        },
        "margin": {
         "t": 60
        },
        "template": {
         "data": {
          "bar": [
           {
            "error_x": {
             "color": "#2a3f5f"
            },
            "error_y": {
             "color": "#2a3f5f"
            },
            "marker": {
             "line": {
              "color": "#E5ECF6",
              "width": 0.5
             },
             "pattern": {
              "fillmode": "overlay",
              "size": 10,
              "solidity": 0.2
             }
            },
            "type": "bar"
           }
          ],
          "barpolar": [
           {
            "marker": {
             "line": {
              "color": "#E5ECF6",
              "width": 0.5
             },
             "pattern": {
              "fillmode": "overlay",
              "size": 10,
              "solidity": 0.2
             }
            },
            "type": "barpolar"
           }
          ],
          "carpet": [
           {
            "aaxis": {
             "endlinecolor": "#2a3f5f",
             "gridcolor": "white",
             "linecolor": "white",
             "minorgridcolor": "white",
             "startlinecolor": "#2a3f5f"
            },
            "baxis": {
             "endlinecolor": "#2a3f5f",
             "gridcolor": "white",
             "linecolor": "white",
             "minorgridcolor": "white",
             "startlinecolor": "#2a3f5f"
            },
            "type": "carpet"
           }
          ],
          "choropleth": [
           {
            "colorbar": {
             "outlinewidth": 0,
             "ticks": ""
            },
            "type": "choropleth"
           }
          ],
          "contour": [
           {
            "colorbar": {
             "outlinewidth": 0,
             "ticks": ""
            },
            "colorscale": [
             [
              0,
              "#0d0887"
             ],
             [
              0.1111111111111111,
              "#46039f"
             ],
             [
              0.2222222222222222,
              "#7201a8"
             ],
             [
              0.3333333333333333,
              "#9c179e"
             ],
             [
              0.4444444444444444,
              "#bd3786"
             ],
             [
              0.5555555555555556,
              "#d8576b"
             ],
             [
              0.6666666666666666,
              "#ed7953"
             ],
             [
              0.7777777777777778,
              "#fb9f3a"
             ],
             [
              0.8888888888888888,
              "#fdca26"
             ],
             [
              1,
              "#f0f921"
             ]
            ],
            "type": "contour"
           }
          ],
          "contourcarpet": [
           {
            "colorbar": {
             "outlinewidth": 0,
             "ticks": ""
            },
            "type": "contourcarpet"
           }
          ],
          "heatmap": [
           {
            "colorbar": {
             "outlinewidth": 0,
             "ticks": ""
            },
            "colorscale": [
             [
              0,
              "#0d0887"
             ],
             [
              0.1111111111111111,
              "#46039f"
             ],
             [
              0.2222222222222222,
              "#7201a8"
             ],
             [
              0.3333333333333333,
              "#9c179e"
             ],
             [
              0.4444444444444444,
              "#bd3786"
             ],
             [
              0.5555555555555556,
              "#d8576b"
             ],
             [
              0.6666666666666666,
              "#ed7953"
             ],
             [
              0.7777777777777778,
              "#fb9f3a"
             ],
             [
              0.8888888888888888,
              "#fdca26"
             ],
             [
              1,
              "#f0f921"
             ]
            ],
            "type": "heatmap"
           }
          ],
          "heatmapgl": [
           {
            "colorbar": {
             "outlinewidth": 0,
             "ticks": ""
            },
            "colorscale": [
             [
              0,
              "#0d0887"
             ],
             [
              0.1111111111111111,
              "#46039f"
             ],
             [
              0.2222222222222222,
              "#7201a8"
             ],
             [
              0.3333333333333333,
              "#9c179e"
             ],
             [
              0.4444444444444444,
              "#bd3786"
             ],
             [
              0.5555555555555556,
              "#d8576b"
             ],
             [
              0.6666666666666666,
              "#ed7953"
             ],
             [
              0.7777777777777778,
              "#fb9f3a"
             ],
             [
              0.8888888888888888,
              "#fdca26"
             ],
             [
              1,
              "#f0f921"
             ]
            ],
            "type": "heatmapgl"
           }
          ],
          "histogram": [
           {
            "marker": {
             "pattern": {
              "fillmode": "overlay",
              "size": 10,
              "solidity": 0.2
             }
            },
            "type": "histogram"
           }
          ],
          "histogram2d": [
           {
            "colorbar": {
             "outlinewidth": 0,
             "ticks": ""
            },
            "colorscale": [
             [
              0,
              "#0d0887"
             ],
             [
              0.1111111111111111,
              "#46039f"
             ],
             [
              0.2222222222222222,
              "#7201a8"
             ],
             [
              0.3333333333333333,
              "#9c179e"
             ],
             [
              0.4444444444444444,
              "#bd3786"
             ],
             [
              0.5555555555555556,
              "#d8576b"
             ],
             [
              0.6666666666666666,
              "#ed7953"
             ],
             [
              0.7777777777777778,
              "#fb9f3a"
             ],
             [
              0.8888888888888888,
              "#fdca26"
             ],
             [
              1,
              "#f0f921"
             ]
            ],
            "type": "histogram2d"
           }
          ],
          "histogram2dcontour": [
           {
            "colorbar": {
             "outlinewidth": 0,
             "ticks": ""
            },
            "colorscale": [
             [
              0,
              "#0d0887"
             ],
             [
              0.1111111111111111,
              "#46039f"
             ],
             [
              0.2222222222222222,
              "#7201a8"
             ],
             [
              0.3333333333333333,
              "#9c179e"
             ],
             [
              0.4444444444444444,
              "#bd3786"
             ],
             [
              0.5555555555555556,
              "#d8576b"
             ],
             [
              0.6666666666666666,
              "#ed7953"
             ],
             [
              0.7777777777777778,
              "#fb9f3a"
             ],
             [
              0.8888888888888888,
              "#fdca26"
             ],
             [
              1,
              "#f0f921"
             ]
            ],
            "type": "histogram2dcontour"
           }
          ],
          "mesh3d": [
           {
            "colorbar": {
             "outlinewidth": 0,
             "ticks": ""
            },
            "type": "mesh3d"
           }
          ],
          "parcoords": [
           {
            "line": {
             "colorbar": {
              "outlinewidth": 0,
              "ticks": ""
             }
            },
            "type": "parcoords"
           }
          ],
          "pie": [
           {
            "automargin": true,
            "type": "pie"
           }
          ],
          "scatter": [
           {
            "fillpattern": {
             "fillmode": "overlay",
             "size": 10,
             "solidity": 0.2
            },
            "type": "scatter"
           }
          ],
          "scatter3d": [
           {
            "line": {
             "colorbar": {
              "outlinewidth": 0,
              "ticks": ""
             }
            },
            "marker": {
             "colorbar": {
              "outlinewidth": 0,
              "ticks": ""
             }
            },
            "type": "scatter3d"
           }
          ],
          "scattercarpet": [
           {
            "marker": {
             "colorbar": {
              "outlinewidth": 0,
              "ticks": ""
             }
            },
            "type": "scattercarpet"
           }
          ],
          "scattergeo": [
           {
            "marker": {
             "colorbar": {
              "outlinewidth": 0,
              "ticks": ""
             }
            },
            "type": "scattergeo"
           }
          ],
          "scattergl": [
           {
            "marker": {
             "colorbar": {
              "outlinewidth": 0,
              "ticks": ""
             }
            },
            "type": "scattergl"
           }
          ],
          "scattermapbox": [
           {
            "marker": {
             "colorbar": {
              "outlinewidth": 0,
              "ticks": ""
             }
            },
            "type": "scattermapbox"
           }
          ],
          "scatterpolar": [
           {
            "marker": {
             "colorbar": {
              "outlinewidth": 0,
              "ticks": ""
             }
            },
            "type": "scatterpolar"
           }
          ],
          "scatterpolargl": [
           {
            "marker": {
             "colorbar": {
              "outlinewidth": 0,
              "ticks": ""
             }
            },
            "type": "scatterpolargl"
           }
          ],
          "scatterternary": [
           {
            "marker": {
             "colorbar": {
              "outlinewidth": 0,
              "ticks": ""
             }
            },
            "type": "scatterternary"
           }
          ],
          "surface": [
           {
            "colorbar": {
             "outlinewidth": 0,
             "ticks": ""
            },
            "colorscale": [
             [
              0,
              "#0d0887"
             ],
             [
              0.1111111111111111,
              "#46039f"
             ],
             [
              0.2222222222222222,
              "#7201a8"
             ],
             [
              0.3333333333333333,
              "#9c179e"
             ],
             [
              0.4444444444444444,
              "#bd3786"
             ],
             [
              0.5555555555555556,
              "#d8576b"
             ],
             [
              0.6666666666666666,
              "#ed7953"
             ],
             [
              0.7777777777777778,
              "#fb9f3a"
             ],
             [
              0.8888888888888888,
              "#fdca26"
             ],
             [
              1,
              "#f0f921"
             ]
            ],
            "type": "surface"
           }
          ],
          "table": [
           {
            "cells": {
             "fill": {
              "color": "#EBF0F8"
             },
             "line": {
              "color": "white"
             }
            },
            "header": {
             "fill": {
              "color": "#C8D4E3"
             },
             "line": {
              "color": "white"
             }
            },
            "type": "table"
           }
          ]
         },
         "layout": {
          "annotationdefaults": {
           "arrowcolor": "#2a3f5f",
           "arrowhead": 0,
           "arrowwidth": 1
          },
          "autotypenumbers": "strict",
          "coloraxis": {
           "colorbar": {
            "outlinewidth": 0,
            "ticks": ""
           }
          },
          "colorscale": {
           "diverging": [
            [
             0,
             "#8e0152"
            ],
            [
             0.1,
             "#c51b7d"
            ],
            [
             0.2,
             "#de77ae"
            ],
            [
             0.3,
             "#f1b6da"
            ],
            [
             0.4,
             "#fde0ef"
            ],
            [
             0.5,
             "#f7f7f7"
            ],
            [
             0.6,
             "#e6f5d0"
            ],
            [
             0.7,
             "#b8e186"
            ],
            [
             0.8,
             "#7fbc41"
            ],
            [
             0.9,
             "#4d9221"
            ],
            [
             1,
             "#276419"
            ]
           ],
           "sequential": [
            [
             0,
             "#0d0887"
            ],
            [
             0.1111111111111111,
             "#46039f"
            ],
            [
             0.2222222222222222,
             "#7201a8"
            ],
            [
             0.3333333333333333,
             "#9c179e"
            ],
            [
             0.4444444444444444,
             "#bd3786"
            ],
            [
             0.5555555555555556,
             "#d8576b"
            ],
            [
             0.6666666666666666,
             "#ed7953"
            ],
            [
             0.7777777777777778,
             "#fb9f3a"
            ],
            [
             0.8888888888888888,
             "#fdca26"
            ],
            [
             1,
             "#f0f921"
            ]
           ],
           "sequentialminus": [
            [
             0,
             "#0d0887"
            ],
            [
             0.1111111111111111,
             "#46039f"
            ],
            [
             0.2222222222222222,
             "#7201a8"
            ],
            [
             0.3333333333333333,
             "#9c179e"
            ],
            [
             0.4444444444444444,
             "#bd3786"
            ],
            [
             0.5555555555555556,
             "#d8576b"
            ],
            [
             0.6666666666666666,
             "#ed7953"
            ],
            [
             0.7777777777777778,
             "#fb9f3a"
            ],
            [
             0.8888888888888888,
             "#fdca26"
            ],
            [
             1,
             "#f0f921"
            ]
           ]
          },
          "colorway": [
           "#636efa",
           "#EF553B",
           "#00cc96",
           "#ab63fa",
           "#FFA15A",
           "#19d3f3",
           "#FF6692",
           "#B6E880",
           "#FF97FF",
           "#FECB52"
          ],
          "font": {
           "color": "#2a3f5f"
          },
          "geo": {
           "bgcolor": "white",
           "lakecolor": "white",
           "landcolor": "#E5ECF6",
           "showlakes": true,
           "showland": true,
           "subunitcolor": "white"
          },
          "hoverlabel": {
           "align": "left"
          },
          "hovermode": "closest",
          "mapbox": {
           "style": "light"
          },
          "paper_bgcolor": "white",
          "plot_bgcolor": "#E5ECF6",
          "polar": {
           "angularaxis": {
            "gridcolor": "white",
            "linecolor": "white",
            "ticks": ""
           },
           "bgcolor": "#E5ECF6",
           "radialaxis": {
            "gridcolor": "white",
            "linecolor": "white",
            "ticks": ""
           }
          },
          "scene": {
           "xaxis": {
            "backgroundcolor": "#E5ECF6",
            "gridcolor": "white",
            "gridwidth": 2,
            "linecolor": "white",
            "showbackground": true,
            "ticks": "",
            "zerolinecolor": "white"
           },
           "yaxis": {
            "backgroundcolor": "#E5ECF6",
            "gridcolor": "white",
            "gridwidth": 2,
            "linecolor": "white",
            "showbackground": true,
            "ticks": "",
            "zerolinecolor": "white"
           },
           "zaxis": {
            "backgroundcolor": "#E5ECF6",
            "gridcolor": "white",
            "gridwidth": 2,
            "linecolor": "white",
            "showbackground": true,
            "ticks": "",
            "zerolinecolor": "white"
           }
          },
          "shapedefaults": {
           "line": {
            "color": "#2a3f5f"
           }
          },
          "ternary": {
           "aaxis": {
            "gridcolor": "white",
            "linecolor": "white",
            "ticks": ""
           },
           "baxis": {
            "gridcolor": "white",
            "linecolor": "white",
            "ticks": ""
           },
           "bgcolor": "#E5ECF6",
           "caxis": {
            "gridcolor": "white",
            "linecolor": "white",
            "ticks": ""
           }
          },
          "title": {
           "x": 0.05
          },
          "xaxis": {
           "automargin": true,
           "gridcolor": "white",
           "linecolor": "white",
           "ticks": "",
           "title": {
            "standoff": 15
           },
           "zerolinecolor": "white",
           "zerolinewidth": 2
          },
          "yaxis": {
           "automargin": true,
           "gridcolor": "white",
           "linecolor": "white",
           "ticks": "",
           "title": {
            "standoff": 15
           },
           "zerolinecolor": "white",
           "zerolinewidth": 2
          }
         }
        },
        "width": 700,
        "xaxis": {
         "anchor": "y",
         "autorange": true,
         "domain": [
          0,
          1
         ],
         "range": [
          29.502374784110536,
          475.49762521588946
         ],
         "title": {
          "text": "Calories"
         },
         "type": "linear"
        },
        "yaxis": {
         "anchor": "x",
         "autorange": true,
         "domain": [
          0,
          1
         ],
         "range": [
          1.296022155085599,
          19.003977844914402
         ],
         "title": {
          "text": "ABV"
         },
         "type": "linear"
        }
       }
      },
      "image/png": "[encoded data removed]",
      "text/html": [
       "<div>                            <div id=\"f3772c42-a62d-4939-8e2d-9c95a799079a\" class=\"plotly-graph-div\" style=\"height:700px; width:700px;\"></div>            <script type=\"text/javascript\">                require([\"plotly\"], function(Plotly) {                    window.PLOTLYENV=window.PLOTLYENV || {};                                    if (document.getElementById(\"f3772c42-a62d-4939-8e2d-9c95a799079a\")) {                    Plotly.newPlot(                        \"f3772c42-a62d-4939-8e2d-9c95a799079a\",                        [{\"customdata\":[[\"Michelob Ultra Pure Gold\"],[\"Natural Ice\"],[\"Molson Canadian 67\"],[\"Bud Ice\"],[\"Rolling Rock Green Light\"],[\"Corona Premier\"],[\"Natural Light\"],[\"Michelob Ultra\"],[\"Bud Light Platinum\"],[\"Miller Lite\"],[\"Miller64\"],[\"Natty Daddy\"],[\"Iron City Light\"],[\"Budweiser Select 55\"],[\"Budweiser Select\"],[\"Busch Ice\"],[\"Busch Light\"],[\"Milwaukee's Best Light\"],[\"Omission Ultimate Light\"],[\"Heineken Light\"],[\"Michelob Ultra Amber\"],[\"Michelob Ultra Lime Cactus\"],[\"Keystone Ice\"],[\"Corona Light\"],[\"Amstel Light\"],[\"Hiland Light\"],[\"Coors Light\"],[\"Southpaw Light\"],[\"Shipyard Light\"],[\"Dogfish Head 120 Minute IPA\"],[\"New Planet Tread Lightly Ale\"],[\"Keystone Premium\"],[\"Leinenkugel Light\"],[\"Keystone Light\"],[\"Flying Dog Tire Bite Golden Ale\"],[\"Stroh's Light\"],[\"Yuengling Light Lager\"],[\"Miller High Life Light\"],[\"New Belgium Skinny Dip\"],[\"Bud Light\"],[\"Schlitz Light\"],[\"Genesee Ice\"],[\"Flying Dog Snake Dog IPA\"],[\"Busch\"],[\"Leinenkugel Amber Light\"],[\"Flying Dog Raging Bitch\"],[\"Pabst Extra Light Low Alcohol\"],[\"Michelob Golden Draft Light\"],[\"Grolsch Light Lager\"],[\"Miller Fortune\"],[\"Mickey's Ice\"],[\"Flying Dog Road Dog\"],[\"Wyder's Pear Cider\"],[\"Molson Canadian\"],[\"Flying Dog Double Dog\"],[\"Flying Dog Doggie Style Pale Ale\"],[\"Winter's Bourbon Cask Ale\"],[\"New Belgium Trippel\"],[\"Bud Light Lime\"],[\"Sam Adams Light\"],[\"Beck's Light\"],[\"Flying Dog Old Scratch Amber Lager\"],[\"Flying Dog Kerberos Tripel\"],[\"Tyskie\"],[\"Grolsch Premium Lager\"],[\"Abita Amber\"],[\"New Belgium Abbey\"],[\"Molson Ice\"],[\"Beck's\"],[\"Michelob Light\"],[\"Cristal (Peru)\"],[\"Old Milwaukee Light\"],[\"Redhook IPA\"],[\"Hamm's Special Light\"],[\"Molson Canadian Light\"],[\"Brooklyn East India Pale Ale\"],[\"Smuttynose Fineskind IPA\"],[\"Budweiser\"],[\"Omission IPA\"],[\"New Belgium Blue Paddle\"],[\"Lech\"],[\"Foster's\"],[\"Peroni Nastro Azzurro\"],[\"Abita Jockamo IPA\"],[\"Yuengling Lord Chesterfield Ale\"],[\"Foster's Premium Ale\"],[\"Guinness Draught\"],[\"Milwaukee's Best Ice (Beast Ice)\"],[\"Rolling Rock Premium Beer\"],[\"Flying Dog In Heat Wheat\"],[\"Cusquena\"],[\"Presidente\"],[\"Red Dog\"],[\"Kirin\"],[\"Coors Banquet\"],[\"Flying Dog Gonzo\"],[\"Abita Light\"],[\"Russian River Pliny the Elder\"],[\"Sam Adams IPA\"],[\"Milwaukee's Best (Premium)\"],[\"Stella Artois\"],[\"Sam Adams Pale Ale\"],[\"Grolsch Amber Ale\"],[\"Kirin Light\"],[\"Sam Adams Brown Ale\"],[\"Abita Golden\"],[\"Harp Lager\"],[\"Michelob AmberBock\"],[\"Blue Moon Rising Moon Spring Ale\"],[\"Ommegang Three Philosophers\"],[\"Wyder's Apple Cider\"],[\"Magic Hat #9\"],[\"Brooklyn Summer Ale\"],[\"Abita Turbodog\"],[\"Heineken\"],[\"Puppers Premium Lager\"],[\"Omission Pale Ale\"],[\"Beach Bum Blonde Ale\"],[\"Sam Adams Summer Ale\"],[\"Brooklyn Monster\"],[\"St. Pauli Girl\"],[\"Genesee Red\"],[\"New Belgium Sunshine Wheat\"],[\"Hamm's Beer\"],[\"Leinenkugel Honey Weiss\"],[\"New Belgium 2 Below\"],[\"Michelob Dunkelweisse\"],[\"Pabst Blue Ribbon\"],[\"Brooklyn Pilsner\"],[\"Miller Genuine Draft (MGD)\"],[\"Omission Lager\"],[\"Abita Purple Haze\"],[\"Sol Cerveza\"],[\"Coors Extra Gold\"],[\"Blue Moon Belgian White\"],[\"Guinness Extra Stout\"],[\"Miller High Life\"],[\"Blue Moon Honey Moon Summer Ale\"],[\"Lagunitas Little Sumpin' Sumpin' Ale\"],[\"New Belgium Fat Tire\"],[\"Lowenbrau Special Beer\"],[\"Flying Dog Horn Dog\"],[\"Weinhard's Hefeweizen\"],[\"Rolling Rock Extra Pale\"],[\"Schaefer Beer\"],[\"Dogfish Head Red & White\"],[\"Redhook ESB\"],[\"Olympia Premium Lager\"],[\"Schlitz Beer\"],[\"George Killian's Irish Red\"],[\"Yuengling Oktoberfest\"],[\"Iron City\"],[\"Yuengling Lager\"],[\"Sierra Nevada Pale Bock\"],[\"Tuborg Export Quality\"],[\"Bass Ale\"],[\"Hoegaarden Belgian White\"],[\"Anchor Steam\"],[\"Red Stripe\"],[\"St. Pauli Girl Special Dark\"],[\"Sierra Nevada Pale Ale\"],[\"Blue Moon Harvest Moon Pumpkin Ale\"],[\"Weinhard's Private Reserve\"],[\"Lagunitas IPA\"],[\"Harbin\"],[\"Yuengling Premium Beer\"],[\"Michael Shea's\"],[\"Augustiner Amber Lager\"],[\"Sierra Nevada Draft Ale\"],[\"Sierra Nevada Celebration Ale\"],[\"Negra Modelo\"],[\"Boddington's Ale\"],[\"Sam Adams Coastal Wheat\"],[\"Old Milwaukee Beer\"],[\"Weinhard's Blonde Lager\"],[\"Sierra Nevada Summerfest\"],[\"Michelob Porter\"],[\"Genesee Cream Ale\"],[\"Rogue Dead Guy Ale\"],[\"Sam Adams Imperial White\"],[\"Signature Stroh Beer\"],[\"Blatz Beer\"],[\"Newcastle Brown Ale\"],[\"Weinhard's Pale Ale\"],[\"Tuborg Deluxe Dark Export\"],[\"Brooklyn Pennant Pale Ale\"],[\"Brooklyn Black Chocolate Stout\"],[\"Lowenbrau Dark\"],[\"Sam Adams Blackberry Witbier\"],[\"Redhook Slim Chance\"],[\"Corona Familiar\"],[\"Sierra Nevada Harvest Ale\"],[\"Carling Black Label\"],[\"Weinhard's Amber Light\"],[\"Sierra Nevada Early Spring Beer\"],[\"Sierra Nevada Anniversary Ale\"],[\"New Belgium Mothership Wit\"],[\"Shock Top\"],[\"Michelob Golden Draft\"],[\"Corona Extra\"],[\"Stroh's Beer\"],[\"Sam Adams White Ale\"],[\"Widmer Hefeweizen\"],[\"Leinenkugel Original\"],[\"Sculpin IPA\"],[\"Blue Moon Full Moon Winter Ale\"],[\"Dogfish Head 90 Minute IPA\"],[\"Brooklyn Lager\"],[\"Tsingtao\"],[\"Sam Adams Irish Red\"],[\"Michelob Beer\"],[\"Pete's Wicked Ale\"],[\"Genesee Beer\"],[\"Pacifico\"],[\"Modelo Especial\"],[\"Leinenkugel Northwoods Lager\"],[\"Redd's Apple Ale\"],[\"Blue Point Toasted Lager\"],[\"Firestone DBA\"],[\"Sam Adams Octoberfest\"],[\"Sam Adams Cherry Wheat\"],[\"Strauss Endless Summer Light\"],[\"Stone Pale Ale\"],[\"Smithwick's\"],[\"Red Bridge\"],[\"Michelob Pale Ale\"],[\"Abita Restoration\"],[\"Victoria\"],[\"Sierra Nevada India Pale Ale\"],[\"Deschutes Inversion IPA\"],[\"Dogfish Head Shelter Pale Ale\"],[\"Leinenkugel Red\"],[\"Brooklyn Winter Ale\"],[\"Leinenkugel Sunset Wheat\"],[\"Sam Adams Imperial Double Bock\"],[\"Sam Adams Hefeweizen\"],[\"Brooklyn Brown Ale\"],[\"Efes Pils\"],[\"Deschutes Mirror Pond Ale\"],[\"Yuengling Porter\"],[\"Yuengling Porter\"],[\"Dogfish Head Midas Touch\"],[\"Bud American Ale\"],[\"Sam Adams Imperial Stout\"],[\"Sierra Nevada Bigfoot\"],[\"Irish Red Ale\"],[\"Leinenkugel Creamy Dark\"],[\"Sam Adams Winter Lager\"],[\"Lagunitas Brown Shugga'\"],[\"Sierra Nevada Porter\"],[\"Sierra Nevada Wheat Beer\"],[\"Sam Adams Boston Ale\"],[\"Dogfish Head 60 Minute IPA\"],[\"Sam Adams Boston Lager\"],[\"Deschutes Fresh Squeezed IPA\"],[\"Sam Adams Honey Porter\"],[\"Pilsner Urquell\"],[\"Michelob Honey Lager\"],[\"Lagunitas Hop Stoopid\"],[\"Bud Light Chelada Clamato\"],[\"New Belgium 1554\"],[\"Deschutes Black Butte Porter\"],[\"Sam Adams Scotch Ale\"],[\"Budweiser Chelada\"],[\"Anchor Porter\"],[\"Sam Adams Cream Stout\"],[\"Sierra Nevada Stout\"],[\"Sam Adams Black Lager\"],[\"Grolsch Blonde Lager\"],[\"Rock Bottom Illuminator Doppelback\"]],\"hovertemplate\":\"Calories=%{x}<br>ABV=%{y}<br>Brand=%{customdata[0]}<br>Quintile=%{marker.color}<extra></extra>\",\"legendgroup\":\"\",\"marker\":{\"color\":[5,5,5,5,5,5,5,5,5,5,5,5,5,5,5,5,5,5,5,5,5,5,5,5,5,5,5,5,5,5,5,5,5,5,5,5,5,5,5,5,5,5,5,5,5,5,5,5,5,5,5,5,5,5,4,4,4,4,4,4,4,4,4,4,4,4,4,4,4,4,4,4,4,4,4,4,4,4,4,4,4,4,4,4,4,4,4,4,4,4,4,4,4,4,4,4,4,4,4,4,4,4,4,4,4,4,4,4,3,3,3,3,3,3,3,3,3,3,3,3,3,3,3,3,3,3,3,3,3,3,3,3,3,3,3,3,3,3,3,3,3,3,3,3,3,3,3,3,3,3,3,3,3,3,3,3,3,3,3,2,2,2,2,2,2,2,2,2,2,2,2,2,2,2,2,2,2,2,2,2,2,2,2,2,2,2,2,2,2,2,2,2,2,2,2,2,2,2,2,2,2,2,2,2,2,2,2,2,2,2,2,2,2,2,2,2,1,1,1,1,1,1,1,1,1,1,1,1,1,1,1,1,1,1,1,1,1,1,1,1,1,1,1,1,1,1,1,1,1,1,1,1,1,1,1,1,1,1,1,1,1,1,1,1,1,1,1,1,1,1],\"coloraxis\":\"coloraxis\",\"symbol\":\"circle\"},\"mode\":\"markers\",\"name\":\"\",\"orientation\":\"v\",\"showlegend\":false,\"x\":[85,130,67,123,83,90,95,95,137,96,64,183,95,55,99,136,95,96,99,99,95,95,142,99,99,97,102,123,97,450,125,111,105,104,129,113,99,107,110,110,110,156,188,114,110,221,67,110,97,186,157,163,136,136,313,150,165,215,116,119,64,154,238,149,142,128,200,160,143,123,132,110,188,110,113,200,200,145,195,140,143,146,149,190,158,161,125,173,132,138,141,147,147,147,147,271,118,236,175,142,154,160,160,95,159,125,155,155,161,290,150,153,150,168,150,120,175,163,160,305,148,148,145,142,149,200,167,144,155,140,140,128,128,152,164,153,141,157,230,160,160,314,151,142,142,310,179,146,146,168,168,140,140,218,156,156,153,153,153,150,175,180,150,194,144,141,145,135,157,214,170,148,167,145,161,158,187,162,216,328,153,153,150,147,163,160,320,160,176,125,154,215,138,135,190,190,155,168,152,149,149,175,159,152,228,180,294,170,157,180,164,174,148,145,145,163,165,175,166,180,180,110,188,150,160,187,167,135,231,228,168,166,205,165,320,182,190,170,170,160,160,307,182,316,330,196,170,200,335,194,153,188,209,175,225,192,156,174,285,151,205,192,200,186,209,190,225,191,120,288],\"xaxis\":\"x\",\"y\":[4.3,5.9,3.0,5.5,3.7,4.0,4.2,4.2,6.0,4.2,2.8,8.0,4.15,2.4,4.3,5.9,4.1,4.1,4.2,4.2,4.0,4.0,5.9,4.1,4.1,4.0,4.2,5.0,3.9,18.0,5.0,4.43,4.19,4.13,5.1,4.4,3.8,4.1,4.2,4.2,4.2,5.9,7.1,4.3,4.14,8.3,2.5,4.1,3.6,6.9,5.8,6.0,5.0,5.0,11.5,5.5,6.0,7.8,4.2,4.3,2.3,5.5,8.5,5.3,5.0,4.5,7.0,5.6,5.0,4.3,4.6,3.82,6.5,3.8,3.9,6.9,6.9,5.0,6.7,4.8,4.9,5.0,5.1,6.5,5.4,5.5,4.27,5.9,4.5,4.7,4.8,5.0,5.0,5.0,5.0,9.2,4.0,8.0,5.93,4.8,5.2,5.4,5.4,3.2,5.35,4.2,5.2,5.2,5.4,9.7,5.0,5.1,5.0,5.6,5.0,4.0,5.8,5.4,5.3,10.1,4.9,4.9,4.8,4.7,4.92,6.6,5.5,4.74,5.1,4.6,4.6,4.2,4.2,4.97,5.36,5.0,4.6,5.12,7.5,5.2,5.2,10.2,4.9,4.6,4.6,10.0,5.77,4.7,4.7,5.4,5.4,4.5,4.5,7.0,5.0,5.0,4.9,4.9,4.9,4.8,5.6,5.76,4.8,6.2,4.6,4.5,4.62,4.3,5.0,6.8,5.4,4.7,5.3,4.6,5.1,5.0,5.9,5.1,6.8,10.3,4.8,4.8,4.7,4.6,5.1,5.0,10.0,5.0,5.5,3.9,4.8,6.7,4.3,4.2,5.9,5.9,4.8,5.2,4.7,4.6,4.6,5.4,4.9,4.67,7.0,5.52,9.0,5.2,4.8,5.5,5.0,5.3,4.5,4.4,4.4,4.94,5.0,5.3,5.0,5.4,5.4,3.3,5.64,4.5,4.8,5.6,5.0,4.04,6.9,6.8,5.0,4.94,6.1,4.9,9.5,5.4,5.6,5.0,5.0,4.7,4.7,9.0,5.3,9.2,9.6,5.7,4.94,5.8,9.7,5.6,4.4,5.4,6.0,5.0,6.4,5.45,4.4,4.9,8.0,4.2,5.6,5.2,5.4,5.0,5.6,4.9,5.8,4.9,2.8,6.67],\"yaxis\":\"y\",\"type\":\"scatter\"}],                        {\"template\":{\"data\":{\"histogram2dcontour\":[{\"type\":\"histogram2dcontour\",\"colorbar\":{\"outlinewidth\":0,\"ticks\":\"\"},\"colorscale\":[[0.0,\"#0d0887\"],[0.1111111111111111,\"#46039f\"],[0.2222222222222222,\"#7201a8\"],[0.3333333333333333,\"#9c179e\"],[0.4444444444444444,\"#bd3786\"],[0.5555555555555556,\"#d8576b\"],[0.6666666666666666,\"#ed7953\"],[0.7777777777777778,\"#fb9f3a\"],[0.8888888888888888,\"#fdca26\"],[1.0,\"#f0f921\"]]}],\"choropleth\":[{\"type\":\"choropleth\",\"colorbar\":{\"outlinewidth\":0,\"ticks\":\"\"}}],\"histogram2d\":[{\"type\":\"histogram2d\",\"colorbar\":{\"outlinewidth\":0,\"ticks\":\"\"},\"colorscale\":[[0.0,\"#0d0887\"],[0.1111111111111111,\"#46039f\"],[0.2222222222222222,\"#7201a8\"],[0.3333333333333333,\"#9c179e\"],[0.4444444444444444,\"#bd3786\"],[0.5555555555555556,\"#d8576b\"],[0.6666666666666666,\"#ed7953\"],[0.7777777777777778,\"#fb9f3a\"],[0.8888888888888888,\"#fdca26\"],[1.0,\"#f0f921\"]]}],\"heatmap\":[{\"type\":\"heatmap\",\"colorbar\":{\"outlinewidth\":0,\"ticks\":\"\"},\"colorscale\":[[0.0,\"#0d0887\"],[0.1111111111111111,\"#46039f\"],[0.2222222222222222,\"#7201a8\"],[0.3333333333333333,\"#9c179e\"],[0.4444444444444444,\"#bd3786\"],[0.5555555555555556,\"#d8576b\"],[0.6666666666666666,\"#ed7953\"],[0.7777777777777778,\"#fb9f3a\"],[0.8888888888888888,\"#fdca26\"],[1.0,\"#f0f921\"]]}],\"heatmapgl\":[{\"type\":\"heatmapgl\",\"colorbar\":{\"outlinewidth\":0,\"ticks\":\"\"},\"colorscale\":[[0.0,\"#0d0887\"],[0.1111111111111111,\"#46039f\"],[0.2222222222222222,\"#7201a8\"],[0.3333333333333333,\"#9c179e\"],[0.4444444444444444,\"#bd3786\"],[0.5555555555555556,\"#d8576b\"],[0.6666666666666666,\"#ed7953\"],[0.7777777777777778,\"#fb9f3a\"],[0.8888888888888888,\"#fdca26\"],[1.0,\"#f0f921\"]]}],\"contourcarpet\":[{\"type\":\"contourcarpet\",\"colorbar\":{\"outlinewidth\":0,\"ticks\":\"\"}}],\"contour\":[{\"type\":\"contour\",\"colorbar\":{\"outlinewidth\":0,\"ticks\":\"\"},\"colorscale\":[[0.0,\"#0d0887\"],[0.1111111111111111,\"#46039f\"],[0.2222222222222222,\"#7201a8\"],[0.3333333333333333,\"#9c179e\"],[0.4444444444444444,\"#bd3786\"],[0.5555555555555556,\"#d8576b\"],[0.6666666666666666,\"#ed7953\"],[0.7777777777777778,\"#fb9f3a\"],[0.8888888888888888,\"#fdca26\"],[1.0,\"#f0f921\"]]}],\"surface\":[{\"type\":\"surface\",\"colorbar\":{\"outlinewidth\":0,\"ticks\":\"\"},\"colorscale\":[[0.0,\"#0d0887\"],[0.1111111111111111,\"#46039f\"],[0.2222222222222222,\"#7201a8\"],[0.3333333333333333,\"#9c179e\"],[0.4444444444444444,\"#bd3786\"],[0.5555555555555556,\"#d8576b\"],[0.6666666666666666,\"#ed7953\"],[0.7777777777777778,\"#fb9f3a\"],[0.8888888888888888,\"#fdca26\"],[1.0,\"#f0f921\"]]}],\"mesh3d\":[{\"type\":\"mesh3d\",\"colorbar\":{\"outlinewidth\":0,\"ticks\":\"\"}}],\"scatter\":[{\"fillpattern\":{\"fillmode\":\"overlay\",\"size\":10,\"solidity\":0.2},\"type\":\"scatter\"}],\"parcoords\":[{\"type\":\"parcoords\",\"line\":{\"colorbar\":{\"outlinewidth\":0,\"ticks\":\"\"}}}],\"scatterpolargl\":[{\"type\":\"scatterpolargl\",\"marker\":{\"colorbar\":{\"outlinewidth\":0,\"ticks\":\"\"}}}],\"bar\":[{\"error_x\":{\"color\":\"#2a3f5f\"},\"error_y\":{\"color\":\"#2a3f5f\"},\"marker\":{\"line\":{\"color\":\"#E5ECF6\",\"width\":0.5},\"pattern\":{\"fillmode\":\"overlay\",\"size\":10,\"solidity\":0.2}},\"type\":\"bar\"}],\"scattergeo\":[{\"type\":\"scattergeo\",\"marker\":{\"colorbar\":{\"outlinewidth\":0,\"ticks\":\"\"}}}],\"scatterpolar\":[{\"type\":\"scatterpolar\",\"marker\":{\"colorbar\":{\"outlinewidth\":0,\"ticks\":\"\"}}}],\"histogram\":[{\"marker\":{\"pattern\":{\"fillmode\":\"overlay\",\"size\":10,\"solidity\":0.2}},\"type\":\"histogram\"}],\"scattergl\":[{\"type\":\"scattergl\",\"marker\":{\"colorbar\":{\"outlinewidth\":0,\"ticks\":\"\"}}}],\"scatter3d\":[{\"type\":\"scatter3d\",\"line\":{\"colorbar\":{\"outlinewidth\":0,\"ticks\":\"\"}},\"marker\":{\"colorbar\":{\"outlinewidth\":0,\"ticks\":\"\"}}}],\"scattermapbox\":[{\"type\":\"scattermapbox\",\"marker\":{\"colorbar\":{\"outlinewidth\":0,\"ticks\":\"\"}}}],\"scatterternary\":[{\"type\":\"scatterternary\",\"marker\":{\"colorbar\":{\"outlinewidth\":0,\"ticks\":\"\"}}}],\"scattercarpet\":[{\"type\":\"scattercarpet\",\"marker\":{\"colorbar\":{\"outlinewidth\":0,\"ticks\":\"\"}}}],\"carpet\":[{\"aaxis\":{\"endlinecolor\":\"#2a3f5f\",\"gridcolor\":\"white\",\"linecolor\":\"white\",\"minorgridcolor\":\"white\",\"startlinecolor\":\"#2a3f5f\"},\"baxis\":{\"endlinecolor\":\"#2a3f5f\",\"gridcolor\":\"white\",\"linecolor\":\"white\",\"minorgridcolor\":\"white\",\"startlinecolor\":\"#2a3f5f\"},\"type\":\"carpet\"}],\"table\":[{\"cells\":{\"fill\":{\"color\":\"#EBF0F8\"},\"line\":{\"color\":\"white\"}},\"header\":{\"fill\":{\"color\":\"#C8D4E3\"},\"line\":{\"color\":\"white\"}},\"type\":\"table\"}],\"barpolar\":[{\"marker\":{\"line\":{\"color\":\"#E5ECF6\",\"width\":0.5},\"pattern\":{\"fillmode\":\"overlay\",\"size\":10,\"solidity\":0.2}},\"type\":\"barpolar\"}],\"pie\":[{\"automargin\":true,\"type\":\"pie\"}]},\"layout\":{\"autotypenumbers\":\"strict\",\"colorway\":[\"#636efa\",\"#EF553B\",\"#00cc96\",\"#ab63fa\",\"#FFA15A\",\"#19d3f3\",\"#FF6692\",\"#B6E880\",\"#FF97FF\",\"#FECB52\"],\"font\":{\"color\":\"#2a3f5f\"},\"hovermode\":\"closest\",\"hoverlabel\":{\"align\":\"left\"},\"paper_bgcolor\":\"white\",\"plot_bgcolor\":\"#E5ECF6\",\"polar\":{\"bgcolor\":\"#E5ECF6\",\"angularaxis\":{\"gridcolor\":\"white\",\"linecolor\":\"white\",\"ticks\":\"\"},\"radialaxis\":{\"gridcolor\":\"white\",\"linecolor\":\"white\",\"ticks\":\"\"}},\"ternary\":{\"bgcolor\":\"#E5ECF6\",\"aaxis\":{\"gridcolor\":\"white\",\"linecolor\":\"white\",\"ticks\":\"\"},\"baxis\":{\"gridcolor\":\"white\",\"linecolor\":\"white\",\"ticks\":\"\"},\"caxis\":{\"gridcolor\":\"white\",\"linecolor\":\"white\",\"ticks\":\"\"}},\"coloraxis\":{\"colorbar\":{\"outlinewidth\":0,\"ticks\":\"\"}},\"colorscale\":{\"sequential\":[[0.0,\"#0d0887\"],[0.1111111111111111,\"#46039f\"],[0.2222222222222222,\"#7201a8\"],[0.3333333333333333,\"#9c179e\"],[0.4444444444444444,\"#bd3786\"],[0.5555555555555556,\"#d8576b\"],[0.6666666666666666,\"#ed7953\"],[0.7777777777777778,\"#fb9f3a\"],[0.8888888888888888,\"#fdca26\"],[1.0,\"#f0f921\"]],\"sequentialminus\":[[0.0,\"#0d0887\"],[0.1111111111111111,\"#46039f\"],[0.2222222222222222,\"#7201a8\"],[0.3333333333333333,\"#9c179e\"],[0.4444444444444444,\"#bd3786\"],[0.5555555555555556,\"#d8576b\"],[0.6666666666666666,\"#ed7953\"],[0.7777777777777778,\"#fb9f3a\"],[0.8888888888888888,\"#fdca26\"],[1.0,\"#f0f921\"]],\"diverging\":[[0,\"#8e0152\"],[0.1,\"#c51b7d\"],[0.2,\"#de77ae\"],[0.3,\"#f1b6da\"],[0.4,\"#fde0ef\"],[0.5,\"#f7f7f7\"],[0.6,\"#e6f5d0\"],[0.7,\"#b8e186\"],[0.8,\"#7fbc41\"],[0.9,\"#4d9221\"],[1,\"#276419\"]]},\"xaxis\":{\"gridcolor\":\"white\",\"linecolor\":\"white\",\"ticks\":\"\",\"title\":{\"standoff\":15},\"zerolinecolor\":\"white\",\"automargin\":true,\"zerolinewidth\":2},\"yaxis\":{\"gridcolor\":\"white\",\"linecolor\":\"white\",\"ticks\":\"\",\"title\":{\"standoff\":15},\"zerolinecolor\":\"white\",\"automargin\":true,\"zerolinewidth\":2},\"scene\":{\"xaxis\":{\"backgroundcolor\":\"#E5ECF6\",\"gridcolor\":\"white\",\"linecolor\":\"white\",\"showbackground\":true,\"ticks\":\"\",\"zerolinecolor\":\"white\",\"gridwidth\":2},\"yaxis\":{\"backgroundcolor\":\"#E5ECF6\",\"gridcolor\":\"white\",\"linecolor\":\"white\",\"showbackground\":true,\"ticks\":\"\",\"zerolinecolor\":\"white\",\"gridwidth\":2},\"zaxis\":{\"backgroundcolor\":\"#E5ECF6\",\"gridcolor\":\"white\",\"linecolor\":\"white\",\"showbackground\":true,\"ticks\":\"\",\"zerolinecolor\":\"white\",\"gridwidth\":2}},\"shapedefaults\":{\"line\":{\"color\":\"#2a3f5f\"}},\"annotationdefaults\":{\"arrowcolor\":\"#2a3f5f\",\"arrowhead\":0,\"arrowwidth\":1},\"geo\":{\"bgcolor\":\"white\",\"landcolor\":\"#E5ECF6\",\"subunitcolor\":\"white\",\"showland\":true,\"showlakes\":true,\"lakecolor\":\"white\"},\"title\":{\"x\":0.05},\"mapbox\":{\"style\":\"light\"}}},\"xaxis\":{\"anchor\":\"y\",\"domain\":[0.0,1.0],\"title\":{\"text\":\"Calories\"}},\"yaxis\":{\"anchor\":\"x\",\"domain\":[0.0,1.0],\"title\":{\"text\":\"ABV\"}},\"coloraxis\":{\"colorbar\":{\"title\":{\"text\":\"Quintile\"}},\"colorscale\":[[0.0,\"#0d0887\"],[0.1111111111111111,\"#46039f\"],[0.2222222222222222,\"#7201a8\"],[0.3333333333333333,\"#9c179e\"],[0.4444444444444444,\"#bd3786\"],[0.5555555555555556,\"#d8576b\"],[0.6666666666666666,\"#ed7953\"],[0.7777777777777778,\"#fb9f3a\"],[0.8888888888888888,\"#fdca26\"],[1.0,\"#f0f921\"]]},\"legend\":{\"tracegroupgap\":0},\"margin\":{\"t\":60},\"height\":700,\"width\":700},                        {\"responsive\": true}                    ).then(function(){\n",
       "                            \n",
       "var gd = document.getElementById('f3772c42-a62d-4939-8e2d-9c95a799079a');\n",
       "var x = new MutationObserver(function (mutations, observer) {{\n",
       "        var display = window.getComputedStyle(gd).display;\n",
       "        if (!display || display === 'none') {{\n",
       "            console.log([gd, 'removed!']);\n",
       "            Plotly.purge(gd);\n",
       "            observer.disconnect();\n",
       "        }}\n",
       "}});\n",
       "\n",
       "// Listen for the removal of the full notebook cells\n",
       "var notebookContainer = gd.closest('#notebook-container');\n",
       "if (notebookContainer) {{\n",
       "    x.observe(notebookContainer, {childList: true});\n",
       "}}\n",
       "\n",
       "// Listen for the clearing of the current output cell\n",
       "var outputEl = gd.closest('.output');\n",
       "if (outputEl) {{\n",
       "    x.observe(outputEl, {childList: true});\n",
       "}}\n",
       "\n",
       "                        })                };                });            </script>        </div>"
      ]
     },
     "metadata": {},
     "output_type": "display_data"
    }
   ],
   "source": [
    "# Now color data points by quintiles of ABV/Calories\n",
    "fig = px.scatter(df, x=\"Calories\", y=\"ABV\",  hover_data=['Brand'], color=\"Quintile\",\n",
    "                width=700, height=700)\n",
    "fig.show()"
   ]
  },
  {
   "cell_type": "markdown",
   "id": "aba7b6ce-a38b-4b1c-a084-62c555baf7f3",
   "metadata": {},
   "source": [
    "No surprise that the highest quintile APC are above where the regression line would be but that yellow dot at 18% is interesting. Also, the mass of the ratio distribution is at the lower calorie range. So maybe there is something to light beers after all - just not taste!\n",
    "\n",
    "Quintiles nicely show the expected pattern so maybe slicing a little finer would be interesting. Deciles plus one maybe... \tūndeciles? So the median will be in the 6th quantile. Maybe a little wacky, but fun."
   ]
  },
  {
   "cell_type": "code",
   "execution_count": 44,
   "id": "466cc805-91b5-4250-9578-a57e8c6674fb",
   "metadata": {},
   "outputs": [
    {
     "data": {
      "application/vnd.plotly.v1+json": {
       "config": {
        "plotlyServerURL": "https://plot.ly"
       },
       "data": [
        {
         "customdata": [
          [
           "Michelob Ultra Pure Gold"
          ],
          [
           "Natural Ice"
          ],
          [
           "Molson Canadian 67"
          ],
          [
           "Bud Ice"
          ],
          [
           "Rolling Rock Green Light"
          ],
          [
           "Corona Premier"
          ],
          [
           "Natural Light"
          ],
          [
           "Michelob Ultra"
          ],
          [
           "Bud Light Platinum"
          ],
          [
           "Miller Lite"
          ],
          [
           "Miller64"
          ],
          [
           "Natty Daddy"
          ],
          [
           "Iron City Light"
          ],
          [
           "Budweiser Select 55"
          ],
          [
           "Budweiser Select"
          ],
          [
           "Busch Ice"
          ],
          [
           "Busch Light"
          ],
          [
           "Milwaukee's Best Light"
          ],
          [
           "Omission Ultimate Light"
          ],
          [
           "Heineken Light"
          ],
          [
           "Michelob Ultra Amber"
          ],
          [
           "Michelob Ultra Lime Cactus"
          ],
          [
           "Keystone Ice"
          ],
          [
           "Corona Light"
          ],
          [
           "Amstel Light"
          ],
          [
           "Hiland Light"
          ],
          [
           "Coors Light"
          ],
          [
           "Southpaw Light"
          ],
          [
           "Shipyard Light"
          ],
          [
           "Dogfish Head 120 Minute IPA"
          ],
          [
           "New Planet Tread Lightly Ale"
          ],
          [
           "Keystone Premium"
          ],
          [
           "Leinenkugel Light"
          ],
          [
           "Keystone Light"
          ],
          [
           "Flying Dog Tire Bite Golden Ale"
          ],
          [
           "Stroh's Light"
          ],
          [
           "Yuengling Light Lager"
          ],
          [
           "Miller High Life Light"
          ],
          [
           "New Belgium Skinny Dip"
          ],
          [
           "Bud Light"
          ],
          [
           "Schlitz Light"
          ],
          [
           "Genesee Ice"
          ],
          [
           "Flying Dog Snake Dog IPA"
          ],
          [
           "Busch"
          ],
          [
           "Leinenkugel Amber Light"
          ],
          [
           "Flying Dog Raging Bitch"
          ],
          [
           "Pabst Extra Light Low Alcohol"
          ],
          [
           "Michelob Golden Draft Light"
          ],
          [
           "Grolsch Light Lager"
          ],
          [
           "Miller Fortune"
          ],
          [
           "Mickey's Ice"
          ],
          [
           "Flying Dog Road Dog"
          ],
          [
           "Wyder's Pear Cider"
          ],
          [
           "Molson Canadian"
          ],
          [
           "Flying Dog Double Dog"
          ],
          [
           "Flying Dog Doggie Style Pale Ale"
          ],
          [
           "Winter's Bourbon Cask Ale"
          ],
          [
           "New Belgium Trippel"
          ],
          [
           "Bud Light Lime"
          ],
          [
           "Sam Adams Light"
          ],
          [
           "Beck's Light"
          ],
          [
           "Flying Dog Old Scratch Amber Lager"
          ],
          [
           "Flying Dog Kerberos Tripel"
          ],
          [
           "Tyskie"
          ],
          [
           "Grolsch Premium Lager"
          ],
          [
           "Abita Amber"
          ],
          [
           "New Belgium Abbey"
          ],
          [
           "Molson Ice"
          ],
          [
           "Beck's"
          ],
          [
           "Michelob Light"
          ],
          [
           "Cristal (Peru)"
          ],
          [
           "Old Milwaukee Light"
          ],
          [
           "Redhook IPA"
          ],
          [
           "Hamm's Special Light"
          ],
          [
           "Molson Canadian Light"
          ],
          [
           "Brooklyn East India Pale Ale"
          ],
          [
           "Smuttynose Fineskind IPA"
          ],
          [
           "Budweiser"
          ],
          [
           "Omission IPA"
          ],
          [
           "New Belgium Blue Paddle"
          ],
          [
           "Lech"
          ],
          [
           "Foster's"
          ],
          [
           "Peroni Nastro Azzurro"
          ],
          [
           "Abita Jockamo IPA"
          ],
          [
           "Yuengling Lord Chesterfield Ale"
          ],
          [
           "Foster's Premium Ale"
          ],
          [
           "Guinness Draught"
          ],
          [
           "Milwaukee's Best Ice (Beast Ice)"
          ],
          [
           "Rolling Rock Premium Beer"
          ],
          [
           "Flying Dog In Heat Wheat"
          ],
          [
           "Cusquena"
          ],
          [
           "Presidente"
          ],
          [
           "Red Dog"
          ],
          [
           "Kirin"
          ],
          [
           "Coors Banquet"
          ],
          [
           "Flying Dog Gonzo"
          ],
          [
           "Abita Light"
          ],
          [
           "Russian River Pliny the Elder"
          ],
          [
           "Sam Adams IPA"
          ],
          [
           "Milwaukee's Best (Premium)"
          ],
          [
           "Stella Artois"
          ],
          [
           "Sam Adams Pale Ale"
          ],
          [
           "Grolsch Amber Ale"
          ],
          [
           "Kirin Light"
          ],
          [
           "Sam Adams Brown Ale"
          ],
          [
           "Abita Golden"
          ],
          [
           "Harp Lager"
          ],
          [
           "Michelob AmberBock"
          ],
          [
           "Blue Moon Rising Moon Spring Ale"
          ],
          [
           "Ommegang Three Philosophers"
          ],
          [
           "Wyder's Apple Cider"
          ],
          [
           "Magic Hat #9"
          ],
          [
           "Brooklyn Summer Ale"
          ],
          [
           "Abita Turbodog"
          ],
          [
           "Heineken"
          ],
          [
           "Puppers Premium Lager"
          ],
          [
           "Omission Pale Ale"
          ],
          [
           "Beach Bum Blonde Ale"
          ],
          [
           "Sam Adams Summer Ale"
          ],
          [
           "Brooklyn Monster"
          ],
          [
           "St. Pauli Girl"
          ],
          [
           "Genesee Red"
          ],
          [
           "New Belgium Sunshine Wheat"
          ],
          [
           "Hamm's Beer"
          ],
          [
           "Leinenkugel Honey Weiss"
          ],
          [
           "New Belgium 2 Below"
          ],
          [
           "Michelob Dunkelweisse"
          ],
          [
           "Pabst Blue Ribbon"
          ],
          [
           "Brooklyn Pilsner"
          ],
          [
           "Miller Genuine Draft (MGD)"
          ],
          [
           "Omission Lager"
          ],
          [
           "Abita Purple Haze"
          ],
          [
           "Sol Cerveza"
          ],
          [
           "Coors Extra Gold"
          ],
          [
           "Blue Moon Belgian White"
          ],
          [
           "Guinness Extra Stout"
          ],
          [
           "Miller High Life"
          ],
          [
           "Blue Moon Honey Moon Summer Ale"
          ],
          [
           "Lagunitas Little Sumpin' Sumpin' Ale"
          ],
          [
           "New Belgium Fat Tire"
          ],
          [
           "Lowenbrau Special Beer"
          ],
          [
           "Flying Dog Horn Dog"
          ],
          [
           "Weinhard's Hefeweizen"
          ],
          [
           "Rolling Rock Extra Pale"
          ],
          [
           "Schaefer Beer"
          ],
          [
           "Dogfish Head Red & White"
          ],
          [
           "Redhook ESB"
          ],
          [
           "Olympia Premium Lager"
          ],
          [
           "Schlitz Beer"
          ],
          [
           "George Killian's Irish Red"
          ],
          [
           "Yuengling Oktoberfest"
          ],
          [
           "Iron City"
          ],
          [
           "Yuengling Lager"
          ],
          [
           "Sierra Nevada Pale Bock"
          ],
          [
           "Tuborg Export Quality"
          ],
          [
           "Bass Ale"
          ],
          [
           "Hoegaarden Belgian White"
          ],
          [
           "Anchor Steam"
          ],
          [
           "Red Stripe"
          ],
          [
           "St. Pauli Girl Special Dark"
          ],
          [
           "Sierra Nevada Pale Ale"
          ],
          [
           "Blue Moon Harvest Moon Pumpkin Ale"
          ],
          [
           "Weinhard's Private Reserve"
          ],
          [
           "Lagunitas IPA"
          ],
          [
           "Harbin"
          ],
          [
           "Yuengling Premium Beer"
          ],
          [
           "Michael Shea's"
          ],
          [
           "Augustiner Amber Lager"
          ],
          [
           "Sierra Nevada Draft Ale"
          ],
          [
           "Sierra Nevada Celebration Ale"
          ],
          [
           "Negra Modelo"
          ],
          [
           "Boddington's Ale"
          ],
          [
           "Sam Adams Coastal Wheat"
          ],
          [
           "Old Milwaukee Beer"
          ],
          [
           "Weinhard's Blonde Lager"
          ],
          [
           "Sierra Nevada Summerfest"
          ],
          [
           "Michelob Porter"
          ],
          [
           "Genesee Cream Ale"
          ],
          [
           "Rogue Dead Guy Ale"
          ],
          [
           "Sam Adams Imperial White"
          ],
          [
           "Signature Stroh Beer"
          ],
          [
           "Blatz Beer"
          ],
          [
           "Newcastle Brown Ale"
          ],
          [
           "Weinhard's Pale Ale"
          ],
          [
           "Tuborg Deluxe Dark Export"
          ],
          [
           "Brooklyn Pennant Pale Ale"
          ],
          [
           "Brooklyn Black Chocolate Stout"
          ],
          [
           "Lowenbrau Dark"
          ],
          [
           "Sam Adams Blackberry Witbier"
          ],
          [
           "Redhook Slim Chance"
          ],
          [
           "Corona Familiar"
          ],
          [
           "Sierra Nevada Harvest Ale"
          ],
          [
           "Carling Black Label"
          ],
          [
           "Weinhard's Amber Light"
          ],
          [
           "Sierra Nevada Early Spring Beer"
          ],
          [
           "Sierra Nevada Anniversary Ale"
          ],
          [
           "New Belgium Mothership Wit"
          ],
          [
           "Shock Top"
          ],
          [
           "Michelob Golden Draft"
          ],
          [
           "Corona Extra"
          ],
          [
           "Stroh's Beer"
          ],
          [
           "Sam Adams White Ale"
          ],
          [
           "Widmer Hefeweizen"
          ],
          [
           "Leinenkugel Original"
          ],
          [
           "Sculpin IPA"
          ],
          [
           "Blue Moon Full Moon Winter Ale"
          ],
          [
           "Dogfish Head 90 Minute IPA"
          ],
          [
           "Brooklyn Lager"
          ],
          [
           "Tsingtao"
          ],
          [
           "Sam Adams Irish Red"
          ],
          [
           "Michelob Beer"
          ],
          [
           "Pete's Wicked Ale"
          ],
          [
           "Genesee Beer"
          ],
          [
           "Pacifico"
          ],
          [
           "Modelo Especial"
          ],
          [
           "Leinenkugel Northwoods Lager"
          ],
          [
           "Redd's Apple Ale"
          ],
          [
           "Blue Point Toasted Lager"
          ],
          [
           "Firestone DBA"
          ],
          [
           "Sam Adams Octoberfest"
          ],
          [
           "Sam Adams Cherry Wheat"
          ],
          [
           "Strauss Endless Summer Light"
          ],
          [
           "Stone Pale Ale"
          ],
          [
           "Smithwick's"
          ],
          [
           "Red Bridge"
          ],
          [
           "Michelob Pale Ale"
          ],
          [
           "Abita Restoration"
          ],
          [
           "Victoria"
          ],
          [
           "Sierra Nevada India Pale Ale"
          ],
          [
           "Deschutes Inversion IPA"
          ],
          [
           "Dogfish Head Shelter Pale Ale"
          ],
          [
           "Leinenkugel Red"
          ],
          [
           "Brooklyn Winter Ale"
          ],
          [
           "Leinenkugel Sunset Wheat"
          ],
          [
           "Sam Adams Imperial Double Bock"
          ],
          [
           "Sam Adams Hefeweizen"
          ],
          [
           "Brooklyn Brown Ale"
          ],
          [
           "Efes Pils"
          ],
          [
           "Deschutes Mirror Pond Ale"
          ],
          [
           "Yuengling Porter"
          ],
          [
           "Yuengling Porter"
          ],
          [
           "Dogfish Head Midas Touch"
          ],
          [
           "Bud American Ale"
          ],
          [
           "Sam Adams Imperial Stout"
          ],
          [
           "Sierra Nevada Bigfoot"
          ],
          [
           "Irish Red Ale"
          ],
          [
           "Leinenkugel Creamy Dark"
          ],
          [
           "Sam Adams Winter Lager"
          ],
          [
           "Lagunitas Brown Shugga'"
          ],
          [
           "Sierra Nevada Porter"
          ],
          [
           "Sierra Nevada Wheat Beer"
          ],
          [
           "Sam Adams Boston Ale"
          ],
          [
           "Dogfish Head 60 Minute IPA"
          ],
          [
           "Sam Adams Boston Lager"
          ],
          [
           "Deschutes Fresh Squeezed IPA"
          ],
          [
           "Sam Adams Honey Porter"
          ],
          [
           "Pilsner Urquell"
          ],
          [
           "Michelob Honey Lager"
          ],
          [
           "Lagunitas Hop Stoopid"
          ],
          [
           "Bud Light Chelada Clamato"
          ],
          [
           "New Belgium 1554"
          ],
          [
           "Deschutes Black Butte Porter"
          ],
          [
           "Sam Adams Scotch Ale"
          ],
          [
           "Budweiser Chelada"
          ],
          [
           "Anchor Porter"
          ],
          [
           "Sam Adams Cream Stout"
          ],
          [
           "Sierra Nevada Stout"
          ],
          [
           "Sam Adams Black Lager"
          ],
          [
           "Grolsch Blonde Lager"
          ],
          [
           "Rock Bottom Illuminator Doppelback"
          ]
         ],
         "hovertemplate": "Calories=%{x}<br>ABV=%{y}<br>Brand=%{customdata[0]}<br>ūndecile=%{marker.color}<extra></extra>",
         "legendgroup": "",
         "marker": {
          "color": [
           11,
           11,
           11,
           11,
           11,
           11,
           11,
           11,
           11,
           11,
           11,
           11,
           11,
           11,
           11,
           11,
           11,
           11,
           11,
           11,
           11,
           11,
           11,
           11,
           11,
           10,
           10,
           10,
           10,
           10,
           10,
           10,
           10,
           10,
           10,
           10,
           10,
           10,
           10,
           10,
           10,
           10,
           10,
           10,
           10,
           10,
           10,
           10,
           10,
           9,
           9,
           9,
           9,
           9,
           9,
           9,
           9,
           9,
           9,
           9,
           9,
           9,
           9,
           9,
           9,
           9,
           9,
           9,
           9,
           9,
           9,
           9,
           9,
           9,
           8,
           8,
           8,
           8,
           8,
           8,
           8,
           8,
           8,
           8,
           8,
           8,
           8,
           8,
           8,
           8,
           8,
           8,
           8,
           8,
           8,
           8,
           8,
           8,
           7,
           7,
           7,
           7,
           7,
           7,
           7,
           7,
           7,
           7,
           7,
           7,
           7,
           7,
           7,
           7,
           7,
           7,
           7,
           7,
           7,
           7,
           7,
           7,
           7,
           6,
           6,
           6,
           6,
           6,
           6,
           6,
           6,
           6,
           6,
           6,
           6,
           6,
           6,
           6,
           6,
           6,
           6,
           6,
           6,
           6,
           6,
           6,
           6,
           5,
           5,
           5,
           5,
           5,
           5,
           5,
           5,
           5,
           5,
           5,
           5,
           5,
           5,
           5,
           5,
           5,
           5,
           5,
           5,
           5,
           5,
           5,
           5,
           5,
           4,
           4,
           4,
           4,
           4,
           4,
           4,
           4,
           4,
           4,
           4,
           4,
           4,
           4,
           4,
           4,
           4,
           4,
           4,
           4,
           4,
           4,
           4,
           4,
           3,
           3,
           3,
           3,
           3,
           3,
           3,
           3,
           3,
           3,
           3,
           3,
           3,
           3,
           3,
           3,
           3,
           3,
           3,
           3,
           3,
           3,
           3,
           2,
           2,
           2,
           2,
           2,
           2,
           2,
           2,
           2,
           2,
           2,
           2,
           2,
           2,
           2,
           2,
           2,
           2,
           2,
           2,
           2,
           2,
           2,
           2,
           2,
           2,
           1,
           1,
           1,
           1,
           1,
           1,
           1,
           1,
           1,
           1,
           1,
           1,
           1,
           1,
           1,
           1,
           1,
           1,
           1,
           1,
           1,
           1,
           1,
           1,
           1
          ],
          "coloraxis": "coloraxis",
          "symbol": "circle"
         },
         "mode": "markers",
         "name": "",
         "orientation": "v",
         "showlegend": false,
         "type": "scatter",
         "x": [
          85,
          130,
          67,
          123,
          83,
          90,
          95,
          95,
          137,
          96,
          64,
          183,
          95,
          55,
          99,
          136,
          95,
          96,
          99,
          99,
          95,
          95,
          142,
          99,
          99,
          97,
          102,
          123,
          97,
          450,
          125,
          111,
          105,
          104,
          129,
          113,
          99,
          107,
          110,
          110,
          110,
          156,
          188,
          114,
          110,
          221,
          67,
          110,
          97,
          186,
          157,
          163,
          136,
          136,
          313,
          150,
          165,
          215,
          116,
          119,
          64,
          154,
          238,
          149,
          142,
          128,
          200,
          160,
          143,
          123,
          132,
          110,
          188,
          110,
          113,
          200,
          200,
          145,
          195,
          140,
          143,
          146,
          149,
          190,
          158,
          161,
          125,
          173,
          132,
          138,
          141,
          147,
          147,
          147,
          147,
          271,
          118,
          236,
          175,
          142,
          154,
          160,
          160,
          95,
          159,
          125,
          155,
          155,
          161,
          290,
          150,
          153,
          150,
          168,
          150,
          120,
          175,
          163,
          160,
          305,
          148,
          148,
          145,
          142,
          149,
          200,
          167,
          144,
          155,
          140,
          140,
          128,
          128,
          152,
          164,
          153,
          141,
          157,
          230,
          160,
          160,
          314,
          151,
          142,
          142,
          310,
          179,
          146,
          146,
          168,
          168,
          140,
          140,
          218,
          156,
          156,
          153,
          153,
          153,
          150,
          175,
          180,
          150,
          194,
          144,
          141,
          145,
          135,
          157,
          214,
          170,
          148,
          167,
          145,
          161,
          158,
          187,
          162,
          216,
          328,
          153,
          153,
          150,
          147,
          163,
          160,
          320,
          160,
          176,
          125,
          154,
          215,
          138,
          135,
          190,
          190,
          155,
          168,
          152,
          149,
          149,
          175,
          159,
          152,
          228,
          180,
          294,
          170,
          157,
          180,
          164,
          174,
          148,
          145,
          145,
          163,
          165,
          175,
          166,
          180,
          180,
          110,
          188,
          150,
          160,
          187,
          167,
          135,
          231,
          228,
          168,
          166,
          205,
          165,
          320,
          182,
          190,
          170,
          170,
          160,
          160,
          307,
          182,
          316,
          330,
          196,
          170,
          200,
          335,
          194,
          153,
          188,
          209,
          175,
          225,
          192,
          156,
          174,
          285,
          151,
          205,
          192,
          200,
          186,
          209,
          190,
          225,
          191,
          120,
          288
         ],
         "xaxis": "x",
         "y": [
          4.3,
          5.9,
          3,
          5.5,
          3.7,
          4,
          4.2,
          4.2,
          6,
          4.2,
          2.8,
          8,
          4.15,
          2.4,
          4.3,
          5.9,
          4.1,
          4.1,
          4.2,
          4.2,
          4,
          4,
          5.9,
          4.1,
          4.1,
          4,
          4.2,
          5,
          3.9,
          18,
          5,
          4.43,
          4.19,
          4.13,
          5.1,
          4.4,
          3.8,
          4.1,
          4.2,
          4.2,
          4.2,
          5.9,
          7.1,
          4.3,
          4.14,
          8.3,
          2.5,
          4.1,
          3.6,
          6.9,
          5.8,
          6,
          5,
          5,
          11.5,
          5.5,
          6,
          7.8,
          4.2,
          4.3,
          2.3,
          5.5,
          8.5,
          5.3,
          5,
          4.5,
          7,
          5.6,
          5,
          4.3,
          4.6,
          3.82,
          6.5,
          3.8,
          3.9,
          6.9,
          6.9,
          5,
          6.7,
          4.8,
          4.9,
          5,
          5.1,
          6.5,
          5.4,
          5.5,
          4.27,
          5.9,
          4.5,
          4.7,
          4.8,
          5,
          5,
          5,
          5,
          9.2,
          4,
          8,
          5.93,
          4.8,
          5.2,
          5.4,
          5.4,
          3.2,
          5.35,
          4.2,
          5.2,
          5.2,
          5.4,
          9.7,
          5,
          5.1,
          5,
          5.6,
          5,
          4,
          5.8,
          5.4,
          5.3,
          10.1,
          4.9,
          4.9,
          4.8,
          4.7,
          4.92,
          6.6,
          5.5,
          4.74,
          5.1,
          4.6,
          4.6,
          4.2,
          4.2,
          4.97,
          5.36,
          5,
          4.6,
          5.12,
          7.5,
          5.2,
          5.2,
          10.2,
          4.9,
          4.6,
          4.6,
          10,
          5.77,
          4.7,
          4.7,
          5.4,
          5.4,
          4.5,
          4.5,
          7,
          5,
          5,
          4.9,
          4.9,
          4.9,
          4.8,
          5.6,
          5.76,
          4.8,
          6.2,
          4.6,
          4.5,
          4.62,
          4.3,
          5,
          6.8,
          5.4,
          4.7,
          5.3,
          4.6,
          5.1,
          5,
          5.9,
          5.1,
          6.8,
          10.3,
          4.8,
          4.8,
          4.7,
          4.6,
          5.1,
          5,
          10,
          5,
          5.5,
          3.9,
          4.8,
          6.7,
          4.3,
          4.2,
          5.9,
          5.9,
          4.8,
          5.2,
          4.7,
          4.6,
          4.6,
          5.4,
          4.9,
          4.67,
          7,
          5.52,
          9,
          5.2,
          4.8,
          5.5,
          5,
          5.3,
          4.5,
          4.4,
          4.4,
          4.94,
          5,
          5.3,
          5,
          5.4,
          5.4,
          3.3,
          5.64,
          4.5,
          4.8,
          5.6,
          5,
          4.04,
          6.9,
          6.8,
          5,
          4.94,
          6.1,
          4.9,
          9.5,
          5.4,
          5.6,
          5,
          5,
          4.7,
          4.7,
          9,
          5.3,
          9.2,
          9.6,
          5.7,
          4.94,
          5.8,
          9.7,
          5.6,
          4.4,
          5.4,
          6,
          5,
          6.4,
          5.45,
          4.4,
          4.9,
          8,
          4.2,
          5.6,
          5.2,
          5.4,
          5,
          5.6,
          4.9,
          5.8,
          4.9,
          2.8,
          6.67
         ],
         "yaxis": "y"
        }
       ],
       "layout": {
        "coloraxis": {
         "colorbar": {
          "title": {
           "text": "ūndecile"
          }
         },
         "colorscale": [
          [
           0,
           "#0d0887"
          ],
          [
           0.1111111111111111,
           "#46039f"
          ],
          [
           0.2222222222222222,
           "#7201a8"
          ],
          [
           0.3333333333333333,
           "#9c179e"
          ],
          [
           0.4444444444444444,
           "#bd3786"
          ],
          [
           0.5555555555555556,
           "#d8576b"
          ],
          [
           0.6666666666666666,
           "#ed7953"
          ],
          [
           0.7777777777777778,
           "#fb9f3a"
          ],
          [
           0.8888888888888888,
           "#fdca26"
          ],
          [
           1,
           "#f0f921"
          ]
         ]
        },
        "height": 700,
        "legend": {
         "tracegroupgap": 0
        },
        "margin": {
         "t": 60
        },
        "template": {
         "data": {
          "bar": [
           {
            "error_x": {
             "color": "#2a3f5f"
            },
            "error_y": {
             "color": "#2a3f5f"
            },
            "marker": {
             "line": {
              "color": "#E5ECF6",
              "width": 0.5
             },
             "pattern": {
              "fillmode": "overlay",
              "size": 10,
              "solidity": 0.2
             }
            },
            "type": "bar"
           }
          ],
          "barpolar": [
           {
            "marker": {
             "line": {
              "color": "#E5ECF6",
              "width": 0.5
             },
             "pattern": {
              "fillmode": "overlay",
              "size": 10,
              "solidity": 0.2
             }
            },
            "type": "barpolar"
           }
          ],
          "carpet": [
           {
            "aaxis": {
             "endlinecolor": "#2a3f5f",
             "gridcolor": "white",
             "linecolor": "white",
             "minorgridcolor": "white",
             "startlinecolor": "#2a3f5f"
            },
            "baxis": {
             "endlinecolor": "#2a3f5f",
             "gridcolor": "white",
             "linecolor": "white",
             "minorgridcolor": "white",
             "startlinecolor": "#2a3f5f"
            },
            "type": "carpet"
           }
          ],
          "choropleth": [
           {
            "colorbar": {
             "outlinewidth": 0,
             "ticks": ""
            },
            "type": "choropleth"
           }
          ],
          "contour": [
           {
            "colorbar": {
             "outlinewidth": 0,
             "ticks": ""
            },
            "colorscale": [
             [
              0,
              "#0d0887"
             ],
             [
              0.1111111111111111,
              "#46039f"
             ],
             [
              0.2222222222222222,
              "#7201a8"
             ],
             [
              0.3333333333333333,
              "#9c179e"
             ],
             [
              0.4444444444444444,
              "#bd3786"
             ],
             [
              0.5555555555555556,
              "#d8576b"
             ],
             [
              0.6666666666666666,
              "#ed7953"
             ],
             [
              0.7777777777777778,
              "#fb9f3a"
             ],
             [
              0.8888888888888888,
              "#fdca26"
             ],
             [
              1,
              "#f0f921"
             ]
            ],
            "type": "contour"
           }
          ],
          "contourcarpet": [
           {
            "colorbar": {
             "outlinewidth": 0,
             "ticks": ""
            },
            "type": "contourcarpet"
           }
          ],
          "heatmap": [
           {
            "colorbar": {
             "outlinewidth": 0,
             "ticks": ""
            },
            "colorscale": [
             [
              0,
              "#0d0887"
             ],
             [
              0.1111111111111111,
              "#46039f"
             ],
             [
              0.2222222222222222,
              "#7201a8"
             ],
             [
              0.3333333333333333,
              "#9c179e"
             ],
             [
              0.4444444444444444,
              "#bd3786"
             ],
             [
              0.5555555555555556,
              "#d8576b"
             ],
             [
              0.6666666666666666,
              "#ed7953"
             ],
             [
              0.7777777777777778,
              "#fb9f3a"
             ],
             [
              0.8888888888888888,
              "#fdca26"
             ],
             [
              1,
              "#f0f921"
             ]
            ],
            "type": "heatmap"
           }
          ],
          "heatmapgl": [
           {
            "colorbar": {
             "outlinewidth": 0,
             "ticks": ""
            },
            "colorscale": [
             [
              0,
              "#0d0887"
             ],
             [
              0.1111111111111111,
              "#46039f"
             ],
             [
              0.2222222222222222,
              "#7201a8"
             ],
             [
              0.3333333333333333,
              "#9c179e"
             ],
             [
              0.4444444444444444,
              "#bd3786"
             ],
             [
              0.5555555555555556,
              "#d8576b"
             ],
             [
              0.6666666666666666,
              "#ed7953"
             ],
             [
              0.7777777777777778,
              "#fb9f3a"
             ],
             [
              0.8888888888888888,
              "#fdca26"
             ],
             [
              1,
              "#f0f921"
             ]
            ],
            "type": "heatmapgl"
           }
          ],
          "histogram": [
           {
            "marker": {
             "pattern": {
              "fillmode": "overlay",
              "size": 10,
              "solidity": 0.2
             }
            },
            "type": "histogram"
           }
          ],
          "histogram2d": [
           {
            "colorbar": {
             "outlinewidth": 0,
             "ticks": ""
            },
            "colorscale": [
             [
              0,
              "#0d0887"
             ],
             [
              0.1111111111111111,
              "#46039f"
             ],
             [
              0.2222222222222222,
              "#7201a8"
             ],
             [
              0.3333333333333333,
              "#9c179e"
             ],
             [
              0.4444444444444444,
              "#bd3786"
             ],
             [
              0.5555555555555556,
              "#d8576b"
             ],
             [
              0.6666666666666666,
              "#ed7953"
             ],
             [
              0.7777777777777778,
              "#fb9f3a"
             ],
             [
              0.8888888888888888,
              "#fdca26"
             ],
             [
              1,
              "#f0f921"
             ]
            ],
            "type": "histogram2d"
           }
          ],
          "histogram2dcontour": [
           {
            "colorbar": {
             "outlinewidth": 0,
             "ticks": ""
            },
            "colorscale": [
             [
              0,
              "#0d0887"
             ],
             [
              0.1111111111111111,
              "#46039f"
             ],
             [
              0.2222222222222222,
              "#7201a8"
             ],
             [
              0.3333333333333333,
              "#9c179e"
             ],
             [
              0.4444444444444444,
              "#bd3786"
             ],
             [
              0.5555555555555556,
              "#d8576b"
             ],
             [
              0.6666666666666666,
              "#ed7953"
             ],
             [
              0.7777777777777778,
              "#fb9f3a"
             ],
             [
              0.8888888888888888,
              "#fdca26"
             ],
             [
              1,
              "#f0f921"
             ]
            ],
            "type": "histogram2dcontour"
           }
          ],
          "mesh3d": [
           {
            "colorbar": {
             "outlinewidth": 0,
             "ticks": ""
            },
            "type": "mesh3d"
           }
          ],
          "parcoords": [
           {
            "line": {
             "colorbar": {
              "outlinewidth": 0,
              "ticks": ""
             }
            },
            "type": "parcoords"
           }
          ],
          "pie": [
           {
            "automargin": true,
            "type": "pie"
           }
          ],
          "scatter": [
           {
            "fillpattern": {
             "fillmode": "overlay",
             "size": 10,
             "solidity": 0.2
            },
            "type": "scatter"
           }
          ],
          "scatter3d": [
           {
            "line": {
             "colorbar": {
              "outlinewidth": 0,
              "ticks": ""
             }
            },
            "marker": {
             "colorbar": {
              "outlinewidth": 0,
              "ticks": ""
             }
            },
            "type": "scatter3d"
           }
          ],
          "scattercarpet": [
           {
            "marker": {
             "colorbar": {
              "outlinewidth": 0,
              "ticks": ""
             }
            },
            "type": "scattercarpet"
           }
          ],
          "scattergeo": [
           {
            "marker": {
             "colorbar": {
              "outlinewidth": 0,
              "ticks": ""
             }
            },
            "type": "scattergeo"
           }
          ],
          "scattergl": [
           {
            "marker": {
             "colorbar": {
              "outlinewidth": 0,
              "ticks": ""
             }
            },
            "type": "scattergl"
           }
          ],
          "scattermapbox": [
           {
            "marker": {
             "colorbar": {
              "outlinewidth": 0,
              "ticks": ""
             }
            },
            "type": "scattermapbox"
           }
          ],
          "scatterpolar": [
           {
            "marker": {
             "colorbar": {
              "outlinewidth": 0,
              "ticks": ""
             }
            },
            "type": "scatterpolar"
           }
          ],
          "scatterpolargl": [
           {
            "marker": {
             "colorbar": {
              "outlinewidth": 0,
              "ticks": ""
             }
            },
            "type": "scatterpolargl"
           }
          ],
          "scatterternary": [
           {
            "marker": {
             "colorbar": {
              "outlinewidth": 0,
              "ticks": ""
             }
            },
            "type": "scatterternary"
           }
          ],
          "surface": [
           {
            "colorbar": {
             "outlinewidth": 0,
             "ticks": ""
            },
            "colorscale": [
             [
              0,
              "#0d0887"
             ],
             [
              0.1111111111111111,
              "#46039f"
             ],
             [
              0.2222222222222222,
              "#7201a8"
             ],
             [
              0.3333333333333333,
              "#9c179e"
             ],
             [
              0.4444444444444444,
              "#bd3786"
             ],
             [
              0.5555555555555556,
              "#d8576b"
             ],
             [
              0.6666666666666666,
              "#ed7953"
             ],
             [
              0.7777777777777778,
              "#fb9f3a"
             ],
             [
              0.8888888888888888,
              "#fdca26"
             ],
             [
              1,
              "#f0f921"
             ]
            ],
            "type": "surface"
           }
          ],
          "table": [
           {
            "cells": {
             "fill": {
              "color": "#EBF0F8"
             },
             "line": {
              "color": "white"
             }
            },
            "header": {
             "fill": {
              "color": "#C8D4E3"
             },
             "line": {
              "color": "white"
             }
            },
            "type": "table"
           }
          ]
         },
         "layout": {
          "annotationdefaults": {
           "arrowcolor": "#2a3f5f",
           "arrowhead": 0,
           "arrowwidth": 1
          },
          "autotypenumbers": "strict",
          "coloraxis": {
           "colorbar": {
            "outlinewidth": 0,
            "ticks": ""
           }
          },
          "colorscale": {
           "diverging": [
            [
             0,
             "#8e0152"
            ],
            [
             0.1,
             "#c51b7d"
            ],
            [
             0.2,
             "#de77ae"
            ],
            [
             0.3,
             "#f1b6da"
            ],
            [
             0.4,
             "#fde0ef"
            ],
            [
             0.5,
             "#f7f7f7"
            ],
            [
             0.6,
             "#e6f5d0"
            ],
            [
             0.7,
             "#b8e186"
            ],
            [
             0.8,
             "#7fbc41"
            ],
            [
             0.9,
             "#4d9221"
            ],
            [
             1,
             "#276419"
            ]
           ],
           "sequential": [
            [
             0,
             "#0d0887"
            ],
            [
             0.1111111111111111,
             "#46039f"
            ],
            [
             0.2222222222222222,
             "#7201a8"
            ],
            [
             0.3333333333333333,
             "#9c179e"
            ],
            [
             0.4444444444444444,
             "#bd3786"
            ],
            [
             0.5555555555555556,
             "#d8576b"
            ],
            [
             0.6666666666666666,
             "#ed7953"
            ],
            [
             0.7777777777777778,
             "#fb9f3a"
            ],
            [
             0.8888888888888888,
             "#fdca26"
            ],
            [
             1,
             "#f0f921"
            ]
           ],
           "sequentialminus": [
            [
             0,
             "#0d0887"
            ],
            [
             0.1111111111111111,
             "#46039f"
            ],
            [
             0.2222222222222222,
             "#7201a8"
            ],
            [
             0.3333333333333333,
             "#9c179e"
            ],
            [
             0.4444444444444444,
             "#bd3786"
            ],
            [
             0.5555555555555556,
             "#d8576b"
            ],
            [
             0.6666666666666666,
             "#ed7953"
            ],
            [
             0.7777777777777778,
             "#fb9f3a"
            ],
            [
             0.8888888888888888,
             "#fdca26"
            ],
            [
             1,
             "#f0f921"
            ]
           ]
          },
          "colorway": [
           "#636efa",
           "#EF553B",
           "#00cc96",
           "#ab63fa",
           "#FFA15A",
           "#19d3f3",
           "#FF6692",
           "#B6E880",
           "#FF97FF",
           "#FECB52"
          ],
          "font": {
           "color": "#2a3f5f"
          },
          "geo": {
           "bgcolor": "white",
           "lakecolor": "white",
           "landcolor": "#E5ECF6",
           "showlakes": true,
           "showland": true,
           "subunitcolor": "white"
          },
          "hoverlabel": {
           "align": "left"
          },
          "hovermode": "closest",
          "mapbox": {
           "style": "light"
          },
          "paper_bgcolor": "white",
          "plot_bgcolor": "#E5ECF6",
          "polar": {
           "angularaxis": {
            "gridcolor": "white",
            "linecolor": "white",
            "ticks": ""
           },
           "bgcolor": "#E5ECF6",
           "radialaxis": {
            "gridcolor": "white",
            "linecolor": "white",
            "ticks": ""
           }
          },
          "scene": {
           "xaxis": {
            "backgroundcolor": "#E5ECF6",
            "gridcolor": "white",
            "gridwidth": 2,
            "linecolor": "white",
            "showbackground": true,
            "ticks": "",
            "zerolinecolor": "white"
           },
           "yaxis": {
            "backgroundcolor": "#E5ECF6",
            "gridcolor": "white",
            "gridwidth": 2,
            "linecolor": "white",
            "showbackground": true,
            "ticks": "",
            "zerolinecolor": "white"
           },
           "zaxis": {
            "backgroundcolor": "#E5ECF6",
            "gridcolor": "white",
            "gridwidth": 2,
            "linecolor": "white",
            "showbackground": true,
            "ticks": "",
            "zerolinecolor": "white"
           }
          },
          "shapedefaults": {
           "line": {
            "color": "#2a3f5f"
           }
          },
          "ternary": {
           "aaxis": {
            "gridcolor": "white",
            "linecolor": "white",
            "ticks": ""
           },
           "baxis": {
            "gridcolor": "white",
            "linecolor": "white",
            "ticks": ""
           },
           "bgcolor": "#E5ECF6",
           "caxis": {
            "gridcolor": "white",
            "linecolor": "white",
            "ticks": ""
           }
          },
          "title": {
           "x": 0.05
          },
          "xaxis": {
           "automargin": true,
           "gridcolor": "white",
           "linecolor": "white",
           "ticks": "",
           "title": {
            "standoff": 15
           },
           "zerolinecolor": "white",
           "zerolinewidth": 2
          },
          "yaxis": {
           "automargin": true,
           "gridcolor": "white",
           "linecolor": "white",
           "ticks": "",
           "title": {
            "standoff": 15
           },
           "zerolinecolor": "white",
           "zerolinewidth": 2
          }
         }
        },
        "width": 700,
        "xaxis": {
         "anchor": "y",
         "autorange": true,
         "domain": [
          0,
          1
         ],
         "range": [
          29.47454308093995,
          475.52545691906005
         ],
         "title": {
          "text": "Calories"
         },
         "type": "linear"
        },
        "yaxis": {
         "anchor": "x",
         "autorange": true,
         "domain": [
          0,
          1
         ],
         "range": [
          1.296022155085599,
          19.003977844914402
         ],
         "title": {
          "text": "ABV"
         },
         "type": "linear"
        }
       }
      },
      "image/png": "[encoded data removed]",
      "text/html": [
       "<div>                            <div id=\"d46864e7-51a0-4b28-846e-ee6ac2d4e0ee\" class=\"plotly-graph-div\" style=\"height:700px; width:700px;\"></div>            <script type=\"text/javascript\">                require([\"plotly\"], function(Plotly) {                    window.PLOTLYENV=window.PLOTLYENV || {};                                    if (document.getElementById(\"d46864e7-51a0-4b28-846e-ee6ac2d4e0ee\")) {                    Plotly.newPlot(                        \"d46864e7-51a0-4b28-846e-ee6ac2d4e0ee\",                        [{\"customdata\":[[\"Michelob Ultra Pure Gold\"],[\"Natural Ice\"],[\"Molson Canadian 67\"],[\"Bud Ice\"],[\"Rolling Rock Green Light\"],[\"Corona Premier\"],[\"Natural Light\"],[\"Michelob Ultra\"],[\"Bud Light Platinum\"],[\"Miller Lite\"],[\"Miller64\"],[\"Natty Daddy\"],[\"Iron City Light\"],[\"Budweiser Select 55\"],[\"Budweiser Select\"],[\"Busch Ice\"],[\"Busch Light\"],[\"Milwaukee's Best Light\"],[\"Omission Ultimate Light\"],[\"Heineken Light\"],[\"Michelob Ultra Amber\"],[\"Michelob Ultra Lime Cactus\"],[\"Keystone Ice\"],[\"Corona Light\"],[\"Amstel Light\"],[\"Hiland Light\"],[\"Coors Light\"],[\"Southpaw Light\"],[\"Shipyard Light\"],[\"Dogfish Head 120 Minute IPA\"],[\"New Planet Tread Lightly Ale\"],[\"Keystone Premium\"],[\"Leinenkugel Light\"],[\"Keystone Light\"],[\"Flying Dog Tire Bite Golden Ale\"],[\"Stroh's Light\"],[\"Yuengling Light Lager\"],[\"Miller High Life Light\"],[\"New Belgium Skinny Dip\"],[\"Bud Light\"],[\"Schlitz Light\"],[\"Genesee Ice\"],[\"Flying Dog Snake Dog IPA\"],[\"Busch\"],[\"Leinenkugel Amber Light\"],[\"Flying Dog Raging Bitch\"],[\"Pabst Extra Light Low Alcohol\"],[\"Michelob Golden Draft Light\"],[\"Grolsch Light Lager\"],[\"Miller Fortune\"],[\"Mickey's Ice\"],[\"Flying Dog Road Dog\"],[\"Wyder's Pear Cider\"],[\"Molson Canadian\"],[\"Flying Dog Double Dog\"],[\"Flying Dog Doggie Style Pale Ale\"],[\"Winter's Bourbon Cask Ale\"],[\"New Belgium Trippel\"],[\"Bud Light Lime\"],[\"Sam Adams Light\"],[\"Beck's Light\"],[\"Flying Dog Old Scratch Amber Lager\"],[\"Flying Dog Kerberos Tripel\"],[\"Tyskie\"],[\"Grolsch Premium Lager\"],[\"Abita Amber\"],[\"New Belgium Abbey\"],[\"Molson Ice\"],[\"Beck's\"],[\"Michelob Light\"],[\"Cristal (Peru)\"],[\"Old Milwaukee Light\"],[\"Redhook IPA\"],[\"Hamm's Special Light\"],[\"Molson Canadian Light\"],[\"Brooklyn East India Pale Ale\"],[\"Smuttynose Fineskind IPA\"],[\"Budweiser\"],[\"Omission IPA\"],[\"New Belgium Blue Paddle\"],[\"Lech\"],[\"Foster's\"],[\"Peroni Nastro Azzurro\"],[\"Abita Jockamo IPA\"],[\"Yuengling Lord Chesterfield Ale\"],[\"Foster's Premium Ale\"],[\"Guinness Draught\"],[\"Milwaukee's Best Ice (Beast Ice)\"],[\"Rolling Rock Premium Beer\"],[\"Flying Dog In Heat Wheat\"],[\"Cusquena\"],[\"Presidente\"],[\"Red Dog\"],[\"Kirin\"],[\"Coors Banquet\"],[\"Flying Dog Gonzo\"],[\"Abita Light\"],[\"Russian River Pliny the Elder\"],[\"Sam Adams IPA\"],[\"Milwaukee's Best (Premium)\"],[\"Stella Artois\"],[\"Sam Adams Pale Ale\"],[\"Grolsch Amber Ale\"],[\"Kirin Light\"],[\"Sam Adams Brown Ale\"],[\"Abita Golden\"],[\"Harp Lager\"],[\"Michelob AmberBock\"],[\"Blue Moon Rising Moon Spring Ale\"],[\"Ommegang Three Philosophers\"],[\"Wyder's Apple Cider\"],[\"Magic Hat #9\"],[\"Brooklyn Summer Ale\"],[\"Abita Turbodog\"],[\"Heineken\"],[\"Puppers Premium Lager\"],[\"Omission Pale Ale\"],[\"Beach Bum Blonde Ale\"],[\"Sam Adams Summer Ale\"],[\"Brooklyn Monster\"],[\"St. Pauli Girl\"],[\"Genesee Red\"],[\"New Belgium Sunshine Wheat\"],[\"Hamm's Beer\"],[\"Leinenkugel Honey Weiss\"],[\"New Belgium 2 Below\"],[\"Michelob Dunkelweisse\"],[\"Pabst Blue Ribbon\"],[\"Brooklyn Pilsner\"],[\"Miller Genuine Draft (MGD)\"],[\"Omission Lager\"],[\"Abita Purple Haze\"],[\"Sol Cerveza\"],[\"Coors Extra Gold\"],[\"Blue Moon Belgian White\"],[\"Guinness Extra Stout\"],[\"Miller High Life\"],[\"Blue Moon Honey Moon Summer Ale\"],[\"Lagunitas Little Sumpin' Sumpin' Ale\"],[\"New Belgium Fat Tire\"],[\"Lowenbrau Special Beer\"],[\"Flying Dog Horn Dog\"],[\"Weinhard's Hefeweizen\"],[\"Rolling Rock Extra Pale\"],[\"Schaefer Beer\"],[\"Dogfish Head Red & White\"],[\"Redhook ESB\"],[\"Olympia Premium Lager\"],[\"Schlitz Beer\"],[\"George Killian's Irish Red\"],[\"Yuengling Oktoberfest\"],[\"Iron City\"],[\"Yuengling Lager\"],[\"Sierra Nevada Pale Bock\"],[\"Tuborg Export Quality\"],[\"Bass Ale\"],[\"Hoegaarden Belgian White\"],[\"Anchor Steam\"],[\"Red Stripe\"],[\"St. Pauli Girl Special Dark\"],[\"Sierra Nevada Pale Ale\"],[\"Blue Moon Harvest Moon Pumpkin Ale\"],[\"Weinhard's Private Reserve\"],[\"Lagunitas IPA\"],[\"Harbin\"],[\"Yuengling Premium Beer\"],[\"Michael Shea's\"],[\"Augustiner Amber Lager\"],[\"Sierra Nevada Draft Ale\"],[\"Sierra Nevada Celebration Ale\"],[\"Negra Modelo\"],[\"Boddington's Ale\"],[\"Sam Adams Coastal Wheat\"],[\"Old Milwaukee Beer\"],[\"Weinhard's Blonde Lager\"],[\"Sierra Nevada Summerfest\"],[\"Michelob Porter\"],[\"Genesee Cream Ale\"],[\"Rogue Dead Guy Ale\"],[\"Sam Adams Imperial White\"],[\"Signature Stroh Beer\"],[\"Blatz Beer\"],[\"Newcastle Brown Ale\"],[\"Weinhard's Pale Ale\"],[\"Tuborg Deluxe Dark Export\"],[\"Brooklyn Pennant Pale Ale\"],[\"Brooklyn Black Chocolate Stout\"],[\"Lowenbrau Dark\"],[\"Sam Adams Blackberry Witbier\"],[\"Redhook Slim Chance\"],[\"Corona Familiar\"],[\"Sierra Nevada Harvest Ale\"],[\"Carling Black Label\"],[\"Weinhard's Amber Light\"],[\"Sierra Nevada Early Spring Beer\"],[\"Sierra Nevada Anniversary Ale\"],[\"New Belgium Mothership Wit\"],[\"Shock Top\"],[\"Michelob Golden Draft\"],[\"Corona Extra\"],[\"Stroh's Beer\"],[\"Sam Adams White Ale\"],[\"Widmer Hefeweizen\"],[\"Leinenkugel Original\"],[\"Sculpin IPA\"],[\"Blue Moon Full Moon Winter Ale\"],[\"Dogfish Head 90 Minute IPA\"],[\"Brooklyn Lager\"],[\"Tsingtao\"],[\"Sam Adams Irish Red\"],[\"Michelob Beer\"],[\"Pete's Wicked Ale\"],[\"Genesee Beer\"],[\"Pacifico\"],[\"Modelo Especial\"],[\"Leinenkugel Northwoods Lager\"],[\"Redd's Apple Ale\"],[\"Blue Point Toasted Lager\"],[\"Firestone DBA\"],[\"Sam Adams Octoberfest\"],[\"Sam Adams Cherry Wheat\"],[\"Strauss Endless Summer Light\"],[\"Stone Pale Ale\"],[\"Smithwick's\"],[\"Red Bridge\"],[\"Michelob Pale Ale\"],[\"Abita Restoration\"],[\"Victoria\"],[\"Sierra Nevada India Pale Ale\"],[\"Deschutes Inversion IPA\"],[\"Dogfish Head Shelter Pale Ale\"],[\"Leinenkugel Red\"],[\"Brooklyn Winter Ale\"],[\"Leinenkugel Sunset Wheat\"],[\"Sam Adams Imperial Double Bock\"],[\"Sam Adams Hefeweizen\"],[\"Brooklyn Brown Ale\"],[\"Efes Pils\"],[\"Deschutes Mirror Pond Ale\"],[\"Yuengling Porter\"],[\"Yuengling Porter\"],[\"Dogfish Head Midas Touch\"],[\"Bud American Ale\"],[\"Sam Adams Imperial Stout\"],[\"Sierra Nevada Bigfoot\"],[\"Irish Red Ale\"],[\"Leinenkugel Creamy Dark\"],[\"Sam Adams Winter Lager\"],[\"Lagunitas Brown Shugga'\"],[\"Sierra Nevada Porter\"],[\"Sierra Nevada Wheat Beer\"],[\"Sam Adams Boston Ale\"],[\"Dogfish Head 60 Minute IPA\"],[\"Sam Adams Boston Lager\"],[\"Deschutes Fresh Squeezed IPA\"],[\"Sam Adams Honey Porter\"],[\"Pilsner Urquell\"],[\"Michelob Honey Lager\"],[\"Lagunitas Hop Stoopid\"],[\"Bud Light Chelada Clamato\"],[\"New Belgium 1554\"],[\"Deschutes Black Butte Porter\"],[\"Sam Adams Scotch Ale\"],[\"Budweiser Chelada\"],[\"Anchor Porter\"],[\"Sam Adams Cream Stout\"],[\"Sierra Nevada Stout\"],[\"Sam Adams Black Lager\"],[\"Grolsch Blonde Lager\"],[\"Rock Bottom Illuminator Doppelback\"]],\"hovertemplate\":\"Calories=%{x}<br>ABV=%{y}<br>Brand=%{customdata[0]}<br>\\u016bndecile=%{marker.color}<extra></extra>\",\"legendgroup\":\"\",\"marker\":{\"color\":[11,11,11,11,11,11,11,11,11,11,11,11,11,11,11,11,11,11,11,11,11,11,11,11,11,10,10,10,10,10,10,10,10,10,10,10,10,10,10,10,10,10,10,10,10,10,10,10,10,9,9,9,9,9,9,9,9,9,9,9,9,9,9,9,9,9,9,9,9,9,9,9,9,9,8,8,8,8,8,8,8,8,8,8,8,8,8,8,8,8,8,8,8,8,8,8,8,8,7,7,7,7,7,7,7,7,7,7,7,7,7,7,7,7,7,7,7,7,7,7,7,7,7,6,6,6,6,6,6,6,6,6,6,6,6,6,6,6,6,6,6,6,6,6,6,6,6,5,5,5,5,5,5,5,5,5,5,5,5,5,5,5,5,5,5,5,5,5,5,5,5,5,4,4,4,4,4,4,4,4,4,4,4,4,4,4,4,4,4,4,4,4,4,4,4,4,3,3,3,3,3,3,3,3,3,3,3,3,3,3,3,3,3,3,3,3,3,3,3,2,2,2,2,2,2,2,2,2,2,2,2,2,2,2,2,2,2,2,2,2,2,2,2,2,2,1,1,1,1,1,1,1,1,1,1,1,1,1,1,1,1,1,1,1,1,1,1,1,1,1],\"coloraxis\":\"coloraxis\",\"symbol\":\"circle\"},\"mode\":\"markers\",\"name\":\"\",\"orientation\":\"v\",\"showlegend\":false,\"x\":[85,130,67,123,83,90,95,95,137,96,64,183,95,55,99,136,95,96,99,99,95,95,142,99,99,97,102,123,97,450,125,111,105,104,129,113,99,107,110,110,110,156,188,114,110,221,67,110,97,186,157,163,136,136,313,150,165,215,116,119,64,154,238,149,142,128,200,160,143,123,132,110,188,110,113,200,200,145,195,140,143,146,149,190,158,161,125,173,132,138,141,147,147,147,147,271,118,236,175,142,154,160,160,95,159,125,155,155,161,290,150,153,150,168,150,120,175,163,160,305,148,148,145,142,149,200,167,144,155,140,140,128,128,152,164,153,141,157,230,160,160,314,151,142,142,310,179,146,146,168,168,140,140,218,156,156,153,153,153,150,175,180,150,194,144,141,145,135,157,214,170,148,167,145,161,158,187,162,216,328,153,153,150,147,163,160,320,160,176,125,154,215,138,135,190,190,155,168,152,149,149,175,159,152,228,180,294,170,157,180,164,174,148,145,145,163,165,175,166,180,180,110,188,150,160,187,167,135,231,228,168,166,205,165,320,182,190,170,170,160,160,307,182,316,330,196,170,200,335,194,153,188,209,175,225,192,156,174,285,151,205,192,200,186,209,190,225,191,120,288],\"xaxis\":\"x\",\"y\":[4.3,5.9,3.0,5.5,3.7,4.0,4.2,4.2,6.0,4.2,2.8,8.0,4.15,2.4,4.3,5.9,4.1,4.1,4.2,4.2,4.0,4.0,5.9,4.1,4.1,4.0,4.2,5.0,3.9,18.0,5.0,4.43,4.19,4.13,5.1,4.4,3.8,4.1,4.2,4.2,4.2,5.9,7.1,4.3,4.14,8.3,2.5,4.1,3.6,6.9,5.8,6.0,5.0,5.0,11.5,5.5,6.0,7.8,4.2,4.3,2.3,5.5,8.5,5.3,5.0,4.5,7.0,5.6,5.0,4.3,4.6,3.82,6.5,3.8,3.9,6.9,6.9,5.0,6.7,4.8,4.9,5.0,5.1,6.5,5.4,5.5,4.27,5.9,4.5,4.7,4.8,5.0,5.0,5.0,5.0,9.2,4.0,8.0,5.93,4.8,5.2,5.4,5.4,3.2,5.35,4.2,5.2,5.2,5.4,9.7,5.0,5.1,5.0,5.6,5.0,4.0,5.8,5.4,5.3,10.1,4.9,4.9,4.8,4.7,4.92,6.6,5.5,4.74,5.1,4.6,4.6,4.2,4.2,4.97,5.36,5.0,4.6,5.12,7.5,5.2,5.2,10.2,4.9,4.6,4.6,10.0,5.77,4.7,4.7,5.4,5.4,4.5,4.5,7.0,5.0,5.0,4.9,4.9,4.9,4.8,5.6,5.76,4.8,6.2,4.6,4.5,4.62,4.3,5.0,6.8,5.4,4.7,5.3,4.6,5.1,5.0,5.9,5.1,6.8,10.3,4.8,4.8,4.7,4.6,5.1,5.0,10.0,5.0,5.5,3.9,4.8,6.7,4.3,4.2,5.9,5.9,4.8,5.2,4.7,4.6,4.6,5.4,4.9,4.67,7.0,5.52,9.0,5.2,4.8,5.5,5.0,5.3,4.5,4.4,4.4,4.94,5.0,5.3,5.0,5.4,5.4,3.3,5.64,4.5,4.8,5.6,5.0,4.04,6.9,6.8,5.0,4.94,6.1,4.9,9.5,5.4,5.6,5.0,5.0,4.7,4.7,9.0,5.3,9.2,9.6,5.7,4.94,5.8,9.7,5.6,4.4,5.4,6.0,5.0,6.4,5.45,4.4,4.9,8.0,4.2,5.6,5.2,5.4,5.0,5.6,4.9,5.8,4.9,2.8,6.67],\"yaxis\":\"y\",\"type\":\"scatter\"}],                        {\"template\":{\"data\":{\"histogram2dcontour\":[{\"type\":\"histogram2dcontour\",\"colorbar\":{\"outlinewidth\":0,\"ticks\":\"\"},\"colorscale\":[[0.0,\"#0d0887\"],[0.1111111111111111,\"#46039f\"],[0.2222222222222222,\"#7201a8\"],[0.3333333333333333,\"#9c179e\"],[0.4444444444444444,\"#bd3786\"],[0.5555555555555556,\"#d8576b\"],[0.6666666666666666,\"#ed7953\"],[0.7777777777777778,\"#fb9f3a\"],[0.8888888888888888,\"#fdca26\"],[1.0,\"#f0f921\"]]}],\"choropleth\":[{\"type\":\"choropleth\",\"colorbar\":{\"outlinewidth\":0,\"ticks\":\"\"}}],\"histogram2d\":[{\"type\":\"histogram2d\",\"colorbar\":{\"outlinewidth\":0,\"ticks\":\"\"},\"colorscale\":[[0.0,\"#0d0887\"],[0.1111111111111111,\"#46039f\"],[0.2222222222222222,\"#7201a8\"],[0.3333333333333333,\"#9c179e\"],[0.4444444444444444,\"#bd3786\"],[0.5555555555555556,\"#d8576b\"],[0.6666666666666666,\"#ed7953\"],[0.7777777777777778,\"#fb9f3a\"],[0.8888888888888888,\"#fdca26\"],[1.0,\"#f0f921\"]]}],\"heatmap\":[{\"type\":\"heatmap\",\"colorbar\":{\"outlinewidth\":0,\"ticks\":\"\"},\"colorscale\":[[0.0,\"#0d0887\"],[0.1111111111111111,\"#46039f\"],[0.2222222222222222,\"#7201a8\"],[0.3333333333333333,\"#9c179e\"],[0.4444444444444444,\"#bd3786\"],[0.5555555555555556,\"#d8576b\"],[0.6666666666666666,\"#ed7953\"],[0.7777777777777778,\"#fb9f3a\"],[0.8888888888888888,\"#fdca26\"],[1.0,\"#f0f921\"]]}],\"heatmapgl\":[{\"type\":\"heatmapgl\",\"colorbar\":{\"outlinewidth\":0,\"ticks\":\"\"},\"colorscale\":[[0.0,\"#0d0887\"],[0.1111111111111111,\"#46039f\"],[0.2222222222222222,\"#7201a8\"],[0.3333333333333333,\"#9c179e\"],[0.4444444444444444,\"#bd3786\"],[0.5555555555555556,\"#d8576b\"],[0.6666666666666666,\"#ed7953\"],[0.7777777777777778,\"#fb9f3a\"],[0.8888888888888888,\"#fdca26\"],[1.0,\"#f0f921\"]]}],\"contourcarpet\":[{\"type\":\"contourcarpet\",\"colorbar\":{\"outlinewidth\":0,\"ticks\":\"\"}}],\"contour\":[{\"type\":\"contour\",\"colorbar\":{\"outlinewidth\":0,\"ticks\":\"\"},\"colorscale\":[[0.0,\"#0d0887\"],[0.1111111111111111,\"#46039f\"],[0.2222222222222222,\"#7201a8\"],[0.3333333333333333,\"#9c179e\"],[0.4444444444444444,\"#bd3786\"],[0.5555555555555556,\"#d8576b\"],[0.6666666666666666,\"#ed7953\"],[0.7777777777777778,\"#fb9f3a\"],[0.8888888888888888,\"#fdca26\"],[1.0,\"#f0f921\"]]}],\"surface\":[{\"type\":\"surface\",\"colorbar\":{\"outlinewidth\":0,\"ticks\":\"\"},\"colorscale\":[[0.0,\"#0d0887\"],[0.1111111111111111,\"#46039f\"],[0.2222222222222222,\"#7201a8\"],[0.3333333333333333,\"#9c179e\"],[0.4444444444444444,\"#bd3786\"],[0.5555555555555556,\"#d8576b\"],[0.6666666666666666,\"#ed7953\"],[0.7777777777777778,\"#fb9f3a\"],[0.8888888888888888,\"#fdca26\"],[1.0,\"#f0f921\"]]}],\"mesh3d\":[{\"type\":\"mesh3d\",\"colorbar\":{\"outlinewidth\":0,\"ticks\":\"\"}}],\"scatter\":[{\"fillpattern\":{\"fillmode\":\"overlay\",\"size\":10,\"solidity\":0.2},\"type\":\"scatter\"}],\"parcoords\":[{\"type\":\"parcoords\",\"line\":{\"colorbar\":{\"outlinewidth\":0,\"ticks\":\"\"}}}],\"scatterpolargl\":[{\"type\":\"scatterpolargl\",\"marker\":{\"colorbar\":{\"outlinewidth\":0,\"ticks\":\"\"}}}],\"bar\":[{\"error_x\":{\"color\":\"#2a3f5f\"},\"error_y\":{\"color\":\"#2a3f5f\"},\"marker\":{\"line\":{\"color\":\"#E5ECF6\",\"width\":0.5},\"pattern\":{\"fillmode\":\"overlay\",\"size\":10,\"solidity\":0.2}},\"type\":\"bar\"}],\"scattergeo\":[{\"type\":\"scattergeo\",\"marker\":{\"colorbar\":{\"outlinewidth\":0,\"ticks\":\"\"}}}],\"scatterpolar\":[{\"type\":\"scatterpolar\",\"marker\":{\"colorbar\":{\"outlinewidth\":0,\"ticks\":\"\"}}}],\"histogram\":[{\"marker\":{\"pattern\":{\"fillmode\":\"overlay\",\"size\":10,\"solidity\":0.2}},\"type\":\"histogram\"}],\"scattergl\":[{\"type\":\"scattergl\",\"marker\":{\"colorbar\":{\"outlinewidth\":0,\"ticks\":\"\"}}}],\"scatter3d\":[{\"type\":\"scatter3d\",\"line\":{\"colorbar\":{\"outlinewidth\":0,\"ticks\":\"\"}},\"marker\":{\"colorbar\":{\"outlinewidth\":0,\"ticks\":\"\"}}}],\"scattermapbox\":[{\"type\":\"scattermapbox\",\"marker\":{\"colorbar\":{\"outlinewidth\":0,\"ticks\":\"\"}}}],\"scatterternary\":[{\"type\":\"scatterternary\",\"marker\":{\"colorbar\":{\"outlinewidth\":0,\"ticks\":\"\"}}}],\"scattercarpet\":[{\"type\":\"scattercarpet\",\"marker\":{\"colorbar\":{\"outlinewidth\":0,\"ticks\":\"\"}}}],\"carpet\":[{\"aaxis\":{\"endlinecolor\":\"#2a3f5f\",\"gridcolor\":\"white\",\"linecolor\":\"white\",\"minorgridcolor\":\"white\",\"startlinecolor\":\"#2a3f5f\"},\"baxis\":{\"endlinecolor\":\"#2a3f5f\",\"gridcolor\":\"white\",\"linecolor\":\"white\",\"minorgridcolor\":\"white\",\"startlinecolor\":\"#2a3f5f\"},\"type\":\"carpet\"}],\"table\":[{\"cells\":{\"fill\":{\"color\":\"#EBF0F8\"},\"line\":{\"color\":\"white\"}},\"header\":{\"fill\":{\"color\":\"#C8D4E3\"},\"line\":{\"color\":\"white\"}},\"type\":\"table\"}],\"barpolar\":[{\"marker\":{\"line\":{\"color\":\"#E5ECF6\",\"width\":0.5},\"pattern\":{\"fillmode\":\"overlay\",\"size\":10,\"solidity\":0.2}},\"type\":\"barpolar\"}],\"pie\":[{\"automargin\":true,\"type\":\"pie\"}]},\"layout\":{\"autotypenumbers\":\"strict\",\"colorway\":[\"#636efa\",\"#EF553B\",\"#00cc96\",\"#ab63fa\",\"#FFA15A\",\"#19d3f3\",\"#FF6692\",\"#B6E880\",\"#FF97FF\",\"#FECB52\"],\"font\":{\"color\":\"#2a3f5f\"},\"hovermode\":\"closest\",\"hoverlabel\":{\"align\":\"left\"},\"paper_bgcolor\":\"white\",\"plot_bgcolor\":\"#E5ECF6\",\"polar\":{\"bgcolor\":\"#E5ECF6\",\"angularaxis\":{\"gridcolor\":\"white\",\"linecolor\":\"white\",\"ticks\":\"\"},\"radialaxis\":{\"gridcolor\":\"white\",\"linecolor\":\"white\",\"ticks\":\"\"}},\"ternary\":{\"bgcolor\":\"#E5ECF6\",\"aaxis\":{\"gridcolor\":\"white\",\"linecolor\":\"white\",\"ticks\":\"\"},\"baxis\":{\"gridcolor\":\"white\",\"linecolor\":\"white\",\"ticks\":\"\"},\"caxis\":{\"gridcolor\":\"white\",\"linecolor\":\"white\",\"ticks\":\"\"}},\"coloraxis\":{\"colorbar\":{\"outlinewidth\":0,\"ticks\":\"\"}},\"colorscale\":{\"sequential\":[[0.0,\"#0d0887\"],[0.1111111111111111,\"#46039f\"],[0.2222222222222222,\"#7201a8\"],[0.3333333333333333,\"#9c179e\"],[0.4444444444444444,\"#bd3786\"],[0.5555555555555556,\"#d8576b\"],[0.6666666666666666,\"#ed7953\"],[0.7777777777777778,\"#fb9f3a\"],[0.8888888888888888,\"#fdca26\"],[1.0,\"#f0f921\"]],\"sequentialminus\":[[0.0,\"#0d0887\"],[0.1111111111111111,\"#46039f\"],[0.2222222222222222,\"#7201a8\"],[0.3333333333333333,\"#9c179e\"],[0.4444444444444444,\"#bd3786\"],[0.5555555555555556,\"#d8576b\"],[0.6666666666666666,\"#ed7953\"],[0.7777777777777778,\"#fb9f3a\"],[0.8888888888888888,\"#fdca26\"],[1.0,\"#f0f921\"]],\"diverging\":[[0,\"#8e0152\"],[0.1,\"#c51b7d\"],[0.2,\"#de77ae\"],[0.3,\"#f1b6da\"],[0.4,\"#fde0ef\"],[0.5,\"#f7f7f7\"],[0.6,\"#e6f5d0\"],[0.7,\"#b8e186\"],[0.8,\"#7fbc41\"],[0.9,\"#4d9221\"],[1,\"#276419\"]]},\"xaxis\":{\"gridcolor\":\"white\",\"linecolor\":\"white\",\"ticks\":\"\",\"title\":{\"standoff\":15},\"zerolinecolor\":\"white\",\"automargin\":true,\"zerolinewidth\":2},\"yaxis\":{\"gridcolor\":\"white\",\"linecolor\":\"white\",\"ticks\":\"\",\"title\":{\"standoff\":15},\"zerolinecolor\":\"white\",\"automargin\":true,\"zerolinewidth\":2},\"scene\":{\"xaxis\":{\"backgroundcolor\":\"#E5ECF6\",\"gridcolor\":\"white\",\"linecolor\":\"white\",\"showbackground\":true,\"ticks\":\"\",\"zerolinecolor\":\"white\",\"gridwidth\":2},\"yaxis\":{\"backgroundcolor\":\"#E5ECF6\",\"gridcolor\":\"white\",\"linecolor\":\"white\",\"showbackground\":true,\"ticks\":\"\",\"zerolinecolor\":\"white\",\"gridwidth\":2},\"zaxis\":{\"backgroundcolor\":\"#E5ECF6\",\"gridcolor\":\"white\",\"linecolor\":\"white\",\"showbackground\":true,\"ticks\":\"\",\"zerolinecolor\":\"white\",\"gridwidth\":2}},\"shapedefaults\":{\"line\":{\"color\":\"#2a3f5f\"}},\"annotationdefaults\":{\"arrowcolor\":\"#2a3f5f\",\"arrowhead\":0,\"arrowwidth\":1},\"geo\":{\"bgcolor\":\"white\",\"landcolor\":\"#E5ECF6\",\"subunitcolor\":\"white\",\"showland\":true,\"showlakes\":true,\"lakecolor\":\"white\"},\"title\":{\"x\":0.05},\"mapbox\":{\"style\":\"light\"}}},\"xaxis\":{\"anchor\":\"y\",\"domain\":[0.0,1.0],\"title\":{\"text\":\"Calories\"}},\"yaxis\":{\"anchor\":\"x\",\"domain\":[0.0,1.0],\"title\":{\"text\":\"ABV\"}},\"coloraxis\":{\"colorbar\":{\"title\":{\"text\":\"\\u016bndecile\"}},\"colorscale\":[[0.0,\"#0d0887\"],[0.1111111111111111,\"#46039f\"],[0.2222222222222222,\"#7201a8\"],[0.3333333333333333,\"#9c179e\"],[0.4444444444444444,\"#bd3786\"],[0.5555555555555556,\"#d8576b\"],[0.6666666666666666,\"#ed7953\"],[0.7777777777777778,\"#fb9f3a\"],[0.8888888888888888,\"#fdca26\"],[1.0,\"#f0f921\"]]},\"legend\":{\"tracegroupgap\":0},\"margin\":{\"t\":60},\"height\":700,\"width\":700},                        {\"responsive\": true}                    ).then(function(){\n",
       "                            \n",
       "var gd = document.getElementById('d46864e7-51a0-4b28-846e-ee6ac2d4e0ee');\n",
       "var x = new MutationObserver(function (mutations, observer) {{\n",
       "        var display = window.getComputedStyle(gd).display;\n",
       "        if (!display || display === 'none') {{\n",
       "            console.log([gd, 'removed!']);\n",
       "            Plotly.purge(gd);\n",
       "            observer.disconnect();\n",
       "        }}\n",
       "}});\n",
       "\n",
       "// Listen for the removal of the full notebook cells\n",
       "var notebookContainer = gd.closest('#notebook-container');\n",
       "if (notebookContainer) {{\n",
       "    x.observe(notebookContainer, {childList: true});\n",
       "}}\n",
       "\n",
       "// Listen for the clearing of the current output cell\n",
       "var outputEl = gd.closest('.output');\n",
       "if (outputEl) {{\n",
       "    x.observe(outputEl, {childList: true});\n",
       "}}\n",
       "\n",
       "                        })                };                });            </script>        </div>"
      ]
     },
     "metadata": {},
     "output_type": "display_data"
    }
   ],
   "source": [
    "pd.qcut(df[\"apc\"], q=11, labels=False)\n",
    "df['ūndecile'] = pd.qcut(df[\"apc\"], q=11, labels=False)\n",
    "df['ūndecile'] = df['ūndecile'] + 1  # add one because zero index not helpful here\n",
    "\n",
    "# Now color data points by quintiles of ABV/Calories\n",
    "fig = px.scatter(df, x=\"Calories\", y=\"ABV\",  hover_data=['Brand'], color=\"ūndecile\",\n",
    "                width=700, height=700)\n",
    "fig.show()"
   ]
  },
  {
   "cell_type": "markdown",
   "id": "308bb550-2fe8-40b5-b749-3c8056ccb6f3",
   "metadata": {},
   "source": [
    "Maybe not the best color palette but the plotly zoom functions help distingush the yellows from oranges nicely. Also helpful to remove the clutter between 100 and 200 calories. The highest ABV is in the 10th ūndecile instead of 11."
   ]
  }
 ],
 "metadata": {
  "kernelspec": {
   "display_name": "Python 3 (ipykernel)",
   "language": "python",
   "name": "python3"
  },
  "language_info": {
   "codemirror_mode": {
    "name": "ipython",
    "version": 3
   },
   "file_extension": ".py",
   "mimetype": "text/x-python",
   "name": "python",
   "nbconvert_exporter": "python",
   "pygments_lexer": "ipython3",
   "version": "3.7.8"
  }
 },
 "nbformat": 4,
 "nbformat_minor": 5
}
