{
 "cells": [
  {
   "cell_type": "code",
   "execution_count": 29,
   "id": "31aa9b67-1f17-424e-88d5-81c51e8015ef",
   "metadata": {},
   "outputs": [],
   "source": [
    "import pandas as pd\n",
    "import lxml\n",
    "from matplotlib import pyplot\n",
    "import plotly.express as px"
   ]
  },
  {
   "cell_type": "code",
   "execution_count": 82,
   "id": "1563c4f7-c79c-49ba-9aaa-db1d8db71eff",
   "metadata": {},
   "outputs": [],
   "source": [
    "beer = pd.read_html('https://homebrewacademy.com/beer-alcohol-content-list/')"
   ]
  },
  {
   "cell_type": "code",
   "execution_count": 83,
   "id": "4b24abf9-58b0-4207-af12-64ffbb1e7fb8",
   "metadata": {},
   "outputs": [
    {
     "name": "stdout",
     "output_type": "stream",
     "text": [
      "Total tables: 2\n"
     ]
    }
   ],
   "source": [
    "print(f'Total tables: {len(beer)}')"
   ]
  },
  {
   "cell_type": "code",
   "execution_count": 84,
   "id": "de2f6cd5-e221-4aee-b868-77344c8d5cdd",
   "metadata": {},
   "outputs": [
    {
     "data": {
      "text/html": [
       "<div>\n",
       "<style scoped>\n",
       "    .dataframe tbody tr th:only-of-type {\n",
       "        vertical-align: middle;\n",
       "    }\n",
       "\n",
       "    .dataframe tbody tr th {\n",
       "        vertical-align: top;\n",
       "    }\n",
       "\n",
       "    .dataframe thead th {\n",
       "        text-align: right;\n",
       "    }\n",
       "</style>\n",
       "<table border=\"1\" class=\"dataframe\">\n",
       "  <thead>\n",
       "    <tr style=\"text-align: right;\">\n",
       "      <th></th>\n",
       "      <th>Brand</th>\n",
       "      <th>Calories</th>\n",
       "      <th>ABV</th>\n",
       "    </tr>\n",
       "  </thead>\n",
       "  <tbody>\n",
       "    <tr>\n",
       "      <th>0</th>\n",
       "      <td>Abita Amber</td>\n",
       "      <td>128</td>\n",
       "      <td>4.5</td>\n",
       "    </tr>\n",
       "    <tr>\n",
       "      <th>1</th>\n",
       "      <td>Abita Golden</td>\n",
       "      <td>125</td>\n",
       "      <td>4.2</td>\n",
       "    </tr>\n",
       "    <tr>\n",
       "      <th>2</th>\n",
       "      <td>Abita Jockamo IPA</td>\n",
       "      <td>190</td>\n",
       "      <td>6.5</td>\n",
       "    </tr>\n",
       "    <tr>\n",
       "      <th>3</th>\n",
       "      <td>Abita Light</td>\n",
       "      <td>118</td>\n",
       "      <td>4.0</td>\n",
       "    </tr>\n",
       "    <tr>\n",
       "      <th>4</th>\n",
       "      <td>Abita Purple Haze</td>\n",
       "      <td>128</td>\n",
       "      <td>4.2</td>\n",
       "    </tr>\n",
       "  </tbody>\n",
       "</table>\n",
       "</div>"
      ],
      "text/plain": [
       "               Brand  Calories  ABV\n",
       "0        Abita Amber       128  4.5\n",
       "1       Abita Golden       125  4.2\n",
       "2  Abita Jockamo IPA       190  6.5\n",
       "3        Abita Light       118  4.0\n",
       "4  Abita Purple Haze       128  4.2"
      ]
     },
     "execution_count": 84,
     "metadata": {},
     "output_type": "execute_result"
    }
   ],
   "source": [
    "df = beer[0]\n",
    "df['ABV'] = df['ABV'].str[:-1]\n",
    "df['ABV'] = df['ABV'].astype('float')\n",
    "df.head()"
   ]
  },
  {
   "cell_type": "code",
   "execution_count": 85,
   "id": "0547ef55-308b-4d11-9a8d-c5f893378c0d",
   "metadata": {},
   "outputs": [
    {
     "data": {
      "application/vnd.plotly.v1+json": {
       "config": {
        "plotlyServerURL": "https://plot.ly"
       },
       "data": [
        {
         "customdata": [
          [
           "Abita Amber"
          ],
          [
           "Abita Golden"
          ],
          [
           "Abita Jockamo IPA"
          ],
          [
           "Abita Light"
          ],
          [
           "Abita Purple Haze"
          ],
          [
           "Abita Restoration"
          ],
          [
           "Abita Turbodog"
          ],
          [
           "Amstel Light"
          ],
          [
           "Anchor Porter"
          ],
          [
           "Anchor Steam"
          ],
          [
           "Augustiner Amber Lager"
          ],
          [
           "Bass Ale"
          ],
          [
           "Beach Bum Blonde Ale"
          ],
          [
           "Beck's"
          ],
          [
           "Beck's Light"
          ],
          [
           "Blatz Beer"
          ],
          [
           "Blue Moon Belgian White"
          ],
          [
           "Blue Moon Full Moon Winter Ale"
          ],
          [
           "Blue Moon Harvest Moon Pumpkin Ale"
          ],
          [
           "Blue Moon Honey Moon Summer Ale"
          ],
          [
           "Blue Moon Rising Moon Spring Ale"
          ],
          [
           "Blue Point Toasted Lager"
          ],
          [
           "Boddington's Ale"
          ],
          [
           "Brooklyn Black Chocolate Stout"
          ],
          [
           "Brooklyn Brown Ale"
          ],
          [
           "Brooklyn East India Pale Ale"
          ],
          [
           "Brooklyn Lager"
          ],
          [
           "Brooklyn Monster"
          ],
          [
           "Brooklyn Pennant Pale Ale"
          ],
          [
           "Brooklyn Pilsner"
          ],
          [
           "Brooklyn Summer Ale"
          ],
          [
           "Brooklyn Winter Ale"
          ],
          [
           "Bud American Ale"
          ],
          [
           "Bud Ice"
          ],
          [
           "Bud Light"
          ],
          [
           "Bud Light Chelada Clamato"
          ],
          [
           "Bud Light Lime"
          ],
          [
           "Bud Light Platinum"
          ],
          [
           "Budweiser"
          ],
          [
           "Budweiser Chelada"
          ],
          [
           "Budweiser Select"
          ],
          [
           "Budweiser Select 55"
          ],
          [
           "Busch"
          ],
          [
           "Busch Ice"
          ],
          [
           "Busch Light"
          ],
          [
           "Carling Black Label"
          ],
          [
           "Coors Banquet"
          ],
          [
           "Coors Extra Gold"
          ],
          [
           "Coors Light"
          ],
          [
           "Corona Extra"
          ],
          [
           "Corona Familiar"
          ],
          [
           "Corona Light"
          ],
          [
           "Corona Premier"
          ],
          [
           "Cristal (Peru)"
          ],
          [
           "Cusquena"
          ],
          [
           "Deschutes Black Butte Porter"
          ],
          [
           "Deschutes Fresh Squeezed IPA"
          ],
          [
           "Deschutes Inversion IPA"
          ],
          [
           "Deschutes Mirror Pond Ale"
          ],
          [
           "Dogfish Head 120 Minute IPA"
          ],
          [
           "Dogfish Head 60 Minute IPA"
          ],
          [
           "Dogfish Head 90 Minute IPA"
          ],
          [
           "Dogfish Head Midas Touch"
          ],
          [
           "Dogfish Head Red & White"
          ],
          [
           "Dogfish Head Shelter Pale Ale"
          ],
          [
           "Efes Pils"
          ],
          [
           "Firestone DBA"
          ],
          [
           "Flying Dog Doggie Style Pale Ale"
          ],
          [
           "Flying Dog Double Dog"
          ],
          [
           "Flying Dog Gonzo"
          ],
          [
           "Flying Dog Horn Dog"
          ],
          [
           "Flying Dog In Heat Wheat"
          ],
          [
           "Flying Dog Kerberos Tripel"
          ],
          [
           "Flying Dog Old Scratch Amber Lager"
          ],
          [
           "Flying Dog Raging Bitch"
          ],
          [
           "Flying Dog Road Dog"
          ],
          [
           "Flying Dog Snake Dog IPA"
          ],
          [
           "Flying Dog Tire Bite Golden Ale"
          ],
          [
           "Foster's"
          ],
          [
           "Foster's Premium Ale"
          ],
          [
           "Genesee Beer"
          ],
          [
           "Genesee Cream Ale"
          ],
          [
           "Genesee Ice"
          ],
          [
           "Genesee Red"
          ],
          [
           "George Killian's Irish Red"
          ],
          [
           "Grolsch Amber Ale"
          ],
          [
           "Grolsch Blonde Lager"
          ],
          [
           "Grolsch Light Lager"
          ],
          [
           "Grolsch Premium Lager"
          ],
          [
           "Guinness Draught"
          ],
          [
           "Guinness Extra Stout"
          ],
          [
           "Hamm's Beer"
          ],
          [
           "Hamm's Special Light"
          ],
          [
           "Harbin"
          ],
          [
           "Harp Lager"
          ],
          [
           "Heineken"
          ],
          [
           "Heineken Light"
          ],
          [
           "Hiland Light"
          ],
          [
           "Hoegaarden Belgian White"
          ],
          [
           "Irish Red Ale"
          ],
          [
           "Iron City"
          ],
          [
           "Iron City Light"
          ],
          [
           "Keystone Ice"
          ],
          [
           "Keystone Light"
          ],
          [
           "Keystone Premium"
          ],
          [
           "Kirin"
          ],
          [
           "Kirin Light"
          ],
          [
           "Lagunitas Brown Shugga'"
          ],
          [
           "Lagunitas Hop Stoopid"
          ],
          [
           "Lagunitas IPA"
          ],
          [
           "Lagunitas Little Sumpin' Sumpin' Ale"
          ],
          [
           "Lech"
          ],
          [
           "Leinenkugel Amber Light"
          ],
          [
           "Leinenkugel Creamy Dark"
          ],
          [
           "Leinenkugel Honey Weiss"
          ],
          [
           "Leinenkugel Light"
          ],
          [
           "Leinenkugel Northwoods Lager"
          ],
          [
           "Leinenkugel Original"
          ],
          [
           "Leinenkugel Red"
          ],
          [
           "Leinenkugel Sunset Wheat"
          ],
          [
           "Lowenbrau Dark"
          ],
          [
           "Lowenbrau Special Beer"
          ],
          [
           "Magic Hat #9"
          ],
          [
           "Michael Shea's"
          ],
          [
           "Michelob AmberBock"
          ],
          [
           "Michelob Beer"
          ],
          [
           "Michelob Dunkelweisse"
          ],
          [
           "Michelob Golden Draft"
          ],
          [
           "Michelob Golden Draft Light"
          ],
          [
           "Michelob Honey Lager"
          ],
          [
           "Michelob Light"
          ],
          [
           "Michelob Pale Ale"
          ],
          [
           "Michelob Porter"
          ],
          [
           "Michelob Ultra"
          ],
          [
           "Michelob Ultra Amber"
          ],
          [
           "Michelob Ultra Lime Cactus"
          ],
          [
           "Michelob Ultra Pure Gold"
          ],
          [
           "Mickey's Ice"
          ],
          [
           "Miller Fortune"
          ],
          [
           "Miller Genuine Draft (MGD)"
          ],
          [
           "Miller High Life"
          ],
          [
           "Miller High Life Light"
          ],
          [
           "Miller Lite"
          ],
          [
           "Miller64"
          ],
          [
           "Milwaukee's Best (Premium)"
          ],
          [
           "Milwaukee's Best Ice (Beast Ice)"
          ],
          [
           "Milwaukee's Best Light"
          ],
          [
           "Modelo Especial"
          ],
          [
           "Molson Canadian"
          ],
          [
           "Molson Canadian 67"
          ],
          [
           "Molson Canadian Light"
          ],
          [
           "Molson Ice"
          ],
          [
           "Natty Daddy"
          ],
          [
           "Natural Ice"
          ],
          [
           "Natural Light"
          ],
          [
           "Negra Modelo"
          ],
          [
           "New Belgium 1554"
          ],
          [
           "New Belgium 2 Below"
          ],
          [
           "New Belgium Abbey"
          ],
          [
           "New Belgium Blue Paddle"
          ],
          [
           "New Belgium Fat Tire"
          ],
          [
           "New Belgium Mothership Wit"
          ],
          [
           "New Belgium Skinny Dip"
          ],
          [
           "New Belgium Sunshine Wheat"
          ],
          [
           "New Belgium Trippel"
          ],
          [
           "New Planet Tread Lightly Ale"
          ],
          [
           "Newcastle Brown Ale"
          ],
          [
           "Old Milwaukee Beer"
          ],
          [
           "Old Milwaukee Light"
          ],
          [
           "Olympia Premium Lager"
          ],
          [
           "Ommegang Three Philosophers"
          ],
          [
           "Omission IPA"
          ],
          [
           "Omission Lager"
          ],
          [
           "Omission Pale Ale"
          ],
          [
           "Omission Ultimate Light"
          ],
          [
           "Pabst Blue Ribbon"
          ],
          [
           "Pabst Extra Light Low Alcohol"
          ],
          [
           "Pacifico"
          ],
          [
           "Peroni Nastro Azzurro"
          ],
          [
           "Pete's Wicked Ale"
          ],
          [
           "Pilsner Urquell"
          ],
          [
           "Puppers Premium Lager"
          ],
          [
           "Presidente"
          ],
          [
           "Red Bridge"
          ],
          [
           "Red Dog"
          ],
          [
           "Red Stripe"
          ],
          [
           "Redd's Apple Ale"
          ],
          [
           "Redhook ESB"
          ],
          [
           "Redhook IPA"
          ],
          [
           "Redhook Slim Chance"
          ],
          [
           "Rock Bottom Illuminator Doppelback"
          ],
          [
           "Rogue Dead Guy Ale"
          ],
          [
           "Rolling Rock Extra Pale"
          ],
          [
           "Rolling Rock Green Light"
          ],
          [
           "Rolling Rock Premium Beer"
          ],
          [
           "Russian River Pliny the Elder"
          ],
          [
           "Sam Adams Black Lager"
          ],
          [
           "Sam Adams Blackberry Witbier"
          ],
          [
           "Sam Adams Boston Ale"
          ],
          [
           "Sam Adams Boston Lager"
          ],
          [
           "Sam Adams Brown Ale"
          ],
          [
           "Sam Adams Cherry Wheat"
          ],
          [
           "Sam Adams Coastal Wheat"
          ],
          [
           "Sam Adams Cream Stout"
          ],
          [
           "Sam Adams Hefeweizen"
          ],
          [
           "Sam Adams Honey Porter"
          ],
          [
           "Sam Adams Imperial Double Bock"
          ],
          [
           "Sam Adams Imperial Stout"
          ],
          [
           "Sam Adams Imperial White"
          ],
          [
           "Sam Adams IPA"
          ],
          [
           "Sam Adams Irish Red"
          ],
          [
           "Sam Adams Light"
          ],
          [
           "Sam Adams Octoberfest"
          ],
          [
           "Sam Adams Pale Ale"
          ],
          [
           "Sam Adams Scotch Ale"
          ],
          [
           "Sam Adams Summer Ale"
          ],
          [
           "Sam Adams White Ale"
          ],
          [
           "Sam Adams Winter Lager"
          ],
          [
           "Schaefer Beer"
          ],
          [
           "Schlitz Beer"
          ],
          [
           "Schlitz Light"
          ],
          [
           "Sculpin IPA"
          ],
          [
           "Shipyard Light"
          ],
          [
           "Shock Top"
          ],
          [
           "Sierra Nevada Anniversary Ale"
          ],
          [
           "Sierra Nevada Bigfoot"
          ],
          [
           "Sierra Nevada Celebration Ale"
          ],
          [
           "Sierra Nevada Draft Ale"
          ],
          [
           "Sierra Nevada Early Spring Beer"
          ],
          [
           "Sierra Nevada Harvest Ale"
          ],
          [
           "Sierra Nevada India Pale Ale"
          ],
          [
           "Sierra Nevada Pale Ale"
          ],
          [
           "Sierra Nevada Pale Bock"
          ],
          [
           "Sierra Nevada Porter"
          ],
          [
           "Sierra Nevada Stout"
          ],
          [
           "Sierra Nevada Summerfest"
          ],
          [
           "Sierra Nevada Wheat Beer"
          ],
          [
           "Signature Stroh Beer"
          ],
          [
           "Smithwick's"
          ],
          [
           "Smuttynose Fineskind IPA"
          ],
          [
           "Sol Cerveza"
          ],
          [
           "Southpaw Light"
          ],
          [
           "St. Pauli Girl"
          ],
          [
           "St. Pauli Girl Special Dark"
          ],
          [
           "Stella Artois"
          ],
          [
           "Stone Pale Ale"
          ],
          [
           "Strauss Endless Summer Light"
          ],
          [
           "Stroh's Beer"
          ],
          [
           "Stroh's Light"
          ],
          [
           "Tsingtao"
          ],
          [
           "Tuborg Deluxe Dark Export"
          ],
          [
           "Tuborg Export Quality"
          ],
          [
           "Tyskie"
          ],
          [
           "Victoria"
          ],
          [
           "Weinhard's Amber Light"
          ],
          [
           "Weinhard's Blonde Lager"
          ],
          [
           "Weinhard's Hefeweizen"
          ],
          [
           "Weinhard's Pale Ale"
          ],
          [
           "Weinhard's Private Reserve"
          ],
          [
           "Widmer Hefeweizen"
          ],
          [
           "Winter's Bourbon Cask Ale"
          ],
          [
           "Wyder's Apple Cider"
          ],
          [
           "Wyder's Pear Cider"
          ],
          [
           "Yuengling Lager"
          ],
          [
           "Yuengling Light Lager"
          ],
          [
           "Yuengling Lord Chesterfield Ale"
          ],
          [
           "Yuengling Oktoberfest"
          ],
          [
           "Yuengling Porter"
          ],
          [
           "Yuengling Porter"
          ],
          [
           "Yuengling Premium Beer"
          ]
         ],
         "hovertemplate": "Calories=%{x}<br>ABV=%{y}<br>Brand=%{customdata[0]}<extra></extra>",
         "legendgroup": "",
         "marker": {
          "color": "#636efa",
          "symbol": "circle"
         },
         "mode": "markers",
         "name": "",
         "orientation": "v",
         "showlegend": false,
         "type": "scatter",
         "x": [
          128,
          125,
          190,
          118,
          128,
          167,
          168,
          99,
          209,
          153,
          135,
          156,
          163,
          143,
          64,
          153,
          164,
          180,
          180,
          157,
          161,
          175,
          148,
          320,
          190,
          200,
          170,
          305,
          160,
          155,
          150,
          205,
          182,
          123,
          110,
          151,
          116,
          137,
          145,
          186,
          99,
          55,
          114,
          136,
          95,
          138,
          147,
          152,
          102,
          149,
          154,
          99,
          90,
          132,
          141,
          192,
          225,
          228,
          170,
          450,
          209,
          294,
          307,
          310,
          168,
          170,
          166,
          150,
          313,
          271,
          314,
          138,
          238,
          154,
          221,
          163,
          188,
          129,
          146,
          161,
          148,
          162,
          156,
          148,
          168,
          160,
          120,
          97,
          142,
          125,
          153,
          142,
          110,
          144,
          155,
          150,
          99,
          97,
          153,
          196,
          140,
          95,
          142,
          104,
          111,
          147,
          95,
          335,
          285,
          194,
          230,
          143,
          110,
          170,
          149,
          105,
          163,
          152,
          166,
          165,
          160,
          160,
          153,
          145,
          155,
          164,
          167,
          152,
          110,
          174,
          123,
          187,
          187,
          95,
          95,
          95,
          85,
          157,
          186,
          140,
          141,
          107,
          96,
          64,
          142,
          173,
          96,
          145,
          136,
          67,
          113,
          160,
          183,
          130,
          95,
          170,
          205,
          200,
          200,
          140,
          160,
          155,
          110,
          145,
          215,
          125,
          150,
          145,
          110,
          146,
          290,
          195,
          140,
          175,
          99,
          144,
          67,
          145,
          149,
          174,
          156,
          120,
          147,
          160,
          147,
          153,
          165,
          179,
          188,
          125,
          288,
          216,
          142,
          83,
          132,
          236,
          191,
          176,
          188,
          175,
          159,
          180,
          167,
          190,
          182,
          192,
          320,
          316,
          328,
          175,
          180,
          119,
          180,
          160,
          200,
          160,
          175,
          200,
          142,
          146,
          110,
          228,
          97,
          168,
          190,
          330,
          214,
          157,
          190,
          215,
          231,
          175,
          218,
          194,
          225,
          158,
          153,
          153,
          150,
          200,
          128,
          123,
          148,
          150,
          154,
          188,
          110,
          149,
          113,
          157,
          163,
          156,
          149,
          135,
          135,
          161,
          151,
          147,
          150,
          159,
          165,
          150,
          136,
          140,
          99,
          158,
          168,
          160,
          160,
          141
         ],
         "xaxis": "x",
         "y": [
          4.5,
          4.2,
          6.5,
          4,
          4.2,
          5,
          5.6,
          4.1,
          5.6,
          4.9,
          4.3,
          5,
          5.4,
          5,
          2.3,
          4.8,
          5.36,
          5.52,
          5.76,
          5.12,
          5.4,
          5.3,
          4.7,
          10,
          5.6,
          6.9,
          5.2,
          10.1,
          5,
          5.1,
          5,
          6.1,
          5.3,
          5.5,
          4.2,
          4.2,
          4.2,
          6,
          5,
          5,
          4.3,
          2.4,
          4.3,
          5.9,
          4.1,
          4.3,
          5,
          4.97,
          4.2,
          4.6,
          4.8,
          4.1,
          4,
          4.6,
          4.8,
          5.2,
          6.4,
          6.8,
          5,
          18,
          6,
          9,
          9,
          10,
          5,
          5,
          5,
          5.5,
          11.5,
          9.2,
          10.2,
          4.7,
          8.5,
          5.5,
          8.3,
          6,
          7.1,
          5.1,
          5,
          5.5,
          4.5,
          5.1,
          5.9,
          4.9,
          5.4,
          5.4,
          2.8,
          3.6,
          5,
          4.27,
          5,
          4.7,
          3.8,
          4.6,
          5.2,
          5,
          4.2,
          4,
          4.9,
          5.7,
          4.5,
          4.15,
          5.9,
          4.13,
          4.43,
          5,
          3.2,
          9.7,
          8,
          6.2,
          7.5,
          4.9,
          4.14,
          4.94,
          4.92,
          4.19,
          4.94,
          4.67,
          4.94,
          4.9,
          5,
          5.2,
          5.1,
          4.62,
          5.2,
          5,
          5.5,
          4.7,
          4.1,
          4.9,
          4.3,
          5.6,
          5.9,
          4.2,
          4,
          4,
          4.3,
          5.8,
          6.9,
          4.6,
          4.6,
          4.1,
          4.2,
          2.8,
          4.8,
          5.9,
          4.1,
          4.4,
          5,
          3,
          3.9,
          5.6,
          8,
          5.9,
          4.2,
          5.4,
          5.6,
          6.6,
          7,
          4.8,
          5.2,
          4.8,
          4.2,
          4.8,
          7.8,
          5,
          4.7,
          4.6,
          3.82,
          4.7,
          9.7,
          6.7,
          4.6,
          5.8,
          4.2,
          4.74,
          2.5,
          4.4,
          5.1,
          5.3,
          4.4,
          4,
          5,
          4.8,
          5,
          4.9,
          5,
          5.77,
          6.5,
          3.9,
          6.67,
          6.8,
          4.6,
          3.7,
          4.5,
          8,
          4.9,
          5.5,
          5.4,
          5,
          5.35,
          5.4,
          5.3,
          4.9,
          5.4,
          5.45,
          9.5,
          9.2,
          10.3,
          5.93,
          5.5,
          4.3,
          5.4,
          5.4,
          5.4,
          5.3,
          5.4,
          5.8,
          4.6,
          4.7,
          4.2,
          7,
          3.9,
          5.2,
          5.9,
          9.6,
          6.8,
          5,
          5.9,
          6.7,
          6.9,
          5.6,
          7,
          5.6,
          5.8,
          5,
          4.4,
          4.8,
          4.5,
          6.9,
          4.2,
          5,
          4.9,
          4.8,
          5.2,
          5.64,
          3.3,
          4.6,
          4.4,
          4.8,
          5.1,
          5,
          5.3,
          4.04,
          4.2,
          5.1,
          4.9,
          4.6,
          4.8,
          4.9,
          6,
          5,
          5,
          4.5,
          3.8,
          5.4,
          5.4,
          4.7,
          4.7,
          4.5
         ],
         "yaxis": "y"
        }
       ],
       "layout": {
        "height": 800,
        "legend": {
         "tracegroupgap": 0
        },
        "margin": {
         "t": 60
        },
        "template": {
         "data": {
          "bar": [
           {
            "error_x": {
             "color": "#2a3f5f"
            },
            "error_y": {
             "color": "#2a3f5f"
            },
            "marker": {
             "line": {
              "color": "#E5ECF6",
              "width": 0.5
             },
             "pattern": {
              "fillmode": "overlay",
              "size": 10,
              "solidity": 0.2
             }
            },
            "type": "bar"
           }
          ],
          "barpolar": [
           {
            "marker": {
             "line": {
              "color": "#E5ECF6",
              "width": 0.5
             },
             "pattern": {
              "fillmode": "overlay",
              "size": 10,
              "solidity": 0.2
             }
            },
            "type": "barpolar"
           }
          ],
          "carpet": [
           {
            "aaxis": {
             "endlinecolor": "#2a3f5f",
             "gridcolor": "white",
             "linecolor": "white",
             "minorgridcolor": "white",
             "startlinecolor": "#2a3f5f"
            },
            "baxis": {
             "endlinecolor": "#2a3f5f",
             "gridcolor": "white",
             "linecolor": "white",
             "minorgridcolor": "white",
             "startlinecolor": "#2a3f5f"
            },
            "type": "carpet"
           }
          ],
          "choropleth": [
           {
            "colorbar": {
             "outlinewidth": 0,
             "ticks": ""
            },
            "type": "choropleth"
           }
          ],
          "contour": [
           {
            "colorbar": {
             "outlinewidth": 0,
             "ticks": ""
            },
            "colorscale": [
             [
              0,
              "#0d0887"
             ],
             [
              0.1111111111111111,
              "#46039f"
             ],
             [
              0.2222222222222222,
              "#7201a8"
             ],
             [
              0.3333333333333333,
              "#9c179e"
             ],
             [
              0.4444444444444444,
              "#bd3786"
             ],
             [
              0.5555555555555556,
              "#d8576b"
             ],
             [
              0.6666666666666666,
              "#ed7953"
             ],
             [
              0.7777777777777778,
              "#fb9f3a"
             ],
             [
              0.8888888888888888,
              "#fdca26"
             ],
             [
              1,
              "#f0f921"
             ]
            ],
            "type": "contour"
           }
          ],
          "contourcarpet": [
           {
            "colorbar": {
             "outlinewidth": 0,
             "ticks": ""
            },
            "type": "contourcarpet"
           }
          ],
          "heatmap": [
           {
            "colorbar": {
             "outlinewidth": 0,
             "ticks": ""
            },
            "colorscale": [
             [
              0,
              "#0d0887"
             ],
             [
              0.1111111111111111,
              "#46039f"
             ],
             [
              0.2222222222222222,
              "#7201a8"
             ],
             [
              0.3333333333333333,
              "#9c179e"
             ],
             [
              0.4444444444444444,
              "#bd3786"
             ],
             [
              0.5555555555555556,
              "#d8576b"
             ],
             [
              0.6666666666666666,
              "#ed7953"
             ],
             [
              0.7777777777777778,
              "#fb9f3a"
             ],
             [
              0.8888888888888888,
              "#fdca26"
             ],
             [
              1,
              "#f0f921"
             ]
            ],
            "type": "heatmap"
           }
          ],
          "heatmapgl": [
           {
            "colorbar": {
             "outlinewidth": 0,
             "ticks": ""
            },
            "colorscale": [
             [
              0,
              "#0d0887"
             ],
             [
              0.1111111111111111,
              "#46039f"
             ],
             [
              0.2222222222222222,
              "#7201a8"
             ],
             [
              0.3333333333333333,
              "#9c179e"
             ],
             [
              0.4444444444444444,
              "#bd3786"
             ],
             [
              0.5555555555555556,
              "#d8576b"
             ],
             [
              0.6666666666666666,
              "#ed7953"
             ],
             [
              0.7777777777777778,
              "#fb9f3a"
             ],
             [
              0.8888888888888888,
              "#fdca26"
             ],
             [
              1,
              "#f0f921"
             ]
            ],
            "type": "heatmapgl"
           }
          ],
          "histogram": [
           {
            "marker": {
             "pattern": {
              "fillmode": "overlay",
              "size": 10,
              "solidity": 0.2
             }
            },
            "type": "histogram"
           }
          ],
          "histogram2d": [
           {
            "colorbar": {
             "outlinewidth": 0,
             "ticks": ""
            },
            "colorscale": [
             [
              0,
              "#0d0887"
             ],
             [
              0.1111111111111111,
              "#46039f"
             ],
             [
              0.2222222222222222,
              "#7201a8"
             ],
             [
              0.3333333333333333,
              "#9c179e"
             ],
             [
              0.4444444444444444,
              "#bd3786"
             ],
             [
              0.5555555555555556,
              "#d8576b"
             ],
             [
              0.6666666666666666,
              "#ed7953"
             ],
             [
              0.7777777777777778,
              "#fb9f3a"
             ],
             [
              0.8888888888888888,
              "#fdca26"
             ],
             [
              1,
              "#f0f921"
             ]
            ],
            "type": "histogram2d"
           }
          ],
          "histogram2dcontour": [
           {
            "colorbar": {
             "outlinewidth": 0,
             "ticks": ""
            },
            "colorscale": [
             [
              0,
              "#0d0887"
             ],
             [
              0.1111111111111111,
              "#46039f"
             ],
             [
              0.2222222222222222,
              "#7201a8"
             ],
             [
              0.3333333333333333,
              "#9c179e"
             ],
             [
              0.4444444444444444,
              "#bd3786"
             ],
             [
              0.5555555555555556,
              "#d8576b"
             ],
             [
              0.6666666666666666,
              "#ed7953"
             ],
             [
              0.7777777777777778,
              "#fb9f3a"
             ],
             [
              0.8888888888888888,
              "#fdca26"
             ],
             [
              1,
              "#f0f921"
             ]
            ],
            "type": "histogram2dcontour"
           }
          ],
          "mesh3d": [
           {
            "colorbar": {
             "outlinewidth": 0,
             "ticks": ""
            },
            "type": "mesh3d"
           }
          ],
          "parcoords": [
           {
            "line": {
             "colorbar": {
              "outlinewidth": 0,
              "ticks": ""
             }
            },
            "type": "parcoords"
           }
          ],
          "pie": [
           {
            "automargin": true,
            "type": "pie"
           }
          ],
          "scatter": [
           {
            "fillpattern": {
             "fillmode": "overlay",
             "size": 10,
             "solidity": 0.2
            },
            "type": "scatter"
           }
          ],
          "scatter3d": [
           {
            "line": {
             "colorbar": {
              "outlinewidth": 0,
              "ticks": ""
             }
            },
            "marker": {
             "colorbar": {
              "outlinewidth": 0,
              "ticks": ""
             }
            },
            "type": "scatter3d"
           }
          ],
          "scattercarpet": [
           {
            "marker": {
             "colorbar": {
              "outlinewidth": 0,
              "ticks": ""
             }
            },
            "type": "scattercarpet"
           }
          ],
          "scattergeo": [
           {
            "marker": {
             "colorbar": {
              "outlinewidth": 0,
              "ticks": ""
             }
            },
            "type": "scattergeo"
           }
          ],
          "scattergl": [
           {
            "marker": {
             "colorbar": {
              "outlinewidth": 0,
              "ticks": ""
             }
            },
            "type": "scattergl"
           }
          ],
          "scattermapbox": [
           {
            "marker": {
             "colorbar": {
              "outlinewidth": 0,
              "ticks": ""
             }
            },
            "type": "scattermapbox"
           }
          ],
          "scatterpolar": [
           {
            "marker": {
             "colorbar": {
              "outlinewidth": 0,
              "ticks": ""
             }
            },
            "type": "scatterpolar"
           }
          ],
          "scatterpolargl": [
           {
            "marker": {
             "colorbar": {
              "outlinewidth": 0,
              "ticks": ""
             }
            },
            "type": "scatterpolargl"
           }
          ],
          "scatterternary": [
           {
            "marker": {
             "colorbar": {
              "outlinewidth": 0,
              "ticks": ""
             }
            },
            "type": "scatterternary"
           }
          ],
          "surface": [
           {
            "colorbar": {
             "outlinewidth": 0,
             "ticks": ""
            },
            "colorscale": [
             [
              0,
              "#0d0887"
             ],
             [
              0.1111111111111111,
              "#46039f"
             ],
             [
              0.2222222222222222,
              "#7201a8"
             ],
             [
              0.3333333333333333,
              "#9c179e"
             ],
             [
              0.4444444444444444,
              "#bd3786"
             ],
             [
              0.5555555555555556,
              "#d8576b"
             ],
             [
              0.6666666666666666,
              "#ed7953"
             ],
             [
              0.7777777777777778,
              "#fb9f3a"
             ],
             [
              0.8888888888888888,
              "#fdca26"
             ],
             [
              1,
              "#f0f921"
             ]
            ],
            "type": "surface"
           }
          ],
          "table": [
           {
            "cells": {
             "fill": {
              "color": "#EBF0F8"
             },
             "line": {
              "color": "white"
             }
            },
            "header": {
             "fill": {
              "color": "#C8D4E3"
             },
             "line": {
              "color": "white"
             }
            },
            "type": "table"
           }
          ]
         },
         "layout": {
          "annotationdefaults": {
           "arrowcolor": "#2a3f5f",
           "arrowhead": 0,
           "arrowwidth": 1
          },
          "autotypenumbers": "strict",
          "coloraxis": {
           "colorbar": {
            "outlinewidth": 0,
            "ticks": ""
           }
          },
          "colorscale": {
           "diverging": [
            [
             0,
             "#8e0152"
            ],
            [
             0.1,
             "#c51b7d"
            ],
            [
             0.2,
             "#de77ae"
            ],
            [
             0.3,
             "#f1b6da"
            ],
            [
             0.4,
             "#fde0ef"
            ],
            [
             0.5,
             "#f7f7f7"
            ],
            [
             0.6,
             "#e6f5d0"
            ],
            [
             0.7,
             "#b8e186"
            ],
            [
             0.8,
             "#7fbc41"
            ],
            [
             0.9,
             "#4d9221"
            ],
            [
             1,
             "#276419"
            ]
           ],
           "sequential": [
            [
             0,
             "#0d0887"
            ],
            [
             0.1111111111111111,
             "#46039f"
            ],
            [
             0.2222222222222222,
             "#7201a8"
            ],
            [
             0.3333333333333333,
             "#9c179e"
            ],
            [
             0.4444444444444444,
             "#bd3786"
            ],
            [
             0.5555555555555556,
             "#d8576b"
            ],
            [
             0.6666666666666666,
             "#ed7953"
            ],
            [
             0.7777777777777778,
             "#fb9f3a"
            ],
            [
             0.8888888888888888,
             "#fdca26"
            ],
            [
             1,
             "#f0f921"
            ]
           ],
           "sequentialminus": [
            [
             0,
             "#0d0887"
            ],
            [
             0.1111111111111111,
             "#46039f"
            ],
            [
             0.2222222222222222,
             "#7201a8"
            ],
            [
             0.3333333333333333,
             "#9c179e"
            ],
            [
             0.4444444444444444,
             "#bd3786"
            ],
            [
             0.5555555555555556,
             "#d8576b"
            ],
            [
             0.6666666666666666,
             "#ed7953"
            ],
            [
             0.7777777777777778,
             "#fb9f3a"
            ],
            [
             0.8888888888888888,
             "#fdca26"
            ],
            [
             1,
             "#f0f921"
            ]
           ]
          },
          "colorway": [
           "#636efa",
           "#EF553B",
           "#00cc96",
           "#ab63fa",
           "#FFA15A",
           "#19d3f3",
           "#FF6692",
           "#B6E880",
           "#FF97FF",
           "#FECB52"
          ],
          "font": {
           "color": "#2a3f5f"
          },
          "geo": {
           "bgcolor": "white",
           "lakecolor": "white",
           "landcolor": "#E5ECF6",
           "showlakes": true,
           "showland": true,
           "subunitcolor": "white"
          },
          "hoverlabel": {
           "align": "left"
          },
          "hovermode": "closest",
          "mapbox": {
           "style": "light"
          },
          "paper_bgcolor": "white",
          "plot_bgcolor": "#E5ECF6",
          "polar": {
           "angularaxis": {
            "gridcolor": "white",
            "linecolor": "white",
            "ticks": ""
           },
           "bgcolor": "#E5ECF6",
           "radialaxis": {
            "gridcolor": "white",
            "linecolor": "white",
            "ticks": ""
           }
          },
          "scene": {
           "xaxis": {
            "backgroundcolor": "#E5ECF6",
            "gridcolor": "white",
            "gridwidth": 2,
            "linecolor": "white",
            "showbackground": true,
            "ticks": "",
            "zerolinecolor": "white"
           },
           "yaxis": {
            "backgroundcolor": "#E5ECF6",
            "gridcolor": "white",
            "gridwidth": 2,
            "linecolor": "white",
            "showbackground": true,
            "ticks": "",
            "zerolinecolor": "white"
           },
           "zaxis": {
            "backgroundcolor": "#E5ECF6",
            "gridcolor": "white",
            "gridwidth": 2,
            "linecolor": "white",
            "showbackground": true,
            "ticks": "",
            "zerolinecolor": "white"
           }
          },
          "shapedefaults": {
           "line": {
            "color": "#2a3f5f"
           }
          },
          "ternary": {
           "aaxis": {
            "gridcolor": "white",
            "linecolor": "white",
            "ticks": ""
           },
           "baxis": {
            "gridcolor": "white",
            "linecolor": "white",
            "ticks": ""
           },
           "bgcolor": "#E5ECF6",
           "caxis": {
            "gridcolor": "white",
            "linecolor": "white",
            "ticks": ""
           }
          },
          "title": {
           "x": 0.05
          },
          "xaxis": {
           "automargin": true,
           "gridcolor": "white",
           "linecolor": "white",
           "ticks": "",
           "title": {
            "standoff": 15
           },
           "zerolinecolor": "white",
           "zerolinewidth": 2
          },
          "yaxis": {
           "automargin": true,
           "gridcolor": "white",
           "linecolor": "white",
           "ticks": "",
           "title": {
            "standoff": 15
           },
           "zerolinecolor": "white",
           "zerolinewidth": 2
          }
         }
        },
        "width": 800,
        "xaxis": {
         "anchor": "y",
         "autorange": true,
         "domain": [
          0,
          1
         ],
         "range": [
          30.16051011433597,
          474.839489885664
         ],
         "title": {
          "text": "Calories"
         },
         "type": "linear"
        },
        "yaxis": {
         "anchor": "x",
         "autorange": true,
         "domain": [
          0,
          1
         ],
         "range": [
          1.3162404092071611,
          18.98375959079284
         ],
         "title": {
          "text": "ABV"
         },
         "type": "linear"
        }
       }
      },
      "image/png": "[encoded data removed]",
      "text/html": [
       "<div>                            <div id=\"802d9491-b6d1-4483-9135-5e271a06b4ea\" class=\"plotly-graph-div\" style=\"height:800px; width:800px;\"></div>            <script type=\"text/javascript\">                require([\"plotly\"], function(Plotly) {                    window.PLOTLYENV=window.PLOTLYENV || {};                                    if (document.getElementById(\"802d9491-b6d1-4483-9135-5e271a06b4ea\")) {                    Plotly.newPlot(                        \"802d9491-b6d1-4483-9135-5e271a06b4ea\",                        [{\"customdata\":[[\"Abita Amber\"],[\"Abita Golden\"],[\"Abita Jockamo IPA\"],[\"Abita Light\"],[\"Abita Purple Haze\"],[\"Abita Restoration\"],[\"Abita Turbodog\"],[\"Amstel Light\"],[\"Anchor Porter\"],[\"Anchor Steam\"],[\"Augustiner Amber Lager\"],[\"Bass Ale\"],[\"Beach Bum Blonde Ale\"],[\"Beck's\"],[\"Beck's Light\"],[\"Blatz Beer\"],[\"Blue Moon Belgian White\"],[\"Blue Moon Full Moon Winter Ale\"],[\"Blue Moon Harvest Moon Pumpkin Ale\"],[\"Blue Moon Honey Moon Summer Ale\"],[\"Blue Moon Rising Moon Spring Ale\"],[\"Blue Point Toasted Lager\"],[\"Boddington's Ale\"],[\"Brooklyn Black Chocolate Stout\"],[\"Brooklyn Brown Ale\"],[\"Brooklyn East India Pale Ale\"],[\"Brooklyn Lager\"],[\"Brooklyn Monster\"],[\"Brooklyn Pennant Pale Ale\"],[\"Brooklyn Pilsner\"],[\"Brooklyn Summer Ale\"],[\"Brooklyn Winter Ale\"],[\"Bud American Ale\"],[\"Bud Ice\"],[\"Bud Light\"],[\"Bud Light Chelada Clamato\"],[\"Bud Light Lime\"],[\"Bud Light Platinum\"],[\"Budweiser\"],[\"Budweiser Chelada\"],[\"Budweiser Select\"],[\"Budweiser Select 55\"],[\"Busch\"],[\"Busch Ice\"],[\"Busch Light\"],[\"Carling Black Label\"],[\"Coors Banquet\"],[\"Coors Extra Gold\"],[\"Coors Light\"],[\"Corona Extra\"],[\"Corona Familiar\"],[\"Corona Light\"],[\"Corona Premier\"],[\"Cristal (Peru)\"],[\"Cusquena\"],[\"Deschutes Black Butte Porter\"],[\"Deschutes Fresh Squeezed IPA\"],[\"Deschutes Inversion IPA\"],[\"Deschutes Mirror Pond Ale\"],[\"Dogfish Head 120 Minute IPA\"],[\"Dogfish Head 60 Minute IPA\"],[\"Dogfish Head 90 Minute IPA\"],[\"Dogfish Head Midas Touch\"],[\"Dogfish Head Red & White\"],[\"Dogfish Head Shelter Pale Ale\"],[\"Efes Pils\"],[\"Firestone DBA\"],[\"Flying Dog Doggie Style Pale Ale\"],[\"Flying Dog Double Dog\"],[\"Flying Dog Gonzo\"],[\"Flying Dog Horn Dog\"],[\"Flying Dog In Heat Wheat\"],[\"Flying Dog Kerberos Tripel\"],[\"Flying Dog Old Scratch Amber Lager\"],[\"Flying Dog Raging Bitch\"],[\"Flying Dog Road Dog\"],[\"Flying Dog Snake Dog IPA\"],[\"Flying Dog Tire Bite Golden Ale\"],[\"Foster's\"],[\"Foster's Premium Ale\"],[\"Genesee Beer\"],[\"Genesee Cream Ale\"],[\"Genesee Ice\"],[\"Genesee Red\"],[\"George Killian's Irish Red\"],[\"Grolsch Amber Ale\"],[\"Grolsch Blonde Lager\"],[\"Grolsch Light Lager\"],[\"Grolsch Premium Lager\"],[\"Guinness Draught\"],[\"Guinness Extra Stout\"],[\"Hamm's Beer\"],[\"Hamm's Special Light\"],[\"Harbin\"],[\"Harp Lager\"],[\"Heineken\"],[\"Heineken Light\"],[\"Hiland Light\"],[\"Hoegaarden Belgian White\"],[\"Irish Red Ale\"],[\"Iron City\"],[\"Iron City Light\"],[\"Keystone Ice\"],[\"Keystone Light\"],[\"Keystone Premium\"],[\"Kirin\"],[\"Kirin Light\"],[\"Lagunitas Brown Shugga'\"],[\"Lagunitas Hop Stoopid\"],[\"Lagunitas IPA\"],[\"Lagunitas Little Sumpin' Sumpin' Ale\"],[\"Lech\"],[\"Leinenkugel Amber Light\"],[\"Leinenkugel Creamy Dark\"],[\"Leinenkugel Honey Weiss\"],[\"Leinenkugel Light\"],[\"Leinenkugel Northwoods Lager\"],[\"Leinenkugel Original\"],[\"Leinenkugel Red\"],[\"Leinenkugel Sunset Wheat\"],[\"Lowenbrau Dark\"],[\"Lowenbrau Special Beer\"],[\"Magic Hat #9\"],[\"Michael Shea's\"],[\"Michelob AmberBock\"],[\"Michelob Beer\"],[\"Michelob Dunkelweisse\"],[\"Michelob Golden Draft\"],[\"Michelob Golden Draft Light\"],[\"Michelob Honey Lager\"],[\"Michelob Light\"],[\"Michelob Pale Ale\"],[\"Michelob Porter\"],[\"Michelob Ultra\"],[\"Michelob Ultra Amber\"],[\"Michelob Ultra Lime Cactus\"],[\"Michelob Ultra Pure Gold\"],[\"Mickey's Ice\"],[\"Miller Fortune\"],[\"Miller Genuine Draft (MGD)\"],[\"Miller High Life\"],[\"Miller High Life Light\"],[\"Miller Lite\"],[\"Miller64\"],[\"Milwaukee's Best (Premium)\"],[\"Milwaukee's Best Ice (Beast Ice)\"],[\"Milwaukee's Best Light\"],[\"Modelo Especial\"],[\"Molson Canadian\"],[\"Molson Canadian 67\"],[\"Molson Canadian Light\"],[\"Molson Ice\"],[\"Natty Daddy\"],[\"Natural Ice\"],[\"Natural Light\"],[\"Negra Modelo\"],[\"New Belgium 1554\"],[\"New Belgium 2 Below\"],[\"New Belgium Abbey\"],[\"New Belgium Blue Paddle\"],[\"New Belgium Fat Tire\"],[\"New Belgium Mothership Wit\"],[\"New Belgium Skinny Dip\"],[\"New Belgium Sunshine Wheat\"],[\"New Belgium Trippel\"],[\"New Planet Tread Lightly Ale\"],[\"Newcastle Brown Ale\"],[\"Old Milwaukee Beer\"],[\"Old Milwaukee Light\"],[\"Olympia Premium Lager\"],[\"Ommegang Three Philosophers\"],[\"Omission IPA\"],[\"Omission Lager\"],[\"Omission Pale Ale\"],[\"Omission Ultimate Light\"],[\"Pabst Blue Ribbon\"],[\"Pabst Extra Light Low Alcohol\"],[\"Pacifico\"],[\"Peroni Nastro Azzurro\"],[\"Pete's Wicked Ale\"],[\"Pilsner Urquell\"],[\"Puppers Premium Lager\"],[\"Presidente\"],[\"Red Bridge\"],[\"Red Dog\"],[\"Red Stripe\"],[\"Redd's Apple Ale\"],[\"Redhook ESB\"],[\"Redhook IPA\"],[\"Redhook Slim Chance\"],[\"Rock Bottom Illuminator Doppelback\"],[\"Rogue Dead Guy Ale\"],[\"Rolling Rock Extra Pale\"],[\"Rolling Rock Green Light\"],[\"Rolling Rock Premium Beer\"],[\"Russian River Pliny the Elder\"],[\"Sam Adams Black Lager\"],[\"Sam Adams Blackberry Witbier\"],[\"Sam Adams Boston Ale\"],[\"Sam Adams Boston Lager\"],[\"Sam Adams Brown Ale\"],[\"Sam Adams Cherry Wheat\"],[\"Sam Adams Coastal Wheat\"],[\"Sam Adams Cream Stout\"],[\"Sam Adams Hefeweizen\"],[\"Sam Adams Honey Porter\"],[\"Sam Adams Imperial Double Bock\"],[\"Sam Adams Imperial Stout\"],[\"Sam Adams Imperial White\"],[\"Sam Adams IPA\"],[\"Sam Adams Irish Red\"],[\"Sam Adams Light\"],[\"Sam Adams Octoberfest\"],[\"Sam Adams Pale Ale\"],[\"Sam Adams Scotch Ale\"],[\"Sam Adams Summer Ale\"],[\"Sam Adams White Ale\"],[\"Sam Adams Winter Lager\"],[\"Schaefer Beer\"],[\"Schlitz Beer\"],[\"Schlitz Light\"],[\"Sculpin IPA\"],[\"Shipyard Light\"],[\"Shock Top\"],[\"Sierra Nevada Anniversary Ale\"],[\"Sierra Nevada Bigfoot\"],[\"Sierra Nevada Celebration Ale\"],[\"Sierra Nevada Draft Ale\"],[\"Sierra Nevada Early Spring Beer\"],[\"Sierra Nevada Harvest Ale\"],[\"Sierra Nevada India Pale Ale\"],[\"Sierra Nevada Pale Ale\"],[\"Sierra Nevada Pale Bock\"],[\"Sierra Nevada Porter\"],[\"Sierra Nevada Stout\"],[\"Sierra Nevada Summerfest\"],[\"Sierra Nevada Wheat Beer\"],[\"Signature Stroh Beer\"],[\"Smithwick's\"],[\"Smuttynose Fineskind IPA\"],[\"Sol Cerveza\"],[\"Southpaw Light\"],[\"St. Pauli Girl\"],[\"St. Pauli Girl Special Dark\"],[\"Stella Artois\"],[\"Stone Pale Ale\"],[\"Strauss Endless Summer Light\"],[\"Stroh's Beer\"],[\"Stroh's Light\"],[\"Tsingtao\"],[\"Tuborg Deluxe Dark Export\"],[\"Tuborg Export Quality\"],[\"Tyskie\"],[\"Victoria\"],[\"Weinhard's Amber Light\"],[\"Weinhard's Blonde Lager\"],[\"Weinhard's Hefeweizen\"],[\"Weinhard's Pale Ale\"],[\"Weinhard's Private Reserve\"],[\"Widmer Hefeweizen\"],[\"Winter's Bourbon Cask Ale\"],[\"Wyder's Apple Cider\"],[\"Wyder's Pear Cider\"],[\"Yuengling Lager\"],[\"Yuengling Light Lager\"],[\"Yuengling Lord Chesterfield Ale\"],[\"Yuengling Oktoberfest\"],[\"Yuengling Porter\"],[\"Yuengling Porter\"],[\"Yuengling Premium Beer\"]],\"hovertemplate\":\"Calories=%{x}<br>ABV=%{y}<br>Brand=%{customdata[0]}<extra></extra>\",\"legendgroup\":\"\",\"marker\":{\"color\":\"#636efa\",\"symbol\":\"circle\"},\"mode\":\"markers\",\"name\":\"\",\"orientation\":\"v\",\"showlegend\":false,\"x\":[128,125,190,118,128,167,168,99,209,153,135,156,163,143,64,153,164,180,180,157,161,175,148,320,190,200,170,305,160,155,150,205,182,123,110,151,116,137,145,186,99,55,114,136,95,138,147,152,102,149,154,99,90,132,141,192,225,228,170,450,209,294,307,310,168,170,166,150,313,271,314,138,238,154,221,163,188,129,146,161,148,162,156,148,168,160,120,97,142,125,153,142,110,144,155,150,99,97,153,196,140,95,142,104,111,147,95,335,285,194,230,143,110,170,149,105,163,152,166,165,160,160,153,145,155,164,167,152,110,174,123,187,187,95,95,95,85,157,186,140,141,107,96,64,142,173,96,145,136,67,113,160,183,130,95,170,205,200,200,140,160,155,110,145,215,125,150,145,110,146,290,195,140,175,99,144,67,145,149,174,156,120,147,160,147,153,165,179,188,125,288,216,142,83,132,236,191,176,188,175,159,180,167,190,182,192,320,316,328,175,180,119,180,160,200,160,175,200,142,146,110,228,97,168,190,330,214,157,190,215,231,175,218,194,225,158,153,153,150,200,128,123,148,150,154,188,110,149,113,157,163,156,149,135,135,161,151,147,150,159,165,150,136,140,99,158,168,160,160,141],\"xaxis\":\"x\",\"y\":[4.5,4.2,6.5,4.0,4.2,5.0,5.6,4.1,5.6,4.9,4.3,5.0,5.4,5.0,2.3,4.8,5.36,5.52,5.76,5.12,5.4,5.3,4.7,10.0,5.6,6.9,5.2,10.1,5.0,5.1,5.0,6.1,5.3,5.5,4.2,4.2,4.2,6.0,5.0,5.0,4.3,2.4,4.3,5.9,4.1,4.3,5.0,4.97,4.2,4.6,4.8,4.1,4.0,4.6,4.8,5.2,6.4,6.8,5.0,18.0,6.0,9.0,9.0,10.0,5.0,5.0,5.0,5.5,11.5,9.2,10.2,4.7,8.5,5.5,8.3,6.0,7.1,5.1,5.0,5.5,4.5,5.1,5.9,4.9,5.4,5.4,2.8,3.6,5.0,4.27,5.0,4.7,3.8,4.6,5.2,5.0,4.2,4.0,4.9,5.7,4.5,4.15,5.9,4.13,4.43,5.0,3.2,9.7,8.0,6.2,7.5,4.9,4.14,4.94,4.92,4.19,4.94,4.67,4.94,4.9,5.0,5.2,5.1,4.62,5.2,5.0,5.5,4.7,4.1,4.9,4.3,5.6,5.9,4.2,4.0,4.0,4.3,5.8,6.9,4.6,4.6,4.1,4.2,2.8,4.8,5.9,4.1,4.4,5.0,3.0,3.9,5.6,8.0,5.9,4.2,5.4,5.6,6.6,7.0,4.8,5.2,4.8,4.2,4.8,7.8,5.0,4.7,4.6,3.82,4.7,9.7,6.7,4.6,5.8,4.2,4.74,2.5,4.4,5.1,5.3,4.4,4.0,5.0,4.8,5.0,4.9,5.0,5.77,6.5,3.9,6.67,6.8,4.6,3.7,4.5,8.0,4.9,5.5,5.4,5.0,5.35,5.4,5.3,4.9,5.4,5.45,9.5,9.2,10.3,5.93,5.5,4.3,5.4,5.4,5.4,5.3,5.4,5.8,4.6,4.7,4.2,7.0,3.9,5.2,5.9,9.6,6.8,5.0,5.9,6.7,6.9,5.6,7.0,5.6,5.8,5.0,4.4,4.8,4.5,6.9,4.2,5.0,4.9,4.8,5.2,5.64,3.3,4.6,4.4,4.8,5.1,5.0,5.3,4.04,4.2,5.1,4.9,4.6,4.8,4.9,6.0,5.0,5.0,4.5,3.8,5.4,5.4,4.7,4.7,4.5],\"yaxis\":\"y\",\"type\":\"scatter\"}],                        {\"template\":{\"data\":{\"histogram2dcontour\":[{\"type\":\"histogram2dcontour\",\"colorbar\":{\"outlinewidth\":0,\"ticks\":\"\"},\"colorscale\":[[0.0,\"#0d0887\"],[0.1111111111111111,\"#46039f\"],[0.2222222222222222,\"#7201a8\"],[0.3333333333333333,\"#9c179e\"],[0.4444444444444444,\"#bd3786\"],[0.5555555555555556,\"#d8576b\"],[0.6666666666666666,\"#ed7953\"],[0.7777777777777778,\"#fb9f3a\"],[0.8888888888888888,\"#fdca26\"],[1.0,\"#f0f921\"]]}],\"choropleth\":[{\"type\":\"choropleth\",\"colorbar\":{\"outlinewidth\":0,\"ticks\":\"\"}}],\"histogram2d\":[{\"type\":\"histogram2d\",\"colorbar\":{\"outlinewidth\":0,\"ticks\":\"\"},\"colorscale\":[[0.0,\"#0d0887\"],[0.1111111111111111,\"#46039f\"],[0.2222222222222222,\"#7201a8\"],[0.3333333333333333,\"#9c179e\"],[0.4444444444444444,\"#bd3786\"],[0.5555555555555556,\"#d8576b\"],[0.6666666666666666,\"#ed7953\"],[0.7777777777777778,\"#fb9f3a\"],[0.8888888888888888,\"#fdca26\"],[1.0,\"#f0f921\"]]}],\"heatmap\":[{\"type\":\"heatmap\",\"colorbar\":{\"outlinewidth\":0,\"ticks\":\"\"},\"colorscale\":[[0.0,\"#0d0887\"],[0.1111111111111111,\"#46039f\"],[0.2222222222222222,\"#7201a8\"],[0.3333333333333333,\"#9c179e\"],[0.4444444444444444,\"#bd3786\"],[0.5555555555555556,\"#d8576b\"],[0.6666666666666666,\"#ed7953\"],[0.7777777777777778,\"#fb9f3a\"],[0.8888888888888888,\"#fdca26\"],[1.0,\"#f0f921\"]]}],\"heatmapgl\":[{\"type\":\"heatmapgl\",\"colorbar\":{\"outlinewidth\":0,\"ticks\":\"\"},\"colorscale\":[[0.0,\"#0d0887\"],[0.1111111111111111,\"#46039f\"],[0.2222222222222222,\"#7201a8\"],[0.3333333333333333,\"#9c179e\"],[0.4444444444444444,\"#bd3786\"],[0.5555555555555556,\"#d8576b\"],[0.6666666666666666,\"#ed7953\"],[0.7777777777777778,\"#fb9f3a\"],[0.8888888888888888,\"#fdca26\"],[1.0,\"#f0f921\"]]}],\"contourcarpet\":[{\"type\":\"contourcarpet\",\"colorbar\":{\"outlinewidth\":0,\"ticks\":\"\"}}],\"contour\":[{\"type\":\"contour\",\"colorbar\":{\"outlinewidth\":0,\"ticks\":\"\"},\"colorscale\":[[0.0,\"#0d0887\"],[0.1111111111111111,\"#46039f\"],[0.2222222222222222,\"#7201a8\"],[0.3333333333333333,\"#9c179e\"],[0.4444444444444444,\"#bd3786\"],[0.5555555555555556,\"#d8576b\"],[0.6666666666666666,\"#ed7953\"],[0.7777777777777778,\"#fb9f3a\"],[0.8888888888888888,\"#fdca26\"],[1.0,\"#f0f921\"]]}],\"surface\":[{\"type\":\"surface\",\"colorbar\":{\"outlinewidth\":0,\"ticks\":\"\"},\"colorscale\":[[0.0,\"#0d0887\"],[0.1111111111111111,\"#46039f\"],[0.2222222222222222,\"#7201a8\"],[0.3333333333333333,\"#9c179e\"],[0.4444444444444444,\"#bd3786\"],[0.5555555555555556,\"#d8576b\"],[0.6666666666666666,\"#ed7953\"],[0.7777777777777778,\"#fb9f3a\"],[0.8888888888888888,\"#fdca26\"],[1.0,\"#f0f921\"]]}],\"mesh3d\":[{\"type\":\"mesh3d\",\"colorbar\":{\"outlinewidth\":0,\"ticks\":\"\"}}],\"scatter\":[{\"fillpattern\":{\"fillmode\":\"overlay\",\"size\":10,\"solidity\":0.2},\"type\":\"scatter\"}],\"parcoords\":[{\"type\":\"parcoords\",\"line\":{\"colorbar\":{\"outlinewidth\":0,\"ticks\":\"\"}}}],\"scatterpolargl\":[{\"type\":\"scatterpolargl\",\"marker\":{\"colorbar\":{\"outlinewidth\":0,\"ticks\":\"\"}}}],\"bar\":[{\"error_x\":{\"color\":\"#2a3f5f\"},\"error_y\":{\"color\":\"#2a3f5f\"},\"marker\":{\"line\":{\"color\":\"#E5ECF6\",\"width\":0.5},\"pattern\":{\"fillmode\":\"overlay\",\"size\":10,\"solidity\":0.2}},\"type\":\"bar\"}],\"scattergeo\":[{\"type\":\"scattergeo\",\"marker\":{\"colorbar\":{\"outlinewidth\":0,\"ticks\":\"\"}}}],\"scatterpolar\":[{\"type\":\"scatterpolar\",\"marker\":{\"colorbar\":{\"outlinewidth\":0,\"ticks\":\"\"}}}],\"histogram\":[{\"marker\":{\"pattern\":{\"fillmode\":\"overlay\",\"size\":10,\"solidity\":0.2}},\"type\":\"histogram\"}],\"scattergl\":[{\"type\":\"scattergl\",\"marker\":{\"colorbar\":{\"outlinewidth\":0,\"ticks\":\"\"}}}],\"scatter3d\":[{\"type\":\"scatter3d\",\"line\":{\"colorbar\":{\"outlinewidth\":0,\"ticks\":\"\"}},\"marker\":{\"colorbar\":{\"outlinewidth\":0,\"ticks\":\"\"}}}],\"scattermapbox\":[{\"type\":\"scattermapbox\",\"marker\":{\"colorbar\":{\"outlinewidth\":0,\"ticks\":\"\"}}}],\"scatterternary\":[{\"type\":\"scatterternary\",\"marker\":{\"colorbar\":{\"outlinewidth\":0,\"ticks\":\"\"}}}],\"scattercarpet\":[{\"type\":\"scattercarpet\",\"marker\":{\"colorbar\":{\"outlinewidth\":0,\"ticks\":\"\"}}}],\"carpet\":[{\"aaxis\":{\"endlinecolor\":\"#2a3f5f\",\"gridcolor\":\"white\",\"linecolor\":\"white\",\"minorgridcolor\":\"white\",\"startlinecolor\":\"#2a3f5f\"},\"baxis\":{\"endlinecolor\":\"#2a3f5f\",\"gridcolor\":\"white\",\"linecolor\":\"white\",\"minorgridcolor\":\"white\",\"startlinecolor\":\"#2a3f5f\"},\"type\":\"carpet\"}],\"table\":[{\"cells\":{\"fill\":{\"color\":\"#EBF0F8\"},\"line\":{\"color\":\"white\"}},\"header\":{\"fill\":{\"color\":\"#C8D4E3\"},\"line\":{\"color\":\"white\"}},\"type\":\"table\"}],\"barpolar\":[{\"marker\":{\"line\":{\"color\":\"#E5ECF6\",\"width\":0.5},\"pattern\":{\"fillmode\":\"overlay\",\"size\":10,\"solidity\":0.2}},\"type\":\"barpolar\"}],\"pie\":[{\"automargin\":true,\"type\":\"pie\"}]},\"layout\":{\"autotypenumbers\":\"strict\",\"colorway\":[\"#636efa\",\"#EF553B\",\"#00cc96\",\"#ab63fa\",\"#FFA15A\",\"#19d3f3\",\"#FF6692\",\"#B6E880\",\"#FF97FF\",\"#FECB52\"],\"font\":{\"color\":\"#2a3f5f\"},\"hovermode\":\"closest\",\"hoverlabel\":{\"align\":\"left\"},\"paper_bgcolor\":\"white\",\"plot_bgcolor\":\"#E5ECF6\",\"polar\":{\"bgcolor\":\"#E5ECF6\",\"angularaxis\":{\"gridcolor\":\"white\",\"linecolor\":\"white\",\"ticks\":\"\"},\"radialaxis\":{\"gridcolor\":\"white\",\"linecolor\":\"white\",\"ticks\":\"\"}},\"ternary\":{\"bgcolor\":\"#E5ECF6\",\"aaxis\":{\"gridcolor\":\"white\",\"linecolor\":\"white\",\"ticks\":\"\"},\"baxis\":{\"gridcolor\":\"white\",\"linecolor\":\"white\",\"ticks\":\"\"},\"caxis\":{\"gridcolor\":\"white\",\"linecolor\":\"white\",\"ticks\":\"\"}},\"coloraxis\":{\"colorbar\":{\"outlinewidth\":0,\"ticks\":\"\"}},\"colorscale\":{\"sequential\":[[0.0,\"#0d0887\"],[0.1111111111111111,\"#46039f\"],[0.2222222222222222,\"#7201a8\"],[0.3333333333333333,\"#9c179e\"],[0.4444444444444444,\"#bd3786\"],[0.5555555555555556,\"#d8576b\"],[0.6666666666666666,\"#ed7953\"],[0.7777777777777778,\"#fb9f3a\"],[0.8888888888888888,\"#fdca26\"],[1.0,\"#f0f921\"]],\"sequentialminus\":[[0.0,\"#0d0887\"],[0.1111111111111111,\"#46039f\"],[0.2222222222222222,\"#7201a8\"],[0.3333333333333333,\"#9c179e\"],[0.4444444444444444,\"#bd3786\"],[0.5555555555555556,\"#d8576b\"],[0.6666666666666666,\"#ed7953\"],[0.7777777777777778,\"#fb9f3a\"],[0.8888888888888888,\"#fdca26\"],[1.0,\"#f0f921\"]],\"diverging\":[[0,\"#8e0152\"],[0.1,\"#c51b7d\"],[0.2,\"#de77ae\"],[0.3,\"#f1b6da\"],[0.4,\"#fde0ef\"],[0.5,\"#f7f7f7\"],[0.6,\"#e6f5d0\"],[0.7,\"#b8e186\"],[0.8,\"#7fbc41\"],[0.9,\"#4d9221\"],[1,\"#276419\"]]},\"xaxis\":{\"gridcolor\":\"white\",\"linecolor\":\"white\",\"ticks\":\"\",\"title\":{\"standoff\":15},\"zerolinecolor\":\"white\",\"automargin\":true,\"zerolinewidth\":2},\"yaxis\":{\"gridcolor\":\"white\",\"linecolor\":\"white\",\"ticks\":\"\",\"title\":{\"standoff\":15},\"zerolinecolor\":\"white\",\"automargin\":true,\"zerolinewidth\":2},\"scene\":{\"xaxis\":{\"backgroundcolor\":\"#E5ECF6\",\"gridcolor\":\"white\",\"linecolor\":\"white\",\"showbackground\":true,\"ticks\":\"\",\"zerolinecolor\":\"white\",\"gridwidth\":2},\"yaxis\":{\"backgroundcolor\":\"#E5ECF6\",\"gridcolor\":\"white\",\"linecolor\":\"white\",\"showbackground\":true,\"ticks\":\"\",\"zerolinecolor\":\"white\",\"gridwidth\":2},\"zaxis\":{\"backgroundcolor\":\"#E5ECF6\",\"gridcolor\":\"white\",\"linecolor\":\"white\",\"showbackground\":true,\"ticks\":\"\",\"zerolinecolor\":\"white\",\"gridwidth\":2}},\"shapedefaults\":{\"line\":{\"color\":\"#2a3f5f\"}},\"annotationdefaults\":{\"arrowcolor\":\"#2a3f5f\",\"arrowhead\":0,\"arrowwidth\":1},\"geo\":{\"bgcolor\":\"white\",\"landcolor\":\"#E5ECF6\",\"subunitcolor\":\"white\",\"showland\":true,\"showlakes\":true,\"lakecolor\":\"white\"},\"title\":{\"x\":0.05},\"mapbox\":{\"style\":\"light\"}}},\"xaxis\":{\"anchor\":\"y\",\"domain\":[0.0,1.0],\"title\":{\"text\":\"Calories\"}},\"yaxis\":{\"anchor\":\"x\",\"domain\":[0.0,1.0],\"title\":{\"text\":\"ABV\"}},\"legend\":{\"tracegroupgap\":0},\"margin\":{\"t\":60},\"height\":800,\"width\":800},                        {\"responsive\": true}                    ).then(function(){\n",
       "                            \n",
       "var gd = document.getElementById('802d9491-b6d1-4483-9135-5e271a06b4ea');\n",
       "var x = new MutationObserver(function (mutations, observer) {{\n",
       "        var display = window.getComputedStyle(gd).display;\n",
       "        if (!display || display === 'none') {{\n",
       "            console.log([gd, 'removed!']);\n",
       "            Plotly.purge(gd);\n",
       "            observer.disconnect();\n",
       "        }}\n",
       "}});\n",
       "\n",
       "// Listen for the removal of the full notebook cells\n",
       "var notebookContainer = gd.closest('#notebook-container');\n",
       "if (notebookContainer) {{\n",
       "    x.observe(notebookContainer, {childList: true});\n",
       "}}\n",
       "\n",
       "// Listen for the clearing of the current output cell\n",
       "var outputEl = gd.closest('.output');\n",
       "if (outputEl) {{\n",
       "    x.observe(outputEl, {childList: true});\n",
       "}}\n",
       "\n",
       "                        })                };                });            </script>        </div>"
      ]
     },
     "metadata": {},
     "output_type": "display_data"
    }
   ],
   "source": [
    "fig = px.scatter(df, x=\"Calories\", y=\"ABV\",  hover_data=['Brand'],\n",
    "                width=800, height=800)\n",
    "fig.show()"
   ]
  },
  {
   "cell_type": "code",
   "execution_count": 86,
   "id": "9ff45310-7ac0-4ab1-ac64-de832b2591d0",
   "metadata": {},
   "outputs": [],
   "source": [
    "df['apc'] = df['ABV']/df['Calories']\n",
    "df = df.sort_values(['apc'],ascending=False)"
   ]
  },
  {
   "cell_type": "code",
   "execution_count": 89,
   "id": "5062912c-833e-452c-aa18-700f5a646452",
   "metadata": {},
   "outputs": [
    {
     "data": {
      "text/html": [
       "<div>\n",
       "<style scoped>\n",
       "    .dataframe tbody tr th:only-of-type {\n",
       "        vertical-align: middle;\n",
       "    }\n",
       "\n",
       "    .dataframe tbody tr th {\n",
       "        vertical-align: top;\n",
       "    }\n",
       "\n",
       "    .dataframe thead th {\n",
       "        text-align: right;\n",
       "    }\n",
       "</style>\n",
       "<table border=\"1\" class=\"dataframe\">\n",
       "  <thead>\n",
       "    <tr style=\"text-align: right;\">\n",
       "      <th></th>\n",
       "      <th>Brand</th>\n",
       "      <th>Calories</th>\n",
       "      <th>ABV</th>\n",
       "      <th>apc</th>\n",
       "    </tr>\n",
       "  </thead>\n",
       "  <tbody>\n",
       "    <tr>\n",
       "      <th>136</th>\n",
       "      <td>Michelob Ultra Pure Gold</td>\n",
       "      <td>85</td>\n",
       "      <td>4.30</td>\n",
       "      <td>0.050588</td>\n",
       "    </tr>\n",
       "    <tr>\n",
       "      <th>153</th>\n",
       "      <td>Natural Ice</td>\n",
       "      <td>130</td>\n",
       "      <td>5.90</td>\n",
       "      <td>0.045385</td>\n",
       "    </tr>\n",
       "    <tr>\n",
       "      <th>149</th>\n",
       "      <td>Molson Canadian 67</td>\n",
       "      <td>67</td>\n",
       "      <td>3.00</td>\n",
       "      <td>0.044776</td>\n",
       "    </tr>\n",
       "    <tr>\n",
       "      <th>33</th>\n",
       "      <td>Bud Ice</td>\n",
       "      <td>123</td>\n",
       "      <td>5.50</td>\n",
       "      <td>0.044715</td>\n",
       "    </tr>\n",
       "    <tr>\n",
       "      <th>193</th>\n",
       "      <td>Rolling Rock Green Light</td>\n",
       "      <td>83</td>\n",
       "      <td>3.70</td>\n",
       "      <td>0.044578</td>\n",
       "    </tr>\n",
       "    <tr>\n",
       "      <th>52</th>\n",
       "      <td>Corona Premier</td>\n",
       "      <td>90</td>\n",
       "      <td>4.00</td>\n",
       "      <td>0.044444</td>\n",
       "    </tr>\n",
       "    <tr>\n",
       "      <th>154</th>\n",
       "      <td>Natural Light</td>\n",
       "      <td>95</td>\n",
       "      <td>4.20</td>\n",
       "      <td>0.044211</td>\n",
       "    </tr>\n",
       "    <tr>\n",
       "      <th>133</th>\n",
       "      <td>Michelob Ultra</td>\n",
       "      <td>95</td>\n",
       "      <td>4.20</td>\n",
       "      <td>0.044211</td>\n",
       "    </tr>\n",
       "    <tr>\n",
       "      <th>37</th>\n",
       "      <td>Bud Light Platinum</td>\n",
       "      <td>137</td>\n",
       "      <td>6.00</td>\n",
       "      <td>0.043796</td>\n",
       "    </tr>\n",
       "    <tr>\n",
       "      <th>142</th>\n",
       "      <td>Miller Lite</td>\n",
       "      <td>96</td>\n",
       "      <td>4.20</td>\n",
       "      <td>0.043750</td>\n",
       "    </tr>\n",
       "    <tr>\n",
       "      <th>143</th>\n",
       "      <td>Miller64</td>\n",
       "      <td>64</td>\n",
       "      <td>2.80</td>\n",
       "      <td>0.043750</td>\n",
       "    </tr>\n",
       "    <tr>\n",
       "      <th>152</th>\n",
       "      <td>Natty Daddy</td>\n",
       "      <td>183</td>\n",
       "      <td>8.00</td>\n",
       "      <td>0.043716</td>\n",
       "    </tr>\n",
       "    <tr>\n",
       "      <th>101</th>\n",
       "      <td>Iron City Light</td>\n",
       "      <td>95</td>\n",
       "      <td>4.15</td>\n",
       "      <td>0.043684</td>\n",
       "    </tr>\n",
       "    <tr>\n",
       "      <th>41</th>\n",
       "      <td>Budweiser Select 55</td>\n",
       "      <td>55</td>\n",
       "      <td>2.40</td>\n",
       "      <td>0.043636</td>\n",
       "    </tr>\n",
       "    <tr>\n",
       "      <th>40</th>\n",
       "      <td>Budweiser Select</td>\n",
       "      <td>99</td>\n",
       "      <td>4.30</td>\n",
       "      <td>0.043434</td>\n",
       "    </tr>\n",
       "    <tr>\n",
       "      <th>43</th>\n",
       "      <td>Busch Ice</td>\n",
       "      <td>136</td>\n",
       "      <td>5.90</td>\n",
       "      <td>0.043382</td>\n",
       "    </tr>\n",
       "    <tr>\n",
       "      <th>44</th>\n",
       "      <td>Busch Light</td>\n",
       "      <td>95</td>\n",
       "      <td>4.10</td>\n",
       "      <td>0.043158</td>\n",
       "    </tr>\n",
       "    <tr>\n",
       "      <th>146</th>\n",
       "      <td>Milwaukee's Best Light</td>\n",
       "      <td>96</td>\n",
       "      <td>4.10</td>\n",
       "      <td>0.042708</td>\n",
       "    </tr>\n",
       "    <tr>\n",
       "      <th>174</th>\n",
       "      <td>Omission Ultimate Light</td>\n",
       "      <td>99</td>\n",
       "      <td>4.20</td>\n",
       "      <td>0.042424</td>\n",
       "    </tr>\n",
       "    <tr>\n",
       "      <th>96</th>\n",
       "      <td>Heineken Light</td>\n",
       "      <td>99</td>\n",
       "      <td>4.20</td>\n",
       "      <td>0.042424</td>\n",
       "    </tr>\n",
       "    <tr>\n",
       "      <th>134</th>\n",
       "      <td>Michelob Ultra Amber</td>\n",
       "      <td>95</td>\n",
       "      <td>4.00</td>\n",
       "      <td>0.042105</td>\n",
       "    </tr>\n",
       "    <tr>\n",
       "      <th>135</th>\n",
       "      <td>Michelob Ultra Lime Cactus</td>\n",
       "      <td>95</td>\n",
       "      <td>4.00</td>\n",
       "      <td>0.042105</td>\n",
       "    </tr>\n",
       "    <tr>\n",
       "      <th>102</th>\n",
       "      <td>Keystone Ice</td>\n",
       "      <td>142</td>\n",
       "      <td>5.90</td>\n",
       "      <td>0.041549</td>\n",
       "    </tr>\n",
       "    <tr>\n",
       "      <th>51</th>\n",
       "      <td>Corona Light</td>\n",
       "      <td>99</td>\n",
       "      <td>4.10</td>\n",
       "      <td>0.041414</td>\n",
       "    </tr>\n",
       "    <tr>\n",
       "      <th>7</th>\n",
       "      <td>Amstel Light</td>\n",
       "      <td>99</td>\n",
       "      <td>4.10</td>\n",
       "      <td>0.041414</td>\n",
       "    </tr>\n",
       "    <tr>\n",
       "      <th>97</th>\n",
       "      <td>Hiland Light</td>\n",
       "      <td>97</td>\n",
       "      <td>4.00</td>\n",
       "      <td>0.041237</td>\n",
       "    </tr>\n",
       "    <tr>\n",
       "      <th>48</th>\n",
       "      <td>Coors Light</td>\n",
       "      <td>102</td>\n",
       "      <td>4.20</td>\n",
       "      <td>0.041176</td>\n",
       "    </tr>\n",
       "    <tr>\n",
       "      <th>241</th>\n",
       "      <td>Southpaw Light</td>\n",
       "      <td>123</td>\n",
       "      <td>5.00</td>\n",
       "      <td>0.040650</td>\n",
       "    </tr>\n",
       "    <tr>\n",
       "      <th>222</th>\n",
       "      <td>Shipyard Light</td>\n",
       "      <td>97</td>\n",
       "      <td>3.90</td>\n",
       "      <td>0.040206</td>\n",
       "    </tr>\n",
       "    <tr>\n",
       "      <th>59</th>\n",
       "      <td>Dogfish Head 120 Minute IPA</td>\n",
       "      <td>450</td>\n",
       "      <td>18.00</td>\n",
       "      <td>0.040000</td>\n",
       "    </tr>\n",
       "  </tbody>\n",
       "</table>\n",
       "</div>"
      ],
      "text/plain": [
       "                           Brand  Calories    ABV       apc\n",
       "136     Michelob Ultra Pure Gold        85   4.30  0.050588\n",
       "153                  Natural Ice       130   5.90  0.045385\n",
       "149           Molson Canadian 67        67   3.00  0.044776\n",
       "33                       Bud Ice       123   5.50  0.044715\n",
       "193     Rolling Rock Green Light        83   3.70  0.044578\n",
       "52                Corona Premier        90   4.00  0.044444\n",
       "154                Natural Light        95   4.20  0.044211\n",
       "133               Michelob Ultra        95   4.20  0.044211\n",
       "37            Bud Light Platinum       137   6.00  0.043796\n",
       "142                  Miller Lite        96   4.20  0.043750\n",
       "143                     Miller64        64   2.80  0.043750\n",
       "152                  Natty Daddy       183   8.00  0.043716\n",
       "101              Iron City Light        95   4.15  0.043684\n",
       "41           Budweiser Select 55        55   2.40  0.043636\n",
       "40              Budweiser Select        99   4.30  0.043434\n",
       "43                     Busch Ice       136   5.90  0.043382\n",
       "44                   Busch Light        95   4.10  0.043158\n",
       "146       Milwaukee's Best Light        96   4.10  0.042708\n",
       "174      Omission Ultimate Light        99   4.20  0.042424\n",
       "96                Heineken Light        99   4.20  0.042424\n",
       "134         Michelob Ultra Amber        95   4.00  0.042105\n",
       "135   Michelob Ultra Lime Cactus        95   4.00  0.042105\n",
       "102                 Keystone Ice       142   5.90  0.041549\n",
       "51                  Corona Light        99   4.10  0.041414\n",
       "7                   Amstel Light        99   4.10  0.041414\n",
       "97                  Hiland Light        97   4.00  0.041237\n",
       "48                   Coors Light       102   4.20  0.041176\n",
       "241               Southpaw Light       123   5.00  0.040650\n",
       "222               Shipyard Light        97   3.90  0.040206\n",
       "59   Dogfish Head 120 Minute IPA       450  18.00  0.040000"
      ]
     },
     "execution_count": 89,
     "metadata": {},
     "output_type": "execute_result"
    }
   ],
   "source": [
    "df.head(30)"
   ]
  },
  {
   "cell_type": "code",
   "execution_count": null,
   "id": "16160044-2074-41f9-93ea-1c2a69ad5fa8",
   "metadata": {},
   "outputs": [],
   "source": []
  }
 ],
 "metadata": {
  "kernelspec": {
   "display_name": "Python 3 (ipykernel)",
   "language": "python",
   "name": "python3"
  },
  "language_info": {
   "codemirror_mode": {
    "name": "ipython",
    "version": 3
   },
   "file_extension": ".py",
   "mimetype": "text/x-python",
   "name": "python",
   "nbconvert_exporter": "python",
   "pygments_lexer": "ipython3",
   "version": "3.7.8"
  }
 },
 "nbformat": 4,
 "nbformat_minor": 5
}
