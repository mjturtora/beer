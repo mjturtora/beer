{
 "cells": [
  {
   "cell_type": "code",
   "execution_count": 2,
   "id": "69d600f8-520e-4d5a-9602-7e7cbddfbfb4",
   "metadata": {},
   "outputs": [
    {
     "ename": "SyntaxError",
     "evalue": "invalid syntax (155812497.py, line 1)",
     "output_type": "error",
     "traceback": [
      "\u001b[1;36m  File \u001b[1;32m\"C:\\Users\\admin\\AppData\\Local\\Temp\\ipykernel_8144\\155812497.py\"\u001b[1;36m, line \u001b[1;32m1\u001b[0m\n\u001b[1;33m    pip install dash\u001b[0m\n\u001b[1;37m              ^\u001b[0m\n\u001b[1;31mSyntaxError\u001b[0m\u001b[1;31m:\u001b[0m invalid syntax\n"
     ]
    }
   ],
   "source": [
    "pip install dash\n",
    "pip install \"ipywidgets>=7.6\""
   ]
  },
  {
   "cell_type": "code",
   "execution_count": 3,
   "id": "a728418e-f956-495c-8bda-05726df8625d",
   "metadata": {},
   "outputs": [
    {
     "name": "stdout",
     "output_type": "stream",
     "text": [
      "Collecting jupyter-dash\n",
      "  Downloading jupyter_dash-0.4.2-py3-none-any.whl (23 kB)\n",
      "Collecting ansi2html\n",
      "  Downloading ansi2html-1.7.0-py3-none-any.whl (15 kB)\n",
      "Requirement already satisfied: nest-asyncio in c:\\program files\\python\\python 3.7.8\\lib\\site-packages (from jupyter-dash) (1.5.5)\n",
      "Requirement already satisfied: ipython in c:\\program files\\python\\python 3.7.8\\lib\\site-packages (from jupyter-dash) (7.33.0)\n",
      "Requirement already satisfied: dash in c:\\program files\\python\\python 3.7.8\\lib\\site-packages (from jupyter-dash) (2.5.1)\n",
      "Collecting retrying\n",
      "  Downloading retrying-1.3.3.tar.gz (10 kB)\n",
      "  Preparing metadata (setup.py): started\n",
      "  Preparing metadata (setup.py): finished with status 'done'\n",
      "Requirement already satisfied: requests in c:\\program files\\python\\python 3.7.8\\lib\\site-packages (from jupyter-dash) (2.27.1)\n",
      "Requirement already satisfied: flask in c:\\program files\\python\\python 3.7.8\\lib\\site-packages (from jupyter-dash) (2.1.2)\n",
      "Requirement already satisfied: ipykernel in c:\\program files\\python\\python 3.7.8\\lib\\site-packages (from jupyter-dash) (6.13.0)\n",
      "Requirement already satisfied: importlib-metadata in c:\\program files\\python\\python 3.7.8\\lib\\site-packages (from ansi2html->jupyter-dash) (4.11.3)\n",
      "Requirement already satisfied: flask-compress in c:\\program files\\python\\python 3.7.8\\lib\\site-packages (from dash->jupyter-dash) (1.12)\n",
      "Requirement already satisfied: plotly>=5.0.0 in c:\\program files\\python\\python 3.7.8\\lib\\site-packages (from dash->jupyter-dash) (5.8.2)\n",
      "Requirement already satisfied: dash-core-components==2.0.0 in c:\\program files\\python\\python 3.7.8\\lib\\site-packages (from dash->jupyter-dash) (2.0.0)\n",
      "Requirement already satisfied: dash-table==5.0.0 in c:\\program files\\python\\python 3.7.8\\lib\\site-packages (from dash->jupyter-dash) (5.0.0)\n",
      "Requirement already satisfied: dash-html-components==2.0.0 in c:\\program files\\python\\python 3.7.8\\lib\\site-packages (from dash->jupyter-dash) (2.0.0)\n",
      "Requirement already satisfied: itsdangerous>=2.0 in c:\\program files\\python\\python 3.7.8\\lib\\site-packages (from flask->jupyter-dash) (2.1.2)\n",
      "Requirement already satisfied: Werkzeug>=2.0 in c:\\program files\\python\\python 3.7.8\\lib\\site-packages (from flask->jupyter-dash) (2.1.2)\n",
      "Requirement already satisfied: Jinja2>=3.0 in c:\\program files\\python\\python 3.7.8\\lib\\site-packages (from flask->jupyter-dash) (3.1.2)\n",
      "Requirement already satisfied: click>=8.0 in c:\\program files\\python\\python 3.7.8\\lib\\site-packages (from flask->jupyter-dash) (8.1.3)\n",
      "Requirement already satisfied: debugpy>=1.0 in c:\\program files\\python\\python 3.7.8\\lib\\site-packages (from ipykernel->jupyter-dash) (1.6.0)\n",
      "Requirement already satisfied: psutil in c:\\program files\\python\\python 3.7.8\\lib\\site-packages (from ipykernel->jupyter-dash) (5.9.0)\n",
      "Requirement already satisfied: traitlets>=5.1.0 in c:\\program files\\python\\python 3.7.8\\lib\\site-packages (from ipykernel->jupyter-dash) (5.2.1.post0)\n",
      "Requirement already satisfied: jupyter-client>=6.1.12 in c:\\program files\\python\\python 3.7.8\\lib\\site-packages (from ipykernel->jupyter-dash) (7.3.1)\n",
      "Requirement already satisfied: matplotlib-inline>=0.1 in c:\\program files\\python\\python 3.7.8\\lib\\site-packages (from ipykernel->jupyter-dash) (0.1.3)\n",
      "Requirement already satisfied: packaging in c:\\program files\\python\\python 3.7.8\\lib\\site-packages (from ipykernel->jupyter-dash) (21.3)\n",
      "Requirement already satisfied: tornado>=6.1 in c:\\program files\\python\\python 3.7.8\\lib\\site-packages (from ipykernel->jupyter-dash) (6.1)\n",
      "Requirement already satisfied: decorator in c:\\program files\\python\\python 3.7.8\\lib\\site-packages (from ipython->jupyter-dash) (5.1.1)\n",
      "Requirement already satisfied: pygments in c:\\program files\\python\\python 3.7.8\\lib\\site-packages (from ipython->jupyter-dash) (2.12.0)\n",
      "Requirement already satisfied: setuptools>=18.5 in c:\\program files\\python\\python 3.7.8\\lib\\site-packages (from ipython->jupyter-dash) (47.1.0)\n",
      "Requirement already satisfied: backcall in c:\\program files\\python\\python 3.7.8\\lib\\site-packages (from ipython->jupyter-dash) (0.2.0)\n",
      "Requirement already satisfied: pickleshare in c:\\program files\\python\\python 3.7.8\\lib\\site-packages (from ipython->jupyter-dash) (0.7.5)\n",
      "Requirement already satisfied: colorama in c:\\program files\\python\\python 3.7.8\\lib\\site-packages (from ipython->jupyter-dash) (0.4.4)\n",
      "Requirement already satisfied: prompt-toolkit!=3.0.0,!=3.0.1,<3.1.0,>=2.0.0 in c:\\program files\\python\\python 3.7.8\\lib\\site-packages (from ipython->jupyter-dash) (3.0.29)\n",
      "Requirement already satisfied: jedi>=0.16 in c:\\program files\\python\\python 3.7.8\\lib\\site-packages (from ipython->jupyter-dash) (0.18.1)\n",
      "Requirement already satisfied: certifi>=2017.4.17 in c:\\program files\\python\\python 3.7.8\\lib\\site-packages (from requests->jupyter-dash) (2021.10.8)\n",
      "Requirement already satisfied: idna<4,>=2.5 in c:\\program files\\python\\python 3.7.8\\lib\\site-packages (from requests->jupyter-dash) (3.3)\n",
      "Requirement already satisfied: urllib3<1.27,>=1.21.1 in c:\\program files\\python\\python 3.7.8\\lib\\site-packages (from requests->jupyter-dash) (1.26.8)\n",
      "Requirement already satisfied: charset-normalizer~=2.0.0 in c:\\program files\\python\\python 3.7.8\\lib\\site-packages (from requests->jupyter-dash) (2.0.12)\n",
      "Requirement already satisfied: six>=1.7.0 in c:\\program files\\python\\python 3.7.8\\lib\\site-packages (from retrying->jupyter-dash) (1.16.0)\n",
      "Requirement already satisfied: typing-extensions>=3.6.4 in c:\\program files\\python\\python 3.7.8\\lib\\site-packages (from importlib-metadata->ansi2html->jupyter-dash) (4.1.1)\n",
      "Requirement already satisfied: zipp>=0.5 in c:\\program files\\python\\python 3.7.8\\lib\\site-packages (from importlib-metadata->ansi2html->jupyter-dash) (3.8.0)\n",
      "Requirement already satisfied: parso<0.9.0,>=0.8.0 in c:\\program files\\python\\python 3.7.8\\lib\\site-packages (from jedi>=0.16->ipython->jupyter-dash) (0.8.3)\n",
      "Requirement already satisfied: MarkupSafe>=2.0 in c:\\program files\\python\\python 3.7.8\\lib\\site-packages (from Jinja2>=3.0->flask->jupyter-dash) (2.1.1)\n",
      "Requirement already satisfied: python-dateutil>=2.8.2 in c:\\program files\\python\\python 3.7.8\\lib\\site-packages (from jupyter-client>=6.1.12->ipykernel->jupyter-dash) (2.8.2)\n",
      "Requirement already satisfied: entrypoints in c:\\program files\\python\\python 3.7.8\\lib\\site-packages (from jupyter-client>=6.1.12->ipykernel->jupyter-dash) (0.4)\n",
      "Requirement already satisfied: jupyter-core>=4.9.2 in c:\\program files\\python\\python 3.7.8\\lib\\site-packages (from jupyter-client>=6.1.12->ipykernel->jupyter-dash) (4.10.0)\n",
      "Requirement already satisfied: pyzmq>=22.3 in c:\\program files\\python\\python 3.7.8\\lib\\site-packages (from jupyter-client>=6.1.12->ipykernel->jupyter-dash) (22.3.0)\n",
      "Requirement already satisfied: tenacity>=6.2.0 in c:\\program files\\python\\python 3.7.8\\lib\\site-packages (from plotly>=5.0.0->dash->jupyter-dash) (8.0.1)\n",
      "Requirement already satisfied: wcwidth in c:\\program files\\python\\python 3.7.8\\lib\\site-packages (from prompt-toolkit!=3.0.0,!=3.0.1,<3.1.0,>=2.0.0->ipython->jupyter-dash) (0.2.5)\n",
      "Requirement already satisfied: brotli in c:\\program files\\python\\python 3.7.8\\lib\\site-packages (from flask-compress->dash->jupyter-dash) (1.0.9)\n",
      "Requirement already satisfied: pyparsing!=3.0.5,>=2.0.2 in c:\\program files\\python\\python 3.7.8\\lib\\site-packages (from packaging->ipykernel->jupyter-dash) (3.0.9)\n",
      "Requirement already satisfied: pywin32>=1.0 in c:\\program files\\python\\python 3.7.8\\lib\\site-packages (from jupyter-core>=4.9.2->jupyter-client>=6.1.12->ipykernel->jupyter-dash) (304)\n",
      "Using legacy 'setup.py install' for retrying, since package 'wheel' is not installed.\n",
      "Installing collected packages: retrying, ansi2html, jupyter-dash\n",
      "  Running setup.py install for retrying: started\n",
      "  Running setup.py install for retrying: finished with status 'done'\n",
      "Successfully installed ansi2html-1.7.0 jupyter-dash-0.4.2 retrying-1.3.3\n",
      "Note: you may need to restart the kernel to use updated packages.\n"
     ]
    }
   ],
   "source": [
    "pip install jupyter-dash"
   ]
  },
  {
   "cell_type": "code",
   "execution_count": null,
   "id": "fc8153da-1dbf-4d98-b6c6-f5240404e81c",
   "metadata": {},
   "outputs": [
    {
     "name": "stdout",
     "output_type": "stream",
     "text": [
      "Dash is running on http://127.0.0.1:8050/\n",
      "\n",
      " * Serving Flask app '__main__' (lazy loading)\n",
      " * Environment: production\n",
      "\u001b[31m   WARNING: This is a development server. Do not use it in a production deployment.\u001b[0m\n",
      "\u001b[2m   Use a production WSGI server instead.\u001b[0m\n",
      " * Debug mode: off\n"
     ]
    },
    {
     "name": "stderr",
     "output_type": "stream",
     "text": [
      " * Running on http://127.0.0.1:8050 (Press CTRL+C to quit)\n",
      "127.0.0.1 - - [05/Jul/2022 10:04:21] \"GET / HTTP/1.1\" 200 -\n",
      "127.0.0.1 - - [05/Jul/2022 10:04:21] \"GET /_dash-component-suites/dash/deps/react-dom@16.v2_5_1m1656963046.14.0.min.js HTTP/1.1\" 200 -\n",
      "127.0.0.1 - - [05/Jul/2022 10:04:21] \"GET /_dash-component-suites/dash/deps/prop-types@15.v2_5_1m1656963046.8.1.min.js HTTP/1.1\" 200 -\n",
      "127.0.0.1 - - [05/Jul/2022 10:04:21] \"GET /_dash-component-suites/dash/deps/react@16.v2_5_1m1656963046.14.0.min.js HTTP/1.1\" 200 -\n",
      "127.0.0.1 - - [05/Jul/2022 10:04:21] \"GET /_dash-component-suites/dash/dcc/dash_core_components-shared.v2_5_0m1656963046.js HTTP/1.1\" 200 -\n",
      "127.0.0.1 - - [05/Jul/2022 10:04:21] \"GET /_dash-component-suites/dash/deps/polyfill@7.v2_5_1m1656963046.12.1.min.js HTTP/1.1\" 200 -\n",
      "127.0.0.1 - - [05/Jul/2022 10:04:21] \"GET /_dash-component-suites/dash/dash_table/bundle.v5_1_3m1656963046.js HTTP/1.1\" 200 -\n",
      "127.0.0.1 - - [05/Jul/2022 10:04:21] \"GET /_dash-component-suites/dash/dash-renderer/build/dash_renderer.v2_5_1m1656963046.min.js HTTP/1.1\" 200 -\n",
      "127.0.0.1 - - [05/Jul/2022 10:04:21] \"GET /_dash-component-suites/dash/html/dash_html_components.v2_0_3m1656963046.min.js HTTP/1.1\" 200 -\n",
      "127.0.0.1 - - [05/Jul/2022 10:04:21] \"GET /_dash-component-suites/dash/dcc/dash_core_components.v2_5_0m1656963046.js HTTP/1.1\" 200 -\n",
      "127.0.0.1 - - [05/Jul/2022 10:04:21] \"GET /_dash-layout HTTP/1.1\" 200 -\n",
      "127.0.0.1 - - [05/Jul/2022 10:04:21] \"GET /_dash-dependencies HTTP/1.1\" 200 -\n",
      "127.0.0.1 - - [05/Jul/2022 10:04:21] \"GET /_favicon.ico?v=2.5.1 HTTP/1.1\" 200 -\n",
      "127.0.0.1 - - [05/Jul/2022 10:17:34] \"GET / HTTP/1.1\" 200 -\n",
      "127.0.0.1 - - [05/Jul/2022 10:17:34] \"GET /_dash-layout HTTP/1.1\" 200 -\n",
      "127.0.0.1 - - [05/Jul/2022 10:17:34] \"GET /_dash-dependencies HTTP/1.1\" 200 -\n"
     ]
    }
   ],
   "source": [
    "from dash import Dash, dcc, html\n",
    "\n",
    "app = Dash(__name__)\n",
    "\n",
    "app.layout = html.Div([\n",
    "    dcc.Input(\n",
    "        placeholder='Enter a value...',\n",
    "        type='text',\n",
    "        value=''\n",
    "    )\n",
    "])\n",
    "\n",
    "if __name__ == '__main__':\n",
    "    app.run_server(debug=False)"
   ]
  },
  {
   "cell_type": "code",
   "execution_count": null,
   "id": "70bc5dfa-4e91-4d40-96f7-1aa59db1ba75",
   "metadata": {},
   "outputs": [],
   "source": []
  }
 ],
 "metadata": {
  "kernelspec": {
   "display_name": "Python 3 (ipykernel)",
   "language": "python",
   "name": "python3"
  },
  "language_info": {
   "codemirror_mode": {
    "name": "ipython",
    "version": 3
   },
   "file_extension": ".py",
   "mimetype": "text/x-python",
   "name": "python",
   "nbconvert_exporter": "python",
   "pygments_lexer": "ipython3",
   "version": "3.7.8"
  }
 },
 "nbformat": 4,
 "nbformat_minor": 5
}
